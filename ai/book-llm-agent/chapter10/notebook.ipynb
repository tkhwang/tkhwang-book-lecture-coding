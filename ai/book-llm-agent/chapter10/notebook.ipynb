{
  "cells": [
    {
      "cell_type": "markdown",
      "metadata": {
        "id": "rE5ogDoOy2lC"
      },
      "source": [
        "# 요구사항 정의서 생성 AI 에이전트 개발"
      ]
    },
    {
      "cell_type": "code",
      "execution_count": 1,
      "metadata": {
        "id": "GUI2SBRcy2lD",
        "outputId": "db962ce7-0694-48e4-8a2c-4b064556b4cb",
        "colab": {
          "base_uri": "https://localhost:8080/"
        }
      },
      "outputs": [
        {
          "output_type": "stream",
          "name": "stdout",
          "text": [
            "Cloning into 'llm-agent'...\n",
            "remote: Enumerating objects: 628, done.\u001b[K\n",
            "remote: Counting objects: 100% (179/179), done.\u001b[K\n",
            "remote: Compressing objects: 100% (115/115), done.\u001b[K\n",
            "remote: Total 628 (delta 109), reused 97 (delta 64), pack-reused 449 (from 2)\u001b[K\n",
            "Receiving objects: 100% (628/628), 1.92 MiB | 7.34 MiB/s, done.\n",
            "Resolving deltas: 100% (328/328), done.\n"
          ]
        }
      ],
      "source": [
        "!git clone https://github.com/ychoi-kr/llm-agent.git"
      ]
    },
    {
      "cell_type": "code",
      "execution_count": 2,
      "metadata": {
        "id": "aq3q4QAoy2lE",
        "outputId": "5e40ae79-f1a9-4c46-a890-35257b12bbc5",
        "colab": {
          "base_uri": "https://localhost:8080/"
        }
      },
      "outputs": [
        {
          "output_type": "stream",
          "name": "stdout",
          "text": [
            "/content/llm-agent\n",
            "/content/llm-agent/chapter10\n"
          ]
        }
      ],
      "source": [
        "%cd llm-agent\n",
        "%cd chapter10"
      ]
    },
    {
      "cell_type": "code",
      "execution_count": 7,
      "metadata": {
        "id": "vFG889Z5y2lE",
        "outputId": "89f766b4-d09d-4c19-eb42-bc55ab8298cb",
        "colab": {
          "base_uri": "https://localhost:8080/"
        }
      },
      "outputs": [
        {
          "output_type": "stream",
          "name": "stdout",
          "text": [
            "Collecting langchain==0.3.0\n",
            "  Downloading langchain-0.3.0-py3-none-any.whl.metadata (7.1 kB)\n",
            "Requirement already satisfied: langchain-core==0.3.0 in /usr/local/lib/python3.11/dist-packages (0.3.0)\n",
            "Requirement already satisfied: langchain-openai==0.2.0 in /usr/local/lib/python3.11/dist-packages (0.2.0)\n",
            "Requirement already satisfied: langgraph==0.2.22 in /usr/local/lib/python3.11/dist-packages (0.2.22)\n",
            "Requirement already satisfied: langchain-text-splitters==0.3.0 in /usr/local/lib/python3.11/dist-packages (0.3.0)\n",
            "Requirement already satisfied: python-dotenv==1.0.1 in /usr/local/lib/python3.11/dist-packages (1.0.1)\n",
            "Requirement already satisfied: pydantic==2.9.2 in /usr/local/lib/python3.11/dist-packages (2.9.2)\n",
            "Requirement already satisfied: PyYAML>=5.3 in /usr/local/lib/python3.11/dist-packages (from langchain==0.3.0) (6.0.2)\n",
            "Requirement already satisfied: SQLAlchemy<3,>=1.4 in /usr/local/lib/python3.11/dist-packages (from langchain==0.3.0) (2.0.40)\n",
            "Requirement already satisfied: aiohttp<4.0.0,>=3.8.3 in /usr/local/lib/python3.11/dist-packages (from langchain==0.3.0) (3.11.15)\n",
            "Requirement already satisfied: langsmith<0.2.0,>=0.1.17 in /usr/local/lib/python3.11/dist-packages (from langchain==0.3.0) (0.1.147)\n",
            "Collecting numpy<2,>=1 (from langchain==0.3.0)\n",
            "  Downloading numpy-1.26.4-cp311-cp311-manylinux_2_17_x86_64.manylinux2014_x86_64.whl.metadata (61 kB)\n",
            "\u001b[2K     \u001b[90m━━━━━━━━━━━━━━━━━━━━━━━━━━━━━━━━━━━━━━━━\u001b[0m \u001b[32m61.0/61.0 kB\u001b[0m \u001b[31m1.1 MB/s\u001b[0m eta \u001b[36m0:00:00\u001b[0m\n",
            "\u001b[?25hRequirement already satisfied: requests<3,>=2 in /usr/local/lib/python3.11/dist-packages (from langchain==0.3.0) (2.32.3)\n",
            "Requirement already satisfied: tenacity!=8.4.0,<9.0.0,>=8.1.0 in /usr/local/lib/python3.11/dist-packages (from langchain==0.3.0) (8.5.0)\n",
            "Requirement already satisfied: jsonpatch<2.0,>=1.33 in /usr/local/lib/python3.11/dist-packages (from langchain-core==0.3.0) (1.33)\n",
            "Requirement already satisfied: packaging<25,>=23.2 in /usr/local/lib/python3.11/dist-packages (from langchain-core==0.3.0) (24.2)\n",
            "Requirement already satisfied: typing-extensions>=4.7 in /usr/local/lib/python3.11/dist-packages (from langchain-core==0.3.0) (4.13.1)\n",
            "Requirement already satisfied: openai<2.0.0,>=1.40.0 in /usr/local/lib/python3.11/dist-packages (from langchain-openai==0.2.0) (1.72.0)\n",
            "Requirement already satisfied: tiktoken<1,>=0.7 in /usr/local/lib/python3.11/dist-packages (from langchain-openai==0.2.0) (0.9.0)\n",
            "Requirement already satisfied: langgraph-checkpoint<2.0.0,>=1.0.2 in /usr/local/lib/python3.11/dist-packages (from langgraph==0.2.22) (1.0.12)\n",
            "Requirement already satisfied: annotated-types>=0.6.0 in /usr/local/lib/python3.11/dist-packages (from pydantic==2.9.2) (0.7.0)\n",
            "Requirement already satisfied: pydantic-core==2.23.4 in /usr/local/lib/python3.11/dist-packages (from pydantic==2.9.2) (2.23.4)\n",
            "Requirement already satisfied: aiohappyeyeballs>=2.3.0 in /usr/local/lib/python3.11/dist-packages (from aiohttp<4.0.0,>=3.8.3->langchain==0.3.0) (2.6.1)\n",
            "Requirement already satisfied: aiosignal>=1.1.2 in /usr/local/lib/python3.11/dist-packages (from aiohttp<4.0.0,>=3.8.3->langchain==0.3.0) (1.3.2)\n",
            "Requirement already satisfied: attrs>=17.3.0 in /usr/local/lib/python3.11/dist-packages (from aiohttp<4.0.0,>=3.8.3->langchain==0.3.0) (25.3.0)\n",
            "Requirement already satisfied: frozenlist>=1.1.1 in /usr/local/lib/python3.11/dist-packages (from aiohttp<4.0.0,>=3.8.3->langchain==0.3.0) (1.5.0)\n",
            "Requirement already satisfied: multidict<7.0,>=4.5 in /usr/local/lib/python3.11/dist-packages (from aiohttp<4.0.0,>=3.8.3->langchain==0.3.0) (6.4.2)\n",
            "Requirement already satisfied: propcache>=0.2.0 in /usr/local/lib/python3.11/dist-packages (from aiohttp<4.0.0,>=3.8.3->langchain==0.3.0) (0.3.1)\n",
            "Requirement already satisfied: yarl<2.0,>=1.17.0 in /usr/local/lib/python3.11/dist-packages (from aiohttp<4.0.0,>=3.8.3->langchain==0.3.0) (1.19.0)\n",
            "Requirement already satisfied: jsonpointer>=1.9 in /usr/local/lib/python3.11/dist-packages (from jsonpatch<2.0,>=1.33->langchain-core==0.3.0) (3.0.0)\n",
            "Requirement already satisfied: msgpack<2.0.0,>=1.1.0 in /usr/local/lib/python3.11/dist-packages (from langgraph-checkpoint<2.0.0,>=1.0.2->langgraph==0.2.22) (1.1.0)\n",
            "Requirement already satisfied: httpx<1,>=0.23.0 in /usr/local/lib/python3.11/dist-packages (from langsmith<0.2.0,>=0.1.17->langchain==0.3.0) (0.28.1)\n",
            "Requirement already satisfied: orjson<4.0.0,>=3.9.14 in /usr/local/lib/python3.11/dist-packages (from langsmith<0.2.0,>=0.1.17->langchain==0.3.0) (3.10.16)\n",
            "Requirement already satisfied: requests-toolbelt<2.0.0,>=1.0.0 in /usr/local/lib/python3.11/dist-packages (from langsmith<0.2.0,>=0.1.17->langchain==0.3.0) (1.0.0)\n",
            "Requirement already satisfied: anyio<5,>=3.5.0 in /usr/local/lib/python3.11/dist-packages (from openai<2.0.0,>=1.40.0->langchain-openai==0.2.0) (4.9.0)\n",
            "Requirement already satisfied: distro<2,>=1.7.0 in /usr/local/lib/python3.11/dist-packages (from openai<2.0.0,>=1.40.0->langchain-openai==0.2.0) (1.9.0)\n",
            "Requirement already satisfied: jiter<1,>=0.4.0 in /usr/local/lib/python3.11/dist-packages (from openai<2.0.0,>=1.40.0->langchain-openai==0.2.0) (0.9.0)\n",
            "Requirement already satisfied: sniffio in /usr/local/lib/python3.11/dist-packages (from openai<2.0.0,>=1.40.0->langchain-openai==0.2.0) (1.3.1)\n",
            "Requirement already satisfied: tqdm>4 in /usr/local/lib/python3.11/dist-packages (from openai<2.0.0,>=1.40.0->langchain-openai==0.2.0) (4.67.1)\n",
            "Requirement already satisfied: charset-normalizer<4,>=2 in /usr/local/lib/python3.11/dist-packages (from requests<3,>=2->langchain==0.3.0) (3.4.1)\n",
            "Requirement already satisfied: idna<4,>=2.5 in /usr/local/lib/python3.11/dist-packages (from requests<3,>=2->langchain==0.3.0) (3.10)\n",
            "Requirement already satisfied: urllib3<3,>=1.21.1 in /usr/local/lib/python3.11/dist-packages (from requests<3,>=2->langchain==0.3.0) (2.3.0)\n",
            "Requirement already satisfied: certifi>=2017.4.17 in /usr/local/lib/python3.11/dist-packages (from requests<3,>=2->langchain==0.3.0) (2025.1.31)\n",
            "Requirement already satisfied: greenlet>=1 in /usr/local/lib/python3.11/dist-packages (from SQLAlchemy<3,>=1.4->langchain==0.3.0) (3.1.1)\n",
            "Requirement already satisfied: regex>=2022.1.18 in /usr/local/lib/python3.11/dist-packages (from tiktoken<1,>=0.7->langchain-openai==0.2.0) (2024.11.6)\n",
            "Requirement already satisfied: httpcore==1.* in /usr/local/lib/python3.11/dist-packages (from httpx<1,>=0.23.0->langsmith<0.2.0,>=0.1.17->langchain==0.3.0) (1.0.7)\n",
            "Requirement already satisfied: h11<0.15,>=0.13 in /usr/local/lib/python3.11/dist-packages (from httpcore==1.*->httpx<1,>=0.23.0->langsmith<0.2.0,>=0.1.17->langchain==0.3.0) (0.14.0)\n",
            "Downloading langchain-0.3.0-py3-none-any.whl (1.0 MB)\n",
            "\u001b[2K   \u001b[90m━━━━━━━━━━━━━━━━━━━━━━━━━━━━━━━━━━━━━━━━\u001b[0m \u001b[32m1.0/1.0 MB\u001b[0m \u001b[31m7.1 MB/s\u001b[0m eta \u001b[36m0:00:00\u001b[0m\n",
            "\u001b[?25hDownloading numpy-1.26.4-cp311-cp311-manylinux_2_17_x86_64.manylinux2014_x86_64.whl (18.3 MB)\n",
            "\u001b[2K   \u001b[90m━━━━━━━━━━━━━━━━━━━━━━━━━━━━━━━━━━━━━━━━\u001b[0m \u001b[32m18.3/18.3 MB\u001b[0m \u001b[31m56.1 MB/s\u001b[0m eta \u001b[36m0:00:00\u001b[0m\n",
            "\u001b[?25hInstalling collected packages: numpy, langchain\n",
            "  Attempting uninstall: numpy\n",
            "    Found existing installation: numpy 2.0.2\n",
            "    Uninstalling numpy-2.0.2:\n",
            "      Successfully uninstalled numpy-2.0.2\n",
            "  Attempting uninstall: langchain\n",
            "    Found existing installation: langchain 0.3.23\n",
            "    Uninstalling langchain-0.3.23:\n",
            "      Successfully uninstalled langchain-0.3.23\n",
            "\u001b[31mERROR: pip's dependency resolver does not currently take into account all the packages that are installed. This behaviour is the source of the following dependency conflicts.\n",
            "thinc 8.3.6 requires numpy<3.0.0,>=2.0.0, but you have numpy 1.26.4 which is incompatible.\u001b[0m\u001b[31m\n",
            "\u001b[0mSuccessfully installed langchain-0.3.0 numpy-1.26.4\n"
          ]
        }
      ],
      "source": [
        "!pip install langchain==0.3.0 langchain-core==0.3.0 langchain-openai==0.2.0 langgraph==0.2.22 langchain-text-splitters==0.3.0 python-dotenv==1.0.1 pydantic==2.9.2"
      ]
    },
    {
      "cell_type": "code",
      "execution_count": 8,
      "metadata": {
        "id": "F0ardbFjy2lE"
      },
      "outputs": [],
      "source": [
        "import os\n",
        "from google.colab import userdata\n",
        "\n",
        "os.environ[\"OPENAI_API_KEY\"] = userdata.get(\"OPENAI_API_KEY\")\n",
        "os.environ[\"LANGCHAIN_TRACING_V2\"] = \"true\"\n",
        "os.environ[\"LANGCHAIN_ENDPOINT\"] = \"https://api.smith.langchain.com\"\n",
        "os.environ[\"LANGCHAIN_API_KEY\"] = userdata.get(\"LANGCHAIN_API_KEY\")\n",
        "os.environ[\"LANGCHAIN_PROJECT\"] = \"agent-book\""
      ]
    },
    {
      "cell_type": "code",
      "execution_count": 9,
      "metadata": {
        "id": "z5Jwsa3my2lE",
        "outputId": "e0e39dce-cfc0-49d7-94b0-d7cb34c01167",
        "colab": {
          "base_uri": "https://localhost:8080/"
        }
      },
      "outputs": [
        {
          "output_type": "stream",
          "name": "stdout",
          "text": [
            "# 건강 관리 앱 요구사항 문서\n",
            "\n",
            "## 1. 프로젝트 개요\n",
            "이 프로젝트는 스마트폰용 건강 관리 앱을 개발하는 것을 목표로 합니다. 이 앱은 사용자의 건강 상태를 모니터링하고, 개인 맞춤형 건강 관리 솔루션을 제공하여 사용자가 더 나은 삶의 질을 추구할 수 있도록 돕습니다. 최신 기술을 활용하여 개인화된 접근을 제공하며, 다양한 사용자 페르소나의 요구를 반영하여 설계됩니다.\n",
            "\n",
            "## 2. 주요 기능\n",
            "1. **개인 맞춤형 운동 계획**\n",
            "   - AI를 활용하여 사용자의 신체 상태와 목표에 맞춘 운동 계획 제공\n",
            "   - 운동 진행 상황 추적 및 피드백 제공\n",
            "\n",
            "2. **영양 관리 및 식단 추천**\n",
            "   - 사용자의 식습관 분석 및 필요한 영양소 기반 식단 추천\n",
            "   - 간편한 식단 기록 기능\n",
            "\n",
            "3. **스트레스 관리 및 명상 가이드**\n",
            "   - 스트레스 수준 모니터링 및 명상, 호흡 운동 가이드 제공\n",
            "\n",
            "4. **수면 추적 및 개선**\n",
            "   - 수면 패턴 분석 및 수면의 질 개선을 위한 팁 제공\n",
            "\n",
            "5. **가족 건강 관리**\n",
            "   - 가족 구성원의 건강 상태 및 병원 예약 상황 관리\n",
            "   - 건강 관련 알림 기능 (예: 건강 검진, 예방 접종 시기)\n",
            "\n",
            "6. **걸음 수 측정 및 물 마시기 알림**\n",
            "   - 자동 걸음 수 기록 및 수분 섭취 알림 기능\n",
            "\n",
            "7. **실시간 건강 상태 모니터링**\n",
            "   - 웨어러블 기기 연동을 통한 심박수, 스트레스 지수 실시간 체크 및 피드백\n",
            "\n",
            "8. **빠른 운동 추적**\n",
            "   - GPS를 활용한 걷기, 달리기 기록 및 간단한 운동 루틴 제안\n",
            "\n",
            "## 3. 비기능 요구사항\n",
            "- **사용자 친화적 인터페이스**: 직관적이고 사용하기 쉬운 UI/UX 제공\n",
            "- **데이터 보안**: 사용자 건강 데이터의 안전한 저장 및 전송\n",
            "- **플랫폼 호환성**: iOS 및 Android 지원\n",
            "- **성능**: 빠른 응답 시간과 안정적인 작동\n",
            "\n",
            "## 4. 제약 조건\n",
            "- **개발 예산**: 제한된 예산 내에서 개발\n",
            "- **개발 기간**: 6개월 내 출시 목표\n",
            "- **기술 스택**: 기존 팀의 기술 역량에 맞춘 기술 스택 사용\n",
            "\n",
            "## 5. 타겟 사용자\n",
            "- 최신 기술에 관심이 많고 건강 관리에 관심이 있는 20~60대 사용자\n",
            "- 가족의 건강을 관리하고자 하는 주부\n",
            "- 바쁜 일상 속에서도 간편한 건강 관리를 원하는 직장인\n",
            "\n",
            "## 6. 우선순위\n",
            "1. 개인 맞춤형 운동 계획\n",
            "2. 영양 관리 및 식단 추천\n",
            "3. 스트레스 관리 및 명상 가이드\n",
            "4. 수면 추적 및 개선\n",
            "5. 가족 건강 관리\n",
            "6. 걸음 수 측정 및 물 마시기 알림\n",
            "7. 실시간 건강 상태 모니터링\n",
            "8. 빠른 운동 추적\n",
            "\n",
            "## 7. 리스크와 완화 방안\n",
            "- **리스크**: 데이터 보안 문제\n",
            "  - **완화 방안**: 최신 보안 프로토콜 적용 및 정기적인 보안 점검\n",
            "- **리스크**: 사용자 인터페이스 복잡성\n",
            "  - **완화 방안**: 사용자 테스트를 통한 UI/UX 개선\n",
            "- **리스크**: 개발 일정 지연\n",
            "  - **완화 방안**: 철저한 프로젝트 관리 및 주기적인 진행 상황 점검\n",
            "\n",
            "이 문서는 다양한 사용자 요구를 반영하여 건강 관리 앱 개발을 위한 명확한 방향성을 제시합니다. 각 기능은 사용자의 건강 관리 목표를 지원하며, 비기능 요구사항과 제약 조건을 고려하여 최적의 사용자 경험을 제공하는 것을 목표로 합니다.\n"
          ]
        }
      ],
      "source": [
        "!python -m documentation_agent.main --task \"스마트폰용 건강 관리 앱을 개발하고 싶다\""
      ]
    }
  ],
  "metadata": {
    "language_info": {
      "name": "python"
    },
    "colab": {
      "provenance": []
    },
    "kernelspec": {
      "name": "python3",
      "display_name": "Python 3"
    }
  },
  "nbformat": 4,
  "nbformat_minor": 0
}