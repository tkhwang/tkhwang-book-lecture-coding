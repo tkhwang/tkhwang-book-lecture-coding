{
  "cells": [
    {
      "cell_type": "markdown",
      "metadata": {
        "id": "sgx47CkAnv_j"
      },
      "source": [
        "# LangGraph로 만드는 AI 에이전트 실전 입문"
      ]
    },
    {
      "cell_type": "markdown",
      "metadata": {
        "id": "jOWzn41rnv_k"
      },
      "source": [
        "## 9.3 Q&A 애플리케이션 실습"
      ]
    },
    {
      "cell_type": "code",
      "execution_count": 1,
      "metadata": {
        "id": "mbeix2XOnv_k",
        "outputId": "22e34550-3661-4572-9e51-2b647084414a",
        "colab": {
          "base_uri": "https://localhost:8080/"
        }
      },
      "outputs": [
        {
          "output_type": "stream",
          "name": "stdout",
          "text": [
            "Collecting langchain==0.3.0\n",
            "  Downloading langchain-0.3.0-py3-none-any.whl.metadata (7.1 kB)\n",
            "Collecting langchain-openai==0.2.0\n",
            "  Downloading langchain_openai-0.2.0-py3-none-any.whl.metadata (2.6 kB)\n",
            "Collecting langgraph==0.2.22\n",
            "  Downloading langgraph-0.2.22-py3-none-any.whl.metadata (13 kB)\n",
            "Collecting pydantic==2.9.2\n",
            "  Downloading pydantic-2.9.2-py3-none-any.whl.metadata (149 kB)\n",
            "\u001b[2K     \u001b[90m━━━━━━━━━━━━━━━━━━━━━━━━━━━━━━━━━━━━━━━\u001b[0m \u001b[32m149.4/149.4 kB\u001b[0m \u001b[31m3.1 MB/s\u001b[0m eta \u001b[36m0:00:00\u001b[0m\n",
            "\u001b[?25hRequirement already satisfied: PyYAML>=5.3 in /usr/local/lib/python3.11/dist-packages (from langchain==0.3.0) (6.0.2)\n",
            "Requirement already satisfied: SQLAlchemy<3,>=1.4 in /usr/local/lib/python3.11/dist-packages (from langchain==0.3.0) (2.0.40)\n",
            "Requirement already satisfied: aiohttp<4.0.0,>=3.8.3 in /usr/local/lib/python3.11/dist-packages (from langchain==0.3.0) (3.11.15)\n",
            "Requirement already satisfied: langchain-core<0.4.0,>=0.3.0 in /usr/local/lib/python3.11/dist-packages (from langchain==0.3.0) (0.3.51)\n",
            "Requirement already satisfied: langchain-text-splitters<0.4.0,>=0.3.0 in /usr/local/lib/python3.11/dist-packages (from langchain==0.3.0) (0.3.8)\n",
            "Collecting langsmith<0.2.0,>=0.1.17 (from langchain==0.3.0)\n",
            "  Downloading langsmith-0.1.147-py3-none-any.whl.metadata (14 kB)\n",
            "Collecting numpy<2,>=1 (from langchain==0.3.0)\n",
            "  Downloading numpy-1.26.4-cp311-cp311-manylinux_2_17_x86_64.manylinux2014_x86_64.whl.metadata (61 kB)\n",
            "\u001b[2K     \u001b[90m━━━━━━━━━━━━━━━━━━━━━━━━━━━━━━━━━━━━━━━\u001b[0m \u001b[32m61.0/61.0 kB\u001b[0m \u001b[31m539.9 kB/s\u001b[0m eta \u001b[36m0:00:00\u001b[0m\n",
            "\u001b[?25hRequirement already satisfied: requests<3,>=2 in /usr/local/lib/python3.11/dist-packages (from langchain==0.3.0) (2.32.3)\n",
            "Collecting tenacity!=8.4.0,<9.0.0,>=8.1.0 (from langchain==0.3.0)\n",
            "  Downloading tenacity-8.5.0-py3-none-any.whl.metadata (1.2 kB)\n",
            "Requirement already satisfied: openai<2.0.0,>=1.40.0 in /usr/local/lib/python3.11/dist-packages (from langchain-openai==0.2.0) (1.70.0)\n",
            "Collecting tiktoken<1,>=0.7 (from langchain-openai==0.2.0)\n",
            "  Downloading tiktoken-0.9.0-cp311-cp311-manylinux_2_17_x86_64.manylinux2014_x86_64.whl.metadata (6.7 kB)\n",
            "Collecting langgraph-checkpoint<2.0.0,>=1.0.2 (from langgraph==0.2.22)\n",
            "  Downloading langgraph_checkpoint-1.0.12-py3-none-any.whl.metadata (4.6 kB)\n",
            "Requirement already satisfied: annotated-types>=0.6.0 in /usr/local/lib/python3.11/dist-packages (from pydantic==2.9.2) (0.7.0)\n",
            "Collecting pydantic-core==2.23.4 (from pydantic==2.9.2)\n",
            "  Downloading pydantic_core-2.23.4-cp311-cp311-manylinux_2_17_x86_64.manylinux2014_x86_64.whl.metadata (6.6 kB)\n",
            "Requirement already satisfied: typing-extensions>=4.6.1 in /usr/local/lib/python3.11/dist-packages (from pydantic==2.9.2) (4.13.1)\n",
            "Requirement already satisfied: aiohappyeyeballs>=2.3.0 in /usr/local/lib/python3.11/dist-packages (from aiohttp<4.0.0,>=3.8.3->langchain==0.3.0) (2.6.1)\n",
            "Requirement already satisfied: aiosignal>=1.1.2 in /usr/local/lib/python3.11/dist-packages (from aiohttp<4.0.0,>=3.8.3->langchain==0.3.0) (1.3.2)\n",
            "Requirement already satisfied: attrs>=17.3.0 in /usr/local/lib/python3.11/dist-packages (from aiohttp<4.0.0,>=3.8.3->langchain==0.3.0) (25.3.0)\n",
            "Requirement already satisfied: frozenlist>=1.1.1 in /usr/local/lib/python3.11/dist-packages (from aiohttp<4.0.0,>=3.8.3->langchain==0.3.0) (1.5.0)\n",
            "Requirement already satisfied: multidict<7.0,>=4.5 in /usr/local/lib/python3.11/dist-packages (from aiohttp<4.0.0,>=3.8.3->langchain==0.3.0) (6.3.2)\n",
            "Requirement already satisfied: propcache>=0.2.0 in /usr/local/lib/python3.11/dist-packages (from aiohttp<4.0.0,>=3.8.3->langchain==0.3.0) (0.3.1)\n",
            "Requirement already satisfied: yarl<2.0,>=1.17.0 in /usr/local/lib/python3.11/dist-packages (from aiohttp<4.0.0,>=3.8.3->langchain==0.3.0) (1.18.3)\n",
            "Requirement already satisfied: jsonpatch<2.0,>=1.33 in /usr/local/lib/python3.11/dist-packages (from langchain-core<0.4.0,>=0.3.0->langchain==0.3.0) (1.33)\n",
            "Requirement already satisfied: packaging<25,>=23.2 in /usr/local/lib/python3.11/dist-packages (from langchain-core<0.4.0,>=0.3.0->langchain==0.3.0) (24.2)\n",
            "Requirement already satisfied: msgpack<2.0.0,>=1.1.0 in /usr/local/lib/python3.11/dist-packages (from langgraph-checkpoint<2.0.0,>=1.0.2->langgraph==0.2.22) (1.1.0)\n",
            "Requirement already satisfied: httpx<1,>=0.23.0 in /usr/local/lib/python3.11/dist-packages (from langsmith<0.2.0,>=0.1.17->langchain==0.3.0) (0.28.1)\n",
            "Requirement already satisfied: orjson<4.0.0,>=3.9.14 in /usr/local/lib/python3.11/dist-packages (from langsmith<0.2.0,>=0.1.17->langchain==0.3.0) (3.10.16)\n",
            "Requirement already satisfied: requests-toolbelt<2.0.0,>=1.0.0 in /usr/local/lib/python3.11/dist-packages (from langsmith<0.2.0,>=0.1.17->langchain==0.3.0) (1.0.0)\n",
            "Requirement already satisfied: anyio<5,>=3.5.0 in /usr/local/lib/python3.11/dist-packages (from openai<2.0.0,>=1.40.0->langchain-openai==0.2.0) (4.9.0)\n",
            "Requirement already satisfied: distro<2,>=1.7.0 in /usr/local/lib/python3.11/dist-packages (from openai<2.0.0,>=1.40.0->langchain-openai==0.2.0) (1.9.0)\n",
            "Requirement already satisfied: jiter<1,>=0.4.0 in /usr/local/lib/python3.11/dist-packages (from openai<2.0.0,>=1.40.0->langchain-openai==0.2.0) (0.9.0)\n",
            "Requirement already satisfied: sniffio in /usr/local/lib/python3.11/dist-packages (from openai<2.0.0,>=1.40.0->langchain-openai==0.2.0) (1.3.1)\n",
            "Requirement already satisfied: tqdm>4 in /usr/local/lib/python3.11/dist-packages (from openai<2.0.0,>=1.40.0->langchain-openai==0.2.0) (4.67.1)\n",
            "Requirement already satisfied: charset-normalizer<4,>=2 in /usr/local/lib/python3.11/dist-packages (from requests<3,>=2->langchain==0.3.0) (3.4.1)\n",
            "Requirement already satisfied: idna<4,>=2.5 in /usr/local/lib/python3.11/dist-packages (from requests<3,>=2->langchain==0.3.0) (3.10)\n",
            "Requirement already satisfied: urllib3<3,>=1.21.1 in /usr/local/lib/python3.11/dist-packages (from requests<3,>=2->langchain==0.3.0) (2.3.0)\n",
            "Requirement already satisfied: certifi>=2017.4.17 in /usr/local/lib/python3.11/dist-packages (from requests<3,>=2->langchain==0.3.0) (2025.1.31)\n",
            "Requirement already satisfied: greenlet>=1 in /usr/local/lib/python3.11/dist-packages (from SQLAlchemy<3,>=1.4->langchain==0.3.0) (3.1.1)\n",
            "Requirement already satisfied: regex>=2022.1.18 in /usr/local/lib/python3.11/dist-packages (from tiktoken<1,>=0.7->langchain-openai==0.2.0) (2024.11.6)\n",
            "Requirement already satisfied: httpcore==1.* in /usr/local/lib/python3.11/dist-packages (from httpx<1,>=0.23.0->langsmith<0.2.0,>=0.1.17->langchain==0.3.0) (1.0.7)\n",
            "Requirement already satisfied: h11<0.15,>=0.13 in /usr/local/lib/python3.11/dist-packages (from httpcore==1.*->httpx<1,>=0.23.0->langsmith<0.2.0,>=0.1.17->langchain==0.3.0) (0.14.0)\n",
            "Requirement already satisfied: jsonpointer>=1.9 in /usr/local/lib/python3.11/dist-packages (from jsonpatch<2.0,>=1.33->langchain-core<0.4.0,>=0.3.0->langchain==0.3.0) (3.0.0)\n",
            "Downloading langchain-0.3.0-py3-none-any.whl (1.0 MB)\n",
            "\u001b[2K   \u001b[90m━━━━━━━━━━━━━━━━━━━━━━━━━━━━━━━━━━━━━━━━\u001b[0m \u001b[32m1.0/1.0 MB\u001b[0m \u001b[31m11.3 MB/s\u001b[0m eta \u001b[36m0:00:00\u001b[0m\n",
            "\u001b[?25hDownloading langchain_openai-0.2.0-py3-none-any.whl (51 kB)\n",
            "\u001b[2K   \u001b[90m━━━━━━━━━━━━━━━━━━━━━━━━━━━━━━━━━━━━━━━━\u001b[0m \u001b[32m51.5/51.5 kB\u001b[0m \u001b[31m2.7 MB/s\u001b[0m eta \u001b[36m0:00:00\u001b[0m\n",
            "\u001b[?25hDownloading langgraph-0.2.22-py3-none-any.whl (98 kB)\n",
            "\u001b[2K   \u001b[90m━━━━━━━━━━━━━━━━━━━━━━━━━━━━━━━━━━━━━━━━\u001b[0m \u001b[32m98.5/98.5 kB\u001b[0m \u001b[31m5.4 MB/s\u001b[0m eta \u001b[36m0:00:00\u001b[0m\n",
            "\u001b[?25hDownloading pydantic-2.9.2-py3-none-any.whl (434 kB)\n",
            "\u001b[2K   \u001b[90m━━━━━━━━━━━━━━━━━━━━━━━━━━━━━━━━━━━━━━━━\u001b[0m \u001b[32m434.9/434.9 kB\u001b[0m \u001b[31m22.4 MB/s\u001b[0m eta \u001b[36m0:00:00\u001b[0m\n",
            "\u001b[?25hDownloading pydantic_core-2.23.4-cp311-cp311-manylinux_2_17_x86_64.manylinux2014_x86_64.whl (2.1 MB)\n",
            "\u001b[2K   \u001b[90m━━━━━━━━━━━━━━━━━━━━━━━━━━━━━━━━━━━━━━━━\u001b[0m \u001b[32m2.1/2.1 MB\u001b[0m \u001b[31m50.5 MB/s\u001b[0m eta \u001b[36m0:00:00\u001b[0m\n",
            "\u001b[?25hDownloading langgraph_checkpoint-1.0.12-py3-none-any.whl (17 kB)\n",
            "Downloading langsmith-0.1.147-py3-none-any.whl (311 kB)\n",
            "\u001b[2K   \u001b[90m━━━━━━━━━━━━━━━━━━━━━━━━━━━━━━━━━━━━━━━━\u001b[0m \u001b[32m311.8/311.8 kB\u001b[0m \u001b[31m18.2 MB/s\u001b[0m eta \u001b[36m0:00:00\u001b[0m\n",
            "\u001b[?25hDownloading numpy-1.26.4-cp311-cp311-manylinux_2_17_x86_64.manylinux2014_x86_64.whl (18.3 MB)\n",
            "\u001b[2K   \u001b[90m━━━━━━━━━━━━━━━━━━━━━━━━━━━━━━━━━━━━━━━━\u001b[0m \u001b[32m18.3/18.3 MB\u001b[0m \u001b[31m54.5 MB/s\u001b[0m eta \u001b[36m0:00:00\u001b[0m\n",
            "\u001b[?25hDownloading tenacity-8.5.0-py3-none-any.whl (28 kB)\n",
            "Downloading tiktoken-0.9.0-cp311-cp311-manylinux_2_17_x86_64.manylinux2014_x86_64.whl (1.2 MB)\n",
            "\u001b[2K   \u001b[90m━━━━━━━━━━━━━━━━━━━━━━━━━━━━━━━━━━━━━━━━\u001b[0m \u001b[32m1.2/1.2 MB\u001b[0m \u001b[31m40.7 MB/s\u001b[0m eta \u001b[36m0:00:00\u001b[0m\n",
            "\u001b[?25hInstalling collected packages: tenacity, pydantic-core, numpy, tiktoken, pydantic, langsmith, langgraph-checkpoint, langchain-openai, langgraph, langchain\n",
            "  Attempting uninstall: tenacity\n",
            "    Found existing installation: tenacity 9.1.2\n",
            "    Uninstalling tenacity-9.1.2:\n",
            "      Successfully uninstalled tenacity-9.1.2\n",
            "  Attempting uninstall: pydantic-core\n",
            "    Found existing installation: pydantic_core 2.33.1\n",
            "    Uninstalling pydantic_core-2.33.1:\n",
            "      Successfully uninstalled pydantic_core-2.33.1\n",
            "  Attempting uninstall: numpy\n",
            "    Found existing installation: numpy 2.0.2\n",
            "    Uninstalling numpy-2.0.2:\n",
            "      Successfully uninstalled numpy-2.0.2\n",
            "  Attempting uninstall: pydantic\n",
            "    Found existing installation: pydantic 2.11.2\n",
            "    Uninstalling pydantic-2.11.2:\n",
            "      Successfully uninstalled pydantic-2.11.2\n",
            "  Attempting uninstall: langsmith\n",
            "    Found existing installation: langsmith 0.3.24\n",
            "    Uninstalling langsmith-0.3.24:\n",
            "      Successfully uninstalled langsmith-0.3.24\n",
            "  Attempting uninstall: langchain\n",
            "    Found existing installation: langchain 0.3.23\n",
            "    Uninstalling langchain-0.3.23:\n",
            "      Successfully uninstalled langchain-0.3.23\n",
            "\u001b[31mERROR: pip's dependency resolver does not currently take into account all the packages that are installed. This behaviour is the source of the following dependency conflicts.\n",
            "thinc 8.3.6 requires numpy<3.0.0,>=2.0.0, but you have numpy 1.26.4 which is incompatible.\u001b[0m\u001b[31m\n",
            "\u001b[0mSuccessfully installed langchain-0.3.0 langchain-openai-0.2.0 langgraph-0.2.22 langgraph-checkpoint-1.0.12 langsmith-0.1.147 numpy-1.26.4 pydantic-2.9.2 pydantic-core-2.23.4 tenacity-8.5.0 tiktoken-0.9.0\n"
          ]
        }
      ],
      "source": [
        "!pip install langchain==0.3.0 langchain-openai==0.2.0 langgraph==0.2.22 pydantic==2.9.2"
      ]
    },
    {
      "cell_type": "code",
      "execution_count": 2,
      "metadata": {
        "id": "1KGHWxvunv_l"
      },
      "outputs": [],
      "source": [
        "import os\n",
        "from google.colab import userdata\n",
        "\n",
        "os.environ[\"OPENAI_API_KEY\"] = userdata.get(\"OPENAI_API_KEY\")\n",
        "os.environ[\"LANGCHAIN_TRACING_V2\"] = \"true\"\n",
        "os.environ[\"LANGCHAIN_ENDPOINT\"] = \"https://api.smith.langchain.com\"\n",
        "os.environ[\"LANGCHAIN_API_KEY\"] = userdata.get(\"LANGCHAIN_API_KEY\")\n",
        "os.environ[\"LANGCHAIN_PROJECT\"] = \"agent-book\""
      ]
    },
    {
      "cell_type": "code",
      "execution_count": 3,
      "metadata": {
        "id": "XP07ndLCnv_l"
      },
      "outputs": [],
      "source": [
        "ROLES = {\n",
        "    \"1\": {\n",
        "        \"name\": \"일반 지식 전문가\",\n",
        "        \"description\": \"폭넓은 분야의 일반적인 질문에 답변\",\n",
        "        \"details\": \"폭넓은 분야의 일반적인 질문에 대해 정확하고 이해하기 쉬운 답변을 제공하세요.\"\n",
        "    },\n",
        "    \"2\": {\n",
        "        \"name\": \"생성형 AI 제품 전문가\",\n",
        "        \"description\": \"생성형 AI와 관련 제품, 기술에 관한 전문적인 질문에 답변\",\n",
        "        \"details\": \"생성형 AI와 관련 제품, 기술에 관한 전문적인 질문에 대해 최신 정보와 깊은 통찰력을 제공하세요.\"\n",
        "    },\n",
        "    \"3\": {\n",
        "        \"name\": \"카운슬러\",\n",
        "        \"description\": \"개인적인 고민이나 심리적인 문제에 대해 지원 제공\",\n",
        "        \"details\": \"개인적인 고민이나 심리적인 문제에 대해 공감적이고 지원적인 답변을 제공하고, 가능하다면 적절한 조언도 해주세요.\"\n",
        "    }\n",
        "}"
      ]
    },
    {
      "cell_type": "code",
      "execution_count": 4,
      "metadata": {
        "id": "PQ5ZsGuinv_l"
      },
      "outputs": [],
      "source": [
        "import operator\n",
        "from typing import Annotated\n",
        "\n",
        "from pydantic import BaseModel, Field\n",
        "\n",
        "\n",
        "class State(BaseModel):\n",
        "    query: str = Field(..., description=\"사용자의 질문\")\n",
        "    current_role: str = Field(\n",
        "        default=\"\", description=\"선정된 답변 역할\"\n",
        "    )\n",
        "    messages: Annotated[list[str], operator.add] = Field(\n",
        "        default=[], description=\"답변 이력\"\n",
        "    )\n",
        "    current_judge: bool = Field(\n",
        "        default=False, description=\"품질 체크 결과\"\n",
        "    )\n",
        "    judgement_reason: str = Field(\n",
        "        default=\"\", description=\"품질 체크 판정 이유\"\n",
        "    )"
      ]
    },
    {
      "cell_type": "code",
      "execution_count": 5,
      "metadata": {
        "id": "E5_T6ffWnv_l"
      },
      "outputs": [],
      "source": [
        "from langchain_openai import ChatOpenAI\n",
        "from langchain_core.runnables import ConfigurableField\n",
        "\n",
        "llm = ChatOpenAI(model=\"gpt-4o\", temperature=0.0)\n",
        "# 나중에 max_tokens 값을 변경할 수 있도록 변경 가능한 필드 선언\n",
        "llm = llm.configurable_fields(max_tokens=ConfigurableField(id='max_tokens'))"
      ]
    },
    {
      "cell_type": "code",
      "execution_count": 7,
      "metadata": {
        "id": "2PB69JqUnv_l"
      },
      "outputs": [],
      "source": [
        "from typing import Any\n",
        "\n",
        "from langchain_core.prompts import ChatPromptTemplate\n",
        "from langchain_core.output_parsers import StrOutputParser\n",
        "\n",
        "def selection_node(state: State) -> dict[str, Any]:\n",
        "    query = state.query\n",
        "    role_options = \"\\n\".join([f\"{k}. {v['name']}: {v['description']}\" for k, v in ROLES.items()])\n",
        "    prompt = ChatPromptTemplate.from_template(\n",
        "\"\"\"질문을 분석하고 가장 적합한 답변 담당 역할을 선택하세요.\n",
        "\n",
        "선택지:\n",
        "{role_options}\n",
        "\n",
        "답변은 선택지의 번호(1, 2, 또는 3)만 반환하세요.\n",
        "\n",
        "질문: {query}\n",
        "\"\"\".strip()\n",
        "    )\n",
        "    # 선택지의 번호만 반환하기를 기대하므로 max_tokens 값을 1로 변경\n",
        "    chain = prompt | llm.with_config(configurable=dict(max_tokens=1)) | StrOutputParser()\n",
        "    role_number = chain.invoke({\"role_options\": role_options, \"query\": query})\n",
        "\n",
        "    selected_role = ROLES[role_number.strip()][\"name\"]\n",
        "    return {\"current_role\": selected_role}"
      ]
    },
    {
      "cell_type": "code",
      "execution_count": 8,
      "metadata": {
        "id": "PSH2lZjUnv_m"
      },
      "outputs": [],
      "source": [
        "def answering_node(state: State) -> dict[str, Any]:\n",
        "    query = state.query\n",
        "    role = state.current_role\n",
        "    role_details = \"\\n\".join([f\"- {v['name']}: {v['details']}\" for v in ROLES.values()])\n",
        "    prompt = ChatPromptTemplate.from_template(\n",
        "\"\"\"당신은 {role}로서 답변하세요. 다음 질문에 대해 당신의 역할에 기반한 적절한 답변을 제공하세요.\n",
        "\n",
        "역할 상세:\n",
        "{role_details}\n",
        "\n",
        "질문: {query}\n",
        "\n",
        "답변:\"\"\".strip()\n",
        "    )\n",
        "    chain = prompt | llm | StrOutputParser()\n",
        "    answer = chain.invoke({\"role\": role, \"role_details\": role_details, \"query\": query})\n",
        "    return {\"messages\": [answer]}"
      ]
    },
    {
      "cell_type": "code",
      "execution_count": 9,
      "metadata": {
        "id": "z8Ms-0aNnv_m"
      },
      "outputs": [],
      "source": [
        "class Judgement(BaseModel):\n",
        "    judge: bool = Field(default=False, description=\"판정 결과\")\n",
        "    reason: str = Field(default=\"\", description=\"판정 이유\")\n",
        "\n",
        "def check_node(state: State) -> dict[str, Any]:\n",
        "    query = state.query\n",
        "    answer = state.messages[-1]\n",
        "    prompt = ChatPromptTemplate.from_template(\n",
        "\"\"\"다음 답변의 품질을 체크하고, 문제가 있으면 'False', 문제가 없으면 'True'로 답변하세요.\n",
        "또한, 그 판정 이유도 설명하세요.\n",
        "\n",
        "사용자의 질문: {query}\n",
        "답변: {answer}\n",
        "\"\"\".strip()\n",
        "    )\n",
        "    chain = prompt | llm.with_structured_output(Judgement)\n",
        "    result: Judgement = chain.invoke({\"query\": query, \"answer\": answer})\n",
        "\n",
        "    return {\n",
        "        \"current_judge\": result.judge,\n",
        "        \"judgement_reason\": result.reason\n",
        "    }"
      ]
    },
    {
      "cell_type": "code",
      "execution_count": 10,
      "metadata": {
        "id": "H6gBp1Bpnv_m"
      },
      "outputs": [],
      "source": [
        "from langgraph.graph import StateGraph\n",
        "\n",
        "workflow = StateGraph(State)"
      ]
    },
    {
      "cell_type": "code",
      "execution_count": 11,
      "metadata": {
        "id": "-ZukmmwYnv_m"
      },
      "outputs": [],
      "source": [
        "workflow.add_node(\"selection\", selection_node)\n",
        "workflow.add_node(\"answering\", answering_node)\n",
        "workflow.add_node(\"check\", check_node)"
      ]
    },
    {
      "cell_type": "code",
      "execution_count": 12,
      "metadata": {
        "id": "AkeDLayJnv_m"
      },
      "outputs": [],
      "source": [
        "# selection 노드에서 처리 시작\n",
        "workflow.set_entry_point(\"selection\")"
      ]
    },
    {
      "cell_type": "code",
      "execution_count": 13,
      "metadata": {
        "id": "JeQ9gwjinv_n"
      },
      "outputs": [],
      "source": [
        "# selection 노드에서 answering 노드로\n",
        "workflow.add_edge(\"selection\", \"answering\")\n",
        "# answering 노드에서 check 노드로\n",
        "workflow.add_edge(\"answering\", \"check\")"
      ]
    },
    {
      "cell_type": "code",
      "execution_count": 14,
      "metadata": {
        "id": "wEsRrWVdnv_n"
      },
      "outputs": [],
      "source": [
        "from langgraph.graph import END\n",
        "\n",
        "# check 노드에서 다음 노드로의 전환에 조건부 엣지 정의\n",
        "# state.current_judge 값이 True면 END 노드로, False면 selection 노드로\n",
        "workflow.add_conditional_edges(\n",
        "    \"check\",\n",
        "    lambda state: state.current_judge,\n",
        "    {True: END, False: \"selection\"}\n",
        ")"
      ]
    },
    {
      "cell_type": "code",
      "execution_count": 15,
      "metadata": {
        "id": "qYSiBVtVnv_n"
      },
      "outputs": [],
      "source": [
        "compiled = workflow.compile()"
      ]
    },
    {
      "cell_type": "code",
      "execution_count": 16,
      "metadata": {
        "id": "ypJzwGhKnv_n"
      },
      "outputs": [],
      "source": [
        "initial_state = State(query=\"생성형 AI에 관해 알려주세요\")\n",
        "result = compiled.invoke(initial_state)"
      ]
    },
    {
      "cell_type": "code",
      "execution_count": 17,
      "metadata": {
        "id": "FGZy7KBZnv_n",
        "outputId": "226b3e96-556d-486c-be90-d71a86c9427a",
        "colab": {
          "base_uri": "https://localhost:8080/"
        }
      },
      "outputs": [
        {
          "output_type": "execute_result",
          "data": {
            "text/plain": [
              "{'query': '생성형 AI에 관해 알려주세요',\n",
              " 'current_role': '생성형 AI 제품 전문가',\n",
              " 'messages': ['생성형 AI에 대해 설명드리겠습니다.\\n\\n생성형 AI는 인공지능의 한 분야로, 주어진 데이터를 기반으로 새로운 콘텐츠를 생성하는 기술을 말합니다. 이 기술은 텍스트, 이미지, 음악, 코드 등 다양한 형태의 데이터를 생성할 수 있습니다. 생성형 AI의 대표적인 예로는 OpenAI의 GPT-3와 같은 자연어 처리 모델이 있으며, 이는 주어진 텍스트 입력에 따라 자연스럽고 일관된 문장을 생성할 수 있습니다.\\n\\n생성형 AI의 작동 원리는 주로 대량의 데이터를 학습하여 패턴을 인식하고, 이를 바탕으로 새로운 데이터를 생성하는 것입니다. 이러한 모델은 딥러닝 기술을 활용하여 복잡한 데이터 구조를 이해하고, 이를 통해 창의적인 결과물을 만들어냅니다.\\n\\n생성형 AI는 다양한 산업에서 활용되고 있습니다. 예를 들어, 콘텐츠 제작에서는 자동으로 기사를 작성하거나, 소설의 초안을 생성하는 데 사용됩니다. 또한, 디자인 분야에서는 새로운 이미지나 그래픽을 생성하는 데 활용되며, 음악 산업에서는 새로운 곡을 작곡하는 데 도움을 줄 수 있습니다.\\n\\n이 기술은 창의적인 작업을 지원하고, 반복적인 작업을 자동화하여 효율성을 높이는 데 큰 기여를 하고 있습니다. 그러나 생성형 AI의 사용에는 윤리적인 고려도 필요합니다. 생성된 콘텐츠의 저작권 문제나, 잘못된 정보의 확산 가능성 등을 주의 깊게 다루어야 합니다.\\n\\n생성형 AI는 앞으로도 계속 발전할 것이며, 다양한 분야에서 혁신적인 변화를 가져올 것으로 기대됩니다. 이 기술을 이해하고 적절히 활용하는 것이 중요합니다. 추가적인 질문이 있거나 특정 분야에 대한 더 깊은 정보가 필요하시면 언제든지 말씀해 주세요.'],\n",
              " 'current_judge': True,\n",
              " 'judgement_reason': '답변은 생성형 AI에 대한 전반적인 설명을 잘 제공하고 있습니다. 생성형 AI의 정의, 작동 원리, 활용 사례, 그리고 윤리적 고려사항까지 포괄적으로 다루고 있어 사용자의 질문에 적절하게 응답하고 있습니다. 추가적인 질문에 대한 안내도 포함되어 있어 사용자 친화적입니다.'}"
            ]
          },
          "metadata": {},
          "execution_count": 17
        }
      ],
      "source": [
        "result"
      ]
    },
    {
      "cell_type": "code",
      "execution_count": 18,
      "metadata": {
        "id": "hBWW0uXTnv_n",
        "outputId": "91ed1b21-5c5c-4ad9-cae8-5b3bff2f920c",
        "colab": {
          "base_uri": "https://localhost:8080/"
        }
      },
      "outputs": [
        {
          "output_type": "stream",
          "name": "stdout",
          "text": [
            "생성형 AI에 대해 설명드리겠습니다.\n",
            "\n",
            "생성형 AI는 인공지능의 한 분야로, 주어진 데이터를 기반으로 새로운 콘텐츠를 생성하는 기술을 말합니다. 이 기술은 텍스트, 이미지, 음악, 코드 등 다양한 형태의 데이터를 생성할 수 있습니다. 생성형 AI의 대표적인 예로는 OpenAI의 GPT-3와 같은 자연어 처리 모델이 있으며, 이는 주어진 텍스트 입력에 따라 자연스럽고 일관된 문장을 생성할 수 있습니다.\n",
            "\n",
            "생성형 AI의 작동 원리는 주로 대량의 데이터를 학습하여 패턴을 인식하고, 이를 바탕으로 새로운 데이터를 생성하는 것입니다. 이러한 모델은 딥러닝 기술을 활용하여 복잡한 데이터 구조를 이해하고, 이를 통해 창의적인 결과물을 만들어냅니다.\n",
            "\n",
            "생성형 AI는 다양한 산업에서 활용되고 있습니다. 예를 들어, 콘텐츠 제작에서는 자동으로 기사를 작성하거나, 소설의 초안을 생성하는 데 사용됩니다. 또한, 디자인 분야에서는 새로운 이미지나 그래픽을 생성하는 데 활용되며, 음악 산업에서는 새로운 곡을 작곡하는 데 도움을 줄 수 있습니다.\n",
            "\n",
            "이 기술은 창의적인 작업을 지원하고, 반복적인 작업을 자동화하여 효율성을 높이는 데 큰 기여를 하고 있습니다. 그러나 생성형 AI의 사용에는 윤리적인 고려도 필요합니다. 생성된 콘텐츠의 저작권 문제나, 잘못된 정보의 확산 가능성 등을 주의 깊게 다루어야 합니다.\n",
            "\n",
            "생성형 AI는 앞으로도 계속 발전할 것이며, 다양한 분야에서 혁신적인 변화를 가져올 것으로 기대됩니다. 이 기술을 이해하고 적절히 활용하는 것이 중요합니다. 추가적인 질문이 있거나 특정 분야에 대한 더 깊은 정보가 필요하시면 언제든지 말씀해 주세요.\n"
          ]
        }
      ],
      "source": [
        "print(result[\"messages\"][-1])"
      ]
    },
    {
      "cell_type": "code",
      "execution_count": 19,
      "metadata": {
        "id": "jFggcu_bnv_n",
        "outputId": "cb101476-aadf-41fe-fca2-cbaa9d6946f2",
        "colab": {
          "base_uri": "https://localhost:8080/"
        }
      },
      "outputs": [
        {
          "output_type": "execute_result",
          "data": {
            "text/plain": [
              "{'query': '생성형 AI에 관해 알려주세요',\n",
              " 'current_role': '생성형 AI 제품 전문가',\n",
              " 'messages': ['생성형 AI에 대해 설명드리겠습니다.\\n\\n생성형 AI는 인공지능의 한 분야로, 주어진 데이터를 기반으로 새로운 콘텐츠를 생성하는 기술을 말합니다. 이 기술은 텍스트, 이미지, 음악, 비디오 등 다양한 형태의 콘텐츠를 생성할 수 있습니다. 생성형 AI의 대표적인 예로는 OpenAI의 GPT-3와 같은 언어 모델이 있으며, 이는 자연어 처리(NLP) 기술을 활용하여 사람과 유사한 방식으로 텍스트를 생성할 수 있습니다.\\n\\n생성형 AI의 작동 원리는 주로 대량의 데이터를 학습하여 패턴을 인식하고, 이를 바탕으로 새로운 데이터를 생성하는 것입니다. 예를 들어, 텍스트 생성 AI는 방대한 양의 문서를 학습하여 문법, 어휘, 문장 구조 등을 이해하고, 이를 바탕으로 새로운 문장을 만들어냅니다.\\n\\n이 기술은 다양한 산업에서 활용되고 있습니다. 예를 들어, 마케팅 분야에서는 광고 카피나 소셜 미디어 콘텐츠를 자동으로 생성하는 데 사용되며, 엔터테인먼트 분야에서는 음악이나 예술 작품을 창작하는 데 활용됩니다. 또한, 고객 서비스에서는 챗봇을 통해 사용자와의 대화를 자동화하는 데 사용되기도 합니다.\\n\\n생성형 AI는 창의적인 작업을 자동화하고, 인간의 작업을 보조하는 데 큰 잠재력을 가지고 있지만, 윤리적인 문제와 데이터의 편향성 등 해결해야 할 과제도 존재합니다. 따라서 이러한 기술을 개발하고 활용할 때는 책임감 있는 접근이 필요합니다.\\n\\n이와 관련하여 더 궁금한 점이 있거나 특정 분야에서의 활용 사례에 대해 알고 싶으시면 언제든지 질문해 주세요.'],\n",
              " 'current_judge': True,\n",
              " 'judgement_reason': '답변은 생성형 AI에 대한 전반적인 설명을 잘 제공하고 있으며, 기술의 작동 원리, 활용 사례, 그리고 윤리적 문제까지 포괄적으로 다루고 있습니다. 사용자의 질문에 적절하고 충분한 정보를 제공하고 있어 품질에 문제가 없습니다.'}"
            ]
          },
          "metadata": {},
          "execution_count": 19
        }
      ],
      "source": [
        "initial_state = State(query=\"생성형 AI에 관해 알려주세요\")\n",
        "result = await compiled.ainvoke(initial_state)\n",
        "result"
      ]
    },
    {
      "cell_type": "code",
      "execution_count": 20,
      "metadata": {
        "id": "zhkC0Xahnv_n",
        "outputId": "46edd222-6c46-43d0-e53b-9360935a002b",
        "colab": {
          "base_uri": "https://localhost:8080/"
        }
      },
      "outputs": [
        {
          "output_type": "stream",
          "name": "stdout",
          "text": [
            "Reading package lists... Done\n",
            "Building dependency tree... Done\n",
            "Reading state information... Done\n",
            "graphviz is already the newest version (2.42.2-6ubuntu0.1).\n",
            "The following packages were automatically installed and are no longer required:\n",
            "  libbz2-dev libpkgconf3 libreadline-dev\n",
            "Use 'apt autoremove' to remove them.\n",
            "The following additional packages will be installed:\n",
            "  libgail-common libgail18 libgtk2.0-0 libgtk2.0-bin libgtk2.0-common\n",
            "  libgvc6-plugins-gtk librsvg2-common libxdot4\n",
            "Suggested packages:\n",
            "  gvfs\n",
            "The following packages will be REMOVED:\n",
            "  pkgconf r-base-dev\n",
            "The following NEW packages will be installed:\n",
            "  libgail-common libgail18 libgraphviz-dev libgtk2.0-0 libgtk2.0-bin\n",
            "  libgtk2.0-common libgvc6-plugins-gtk librsvg2-common libxdot4 pkg-config\n",
            "0 upgraded, 10 newly installed, 2 to remove and 30 not upgraded.\n",
            "Need to get 2,482 kB of archives.\n",
            "After this operation, 7,671 kB of additional disk space will be used.\n",
            "Get:1 http://archive.ubuntu.com/ubuntu jammy/main amd64 pkg-config amd64 0.29.2-1ubuntu3 [48.2 kB]\n",
            "Get:2 http://archive.ubuntu.com/ubuntu jammy-updates/main amd64 libgtk2.0-common all 2.24.33-2ubuntu2.1 [125 kB]\n",
            "Get:3 http://archive.ubuntu.com/ubuntu jammy-updates/main amd64 libgtk2.0-0 amd64 2.24.33-2ubuntu2.1 [2,038 kB]\n",
            "Get:4 http://archive.ubuntu.com/ubuntu jammy-updates/main amd64 libgail18 amd64 2.24.33-2ubuntu2.1 [15.9 kB]\n",
            "Get:5 http://archive.ubuntu.com/ubuntu jammy-updates/main amd64 libgail-common amd64 2.24.33-2ubuntu2.1 [132 kB]\n",
            "Get:6 http://archive.ubuntu.com/ubuntu jammy-updates/universe amd64 libxdot4 amd64 2.42.2-6ubuntu0.1 [16.4 kB]\n",
            "Get:7 http://archive.ubuntu.com/ubuntu jammy-updates/universe amd64 libgvc6-plugins-gtk amd64 2.42.2-6ubuntu0.1 [22.5 kB]\n",
            "Get:8 http://archive.ubuntu.com/ubuntu jammy-updates/universe amd64 libgraphviz-dev amd64 2.42.2-6ubuntu0.1 [58.5 kB]\n",
            "Get:9 http://archive.ubuntu.com/ubuntu jammy-updates/main amd64 libgtk2.0-bin amd64 2.24.33-2ubuntu2.1 [7,936 B]\n",
            "Get:10 http://archive.ubuntu.com/ubuntu jammy-updates/main amd64 librsvg2-common amd64 2.52.5+dfsg-3ubuntu0.2 [17.7 kB]\n",
            "Fetched 2,482 kB in 2s (1,504 kB/s)\n",
            "(Reading database ... 126315 files and directories currently installed.)\n",
            "Removing r-base-dev (4.4.3-1.2204.0) ...\n",
            "dpkg: pkgconf: dependency problems, but removing anyway as you requested:\n",
            " libsndfile1-dev:amd64 depends on pkg-config; however:\n",
            "  Package pkg-config is not installed.\n",
            "  Package pkgconf which provides pkg-config is to be removed.\n",
            " libopencv-dev depends on pkg-config; however:\n",
            "  Package pkg-config is not installed.\n",
            "  Package pkgconf which provides pkg-config is to be removed.\n",
            " libmkl-dev:amd64 depends on pkg-config; however:\n",
            "  Package pkg-config is not installed.\n",
            "  Package pkgconf which provides pkg-config is to be removed.\n",
            " libjack-dev depends on pkg-config; however:\n",
            "  Package pkg-config is not installed.\n",
            "  Package pkgconf which provides pkg-config is to be removed.\n",
            " libgphoto2-dev:amd64 depends on pkg-config; however:\n",
            "  Package pkg-config is not installed.\n",
            "  Package pkgconf which provides pkg-config is to be removed.\n",
            " libglib2.0-dev:amd64 depends on pkg-config; however:\n",
            "  Package pkg-config is not installed.\n",
            "  Package pkgconf which provides pkg-config is to be removed.\n",
            " libfontconfig-dev:amd64 depends on pkg-config; however:\n",
            "  Package pkg-config is not installed.\n",
            "  Package pkgconf which provides pkg-config is to be removed.\n",
            "\n",
            "Removing pkgconf (1.8.0-1) ...\n",
            "Removing 'diversion of /usr/bin/pkg-config to /usr/bin/pkg-config.real by pkgconf'\n",
            "Removing 'diversion of /usr/share/aclocal/pkg.m4 to /usr/share/aclocal/pkg.real.m4 by pkgconf'\n",
            "Removing 'diversion of /usr/share/man/man1/pkg-config.1.gz to /usr/share/man/man1/pkg-config.real.1.gz by pkgconf'\n",
            "Removing 'diversion of /usr/share/pkg-config-crosswrapper to /usr/share/pkg-config-crosswrapper.real by pkgconf'\n",
            "Selecting previously unselected package pkg-config.\n",
            "(Reading database ... 126291 files and directories currently installed.)\n",
            "Preparing to unpack .../0-pkg-config_0.29.2-1ubuntu3_amd64.deb ...\n",
            "Unpacking pkg-config (0.29.2-1ubuntu3) ...\n",
            "Selecting previously unselected package libgtk2.0-common.\n",
            "Preparing to unpack .../1-libgtk2.0-common_2.24.33-2ubuntu2.1_all.deb ...\n",
            "Unpacking libgtk2.0-common (2.24.33-2ubuntu2.1) ...\n",
            "Selecting previously unselected package libgtk2.0-0:amd64.\n",
            "Preparing to unpack .../2-libgtk2.0-0_2.24.33-2ubuntu2.1_amd64.deb ...\n",
            "Unpacking libgtk2.0-0:amd64 (2.24.33-2ubuntu2.1) ...\n",
            "Selecting previously unselected package libgail18:amd64.\n",
            "Preparing to unpack .../3-libgail18_2.24.33-2ubuntu2.1_amd64.deb ...\n",
            "Unpacking libgail18:amd64 (2.24.33-2ubuntu2.1) ...\n",
            "Selecting previously unselected package libgail-common:amd64.\n",
            "Preparing to unpack .../4-libgail-common_2.24.33-2ubuntu2.1_amd64.deb ...\n",
            "Unpacking libgail-common:amd64 (2.24.33-2ubuntu2.1) ...\n",
            "Selecting previously unselected package libxdot4:amd64.\n",
            "Preparing to unpack .../5-libxdot4_2.42.2-6ubuntu0.1_amd64.deb ...\n",
            "Unpacking libxdot4:amd64 (2.42.2-6ubuntu0.1) ...\n",
            "Selecting previously unselected package libgvc6-plugins-gtk.\n",
            "Preparing to unpack .../6-libgvc6-plugins-gtk_2.42.2-6ubuntu0.1_amd64.deb ...\n",
            "Unpacking libgvc6-plugins-gtk (2.42.2-6ubuntu0.1) ...\n",
            "Selecting previously unselected package libgraphviz-dev:amd64.\n",
            "Preparing to unpack .../7-libgraphviz-dev_2.42.2-6ubuntu0.1_amd64.deb ...\n",
            "Unpacking libgraphviz-dev:amd64 (2.42.2-6ubuntu0.1) ...\n",
            "Selecting previously unselected package libgtk2.0-bin.\n",
            "Preparing to unpack .../8-libgtk2.0-bin_2.24.33-2ubuntu2.1_amd64.deb ...\n",
            "Unpacking libgtk2.0-bin (2.24.33-2ubuntu2.1) ...\n",
            "Selecting previously unselected package librsvg2-common:amd64.\n",
            "Preparing to unpack .../9-librsvg2-common_2.52.5+dfsg-3ubuntu0.2_amd64.deb ...\n",
            "Unpacking librsvg2-common:amd64 (2.52.5+dfsg-3ubuntu0.2) ...\n",
            "Setting up libxdot4:amd64 (2.42.2-6ubuntu0.1) ...\n",
            "Setting up pkg-config (0.29.2-1ubuntu3) ...\n",
            "Setting up librsvg2-common:amd64 (2.52.5+dfsg-3ubuntu0.2) ...\n",
            "Setting up libgtk2.0-common (2.24.33-2ubuntu2.1) ...\n",
            "Setting up libgtk2.0-0:amd64 (2.24.33-2ubuntu2.1) ...\n",
            "Setting up libgvc6-plugins-gtk (2.42.2-6ubuntu0.1) ...\n",
            "Setting up libgail18:amd64 (2.24.33-2ubuntu2.1) ...\n",
            "Setting up libgtk2.0-bin (2.24.33-2ubuntu2.1) ...\n",
            "Setting up libgail-common:amd64 (2.24.33-2ubuntu2.1) ...\n",
            "Setting up libgraphviz-dev:amd64 (2.42.2-6ubuntu0.1) ...\n",
            "Processing triggers for libc-bin (2.35-0ubuntu3.8) ...\n",
            "/sbin/ldconfig.real: /usr/local/lib/libtbbbind.so.3 is not a symbolic link\n",
            "\n",
            "/sbin/ldconfig.real: /usr/local/lib/libtbb.so.12 is not a symbolic link\n",
            "\n",
            "/sbin/ldconfig.real: /usr/local/lib/libtbbbind_2_5.so.3 is not a symbolic link\n",
            "\n",
            "/sbin/ldconfig.real: /usr/local/lib/libtbbmalloc.so.2 is not a symbolic link\n",
            "\n",
            "/sbin/ldconfig.real: /usr/local/lib/libtcm_debug.so.1 is not a symbolic link\n",
            "\n",
            "/sbin/ldconfig.real: /usr/local/lib/libtbbmalloc_proxy.so.2 is not a symbolic link\n",
            "\n",
            "/sbin/ldconfig.real: /usr/local/lib/libtcm.so.1 is not a symbolic link\n",
            "\n",
            "/sbin/ldconfig.real: /usr/local/lib/libtbbbind_2_0.so.3 is not a symbolic link\n",
            "\n",
            "/sbin/ldconfig.real: /usr/local/lib/libhwloc.so.15 is not a symbolic link\n",
            "\n",
            "/sbin/ldconfig.real: /usr/local/lib/libur_adapter_level_zero.so.0 is not a symbolic link\n",
            "\n",
            "/sbin/ldconfig.real: /usr/local/lib/libumf.so.0 is not a symbolic link\n",
            "\n",
            "/sbin/ldconfig.real: /usr/local/lib/libur_adapter_opencl.so.0 is not a symbolic link\n",
            "\n",
            "/sbin/ldconfig.real: /usr/local/lib/libur_loader.so.0 is not a symbolic link\n",
            "\n",
            "Processing triggers for man-db (2.10.2-1) ...\n",
            "Processing triggers for libgdk-pixbuf-2.0-0:amd64 (2.42.8+dfsg-1ubuntu0.3) ...\n",
            "Collecting pygraphviz\n",
            "  Downloading pygraphviz-1.14.tar.gz (106 kB)\n",
            "\u001b[2K     \u001b[90m━━━━━━━━━━━━━━━━━━━━━━━━━━━━━━━━━━━━━━━\u001b[0m \u001b[32m106.0/106.0 kB\u001b[0m \u001b[31m3.6 MB/s\u001b[0m eta \u001b[36m0:00:00\u001b[0m\n",
            "\u001b[?25h  Installing build dependencies ... \u001b[?25l\u001b[?25hdone\n",
            "  Getting requirements to build wheel ... \u001b[?25l\u001b[?25hdone\n",
            "  Preparing metadata (pyproject.toml) ... \u001b[?25l\u001b[?25hdone\n",
            "Building wheels for collected packages: pygraphviz\n",
            "  Building wheel for pygraphviz (pyproject.toml) ... \u001b[?25l\u001b[?25hdone\n",
            "  Created wheel for pygraphviz: filename=pygraphviz-1.14-cp311-cp311-linux_x86_64.whl size=169712 sha256=bc9a2f6a7a6ed0db71987730ae87b149b8d2edc385dd0dff10d00fe98523cdc6\n",
            "  Stored in directory: /root/.cache/pip/wheels/9c/5f/df/6fffd2a4353f26dbb0e3672a1baf070c124a1d74a5f9318279\n",
            "Successfully built pygraphviz\n",
            "Installing collected packages: pygraphviz\n",
            "Successfully installed pygraphviz-1.14\n"
          ]
        }
      ],
      "source": [
        "!apt-get install graphviz libgraphviz-dev pkg-config\n",
        "!pip install pygraphviz"
      ]
    },
    {
      "cell_type": "code",
      "execution_count": 21,
      "metadata": {
        "id": "Q7lImZRHnv_n",
        "outputId": "f0e4b992-a94b-4307-acc3-f0698620f65c",
        "colab": {
          "base_uri": "https://localhost:8080/",
          "height": 673
        }
      },
      "outputs": [
        {
          "output_type": "execute_result",
          "data": {
            "image/png": "[encoded data removed]",
            "text/plain": [
              "<IPython.core.display.Image object>"
            ]
          },
          "metadata": {},
          "execution_count": 21
        }
      ],
      "source": [
        "from IPython.display import Image\n",
        "\n",
        "Image(compiled.get_graph().draw_png())"
      ]
    },
    {
      "cell_type": "markdown",
      "metadata": {
        "id": "n-hH4uRcnv_n"
      },
      "source": [
        "## 9.4 체크포인트 기능: 상태의 영속화와 재개"
      ]
    },
    {
      "cell_type": "code",
      "execution_count": 22,
      "metadata": {
        "id": "YA4UCPzrnv_o",
        "outputId": "6c5d7d66-f014-4a05-ae4f-b28a9590330a",
        "colab": {
          "base_uri": "https://localhost:8080/"
        }
      },
      "outputs": [
        {
          "output_type": "stream",
          "name": "stdout",
          "text": [
            "Requirement already satisfied: langchain==0.3.0 in /usr/local/lib/python3.11/dist-packages (0.3.0)\n",
            "Requirement already satisfied: langchain-openai==0.2.0 in /usr/local/lib/python3.11/dist-packages (0.2.0)\n",
            "Requirement already satisfied: langgraph==0.2.22 in /usr/local/lib/python3.11/dist-packages (0.2.22)\n",
            "Collecting langgraph-checkpoint==1.0.11\n",
            "  Downloading langgraph_checkpoint-1.0.11-py3-none-any.whl.metadata (4.6 kB)\n",
            "Requirement already satisfied: PyYAML>=5.3 in /usr/local/lib/python3.11/dist-packages (from langchain==0.3.0) (6.0.2)\n",
            "Requirement already satisfied: SQLAlchemy<3,>=1.4 in /usr/local/lib/python3.11/dist-packages (from langchain==0.3.0) (2.0.40)\n",
            "Requirement already satisfied: aiohttp<4.0.0,>=3.8.3 in /usr/local/lib/python3.11/dist-packages (from langchain==0.3.0) (3.11.15)\n",
            "Requirement already satisfied: langchain-core<0.4.0,>=0.3.0 in /usr/local/lib/python3.11/dist-packages (from langchain==0.3.0) (0.3.51)\n",
            "Requirement already satisfied: langchain-text-splitters<0.4.0,>=0.3.0 in /usr/local/lib/python3.11/dist-packages (from langchain==0.3.0) (0.3.8)\n",
            "Requirement already satisfied: langsmith<0.2.0,>=0.1.17 in /usr/local/lib/python3.11/dist-packages (from langchain==0.3.0) (0.1.147)\n",
            "Requirement already satisfied: numpy<2,>=1 in /usr/local/lib/python3.11/dist-packages (from langchain==0.3.0) (1.26.4)\n",
            "Requirement already satisfied: pydantic<3.0.0,>=2.7.4 in /usr/local/lib/python3.11/dist-packages (from langchain==0.3.0) (2.9.2)\n",
            "Requirement already satisfied: requests<3,>=2 in /usr/local/lib/python3.11/dist-packages (from langchain==0.3.0) (2.32.3)\n",
            "Requirement already satisfied: tenacity!=8.4.0,<9.0.0,>=8.1.0 in /usr/local/lib/python3.11/dist-packages (from langchain==0.3.0) (8.5.0)\n",
            "Requirement already satisfied: openai<2.0.0,>=1.40.0 in /usr/local/lib/python3.11/dist-packages (from langchain-openai==0.2.0) (1.70.0)\n",
            "Requirement already satisfied: tiktoken<1,>=0.7 in /usr/local/lib/python3.11/dist-packages (from langchain-openai==0.2.0) (0.9.0)\n",
            "Requirement already satisfied: msgpack<2.0.0,>=1.1.0 in /usr/local/lib/python3.11/dist-packages (from langgraph-checkpoint==1.0.11) (1.1.0)\n",
            "Requirement already satisfied: aiohappyeyeballs>=2.3.0 in /usr/local/lib/python3.11/dist-packages (from aiohttp<4.0.0,>=3.8.3->langchain==0.3.0) (2.6.1)\n",
            "Requirement already satisfied: aiosignal>=1.1.2 in /usr/local/lib/python3.11/dist-packages (from aiohttp<4.0.0,>=3.8.3->langchain==0.3.0) (1.3.2)\n",
            "Requirement already satisfied: attrs>=17.3.0 in /usr/local/lib/python3.11/dist-packages (from aiohttp<4.0.0,>=3.8.3->langchain==0.3.0) (25.3.0)\n",
            "Requirement already satisfied: frozenlist>=1.1.1 in /usr/local/lib/python3.11/dist-packages (from aiohttp<4.0.0,>=3.8.3->langchain==0.3.0) (1.5.0)\n",
            "Requirement already satisfied: multidict<7.0,>=4.5 in /usr/local/lib/python3.11/dist-packages (from aiohttp<4.0.0,>=3.8.3->langchain==0.3.0) (6.3.2)\n",
            "Requirement already satisfied: propcache>=0.2.0 in /usr/local/lib/python3.11/dist-packages (from aiohttp<4.0.0,>=3.8.3->langchain==0.3.0) (0.3.1)\n",
            "Requirement already satisfied: yarl<2.0,>=1.17.0 in /usr/local/lib/python3.11/dist-packages (from aiohttp<4.0.0,>=3.8.3->langchain==0.3.0) (1.18.3)\n",
            "Requirement already satisfied: jsonpatch<2.0,>=1.33 in /usr/local/lib/python3.11/dist-packages (from langchain-core<0.4.0,>=0.3.0->langchain==0.3.0) (1.33)\n",
            "Requirement already satisfied: packaging<25,>=23.2 in /usr/local/lib/python3.11/dist-packages (from langchain-core<0.4.0,>=0.3.0->langchain==0.3.0) (24.2)\n",
            "Requirement already satisfied: typing-extensions>=4.7 in /usr/local/lib/python3.11/dist-packages (from langchain-core<0.4.0,>=0.3.0->langchain==0.3.0) (4.13.1)\n",
            "Requirement already satisfied: httpx<1,>=0.23.0 in /usr/local/lib/python3.11/dist-packages (from langsmith<0.2.0,>=0.1.17->langchain==0.3.0) (0.28.1)\n",
            "Requirement already satisfied: orjson<4.0.0,>=3.9.14 in /usr/local/lib/python3.11/dist-packages (from langsmith<0.2.0,>=0.1.17->langchain==0.3.0) (3.10.16)\n",
            "Requirement already satisfied: requests-toolbelt<2.0.0,>=1.0.0 in /usr/local/lib/python3.11/dist-packages (from langsmith<0.2.0,>=0.1.17->langchain==0.3.0) (1.0.0)\n",
            "Requirement already satisfied: anyio<5,>=3.5.0 in /usr/local/lib/python3.11/dist-packages (from openai<2.0.0,>=1.40.0->langchain-openai==0.2.0) (4.9.0)\n",
            "Requirement already satisfied: distro<2,>=1.7.0 in /usr/local/lib/python3.11/dist-packages (from openai<2.0.0,>=1.40.0->langchain-openai==0.2.0) (1.9.0)\n",
            "Requirement already satisfied: jiter<1,>=0.4.0 in /usr/local/lib/python3.11/dist-packages (from openai<2.0.0,>=1.40.0->langchain-openai==0.2.0) (0.9.0)\n",
            "Requirement already satisfied: sniffio in /usr/local/lib/python3.11/dist-packages (from openai<2.0.0,>=1.40.0->langchain-openai==0.2.0) (1.3.1)\n",
            "Requirement already satisfied: tqdm>4 in /usr/local/lib/python3.11/dist-packages (from openai<2.0.0,>=1.40.0->langchain-openai==0.2.0) (4.67.1)\n",
            "Requirement already satisfied: annotated-types>=0.6.0 in /usr/local/lib/python3.11/dist-packages (from pydantic<3.0.0,>=2.7.4->langchain==0.3.0) (0.7.0)\n",
            "Requirement already satisfied: pydantic-core==2.23.4 in /usr/local/lib/python3.11/dist-packages (from pydantic<3.0.0,>=2.7.4->langchain==0.3.0) (2.23.4)\n",
            "Requirement already satisfied: charset-normalizer<4,>=2 in /usr/local/lib/python3.11/dist-packages (from requests<3,>=2->langchain==0.3.0) (3.4.1)\n",
            "Requirement already satisfied: idna<4,>=2.5 in /usr/local/lib/python3.11/dist-packages (from requests<3,>=2->langchain==0.3.0) (3.10)\n",
            "Requirement already satisfied: urllib3<3,>=1.21.1 in /usr/local/lib/python3.11/dist-packages (from requests<3,>=2->langchain==0.3.0) (2.3.0)\n",
            "Requirement already satisfied: certifi>=2017.4.17 in /usr/local/lib/python3.11/dist-packages (from requests<3,>=2->langchain==0.3.0) (2025.1.31)\n",
            "Requirement already satisfied: greenlet>=1 in /usr/local/lib/python3.11/dist-packages (from SQLAlchemy<3,>=1.4->langchain==0.3.0) (3.1.1)\n",
            "Requirement already satisfied: regex>=2022.1.18 in /usr/local/lib/python3.11/dist-packages (from tiktoken<1,>=0.7->langchain-openai==0.2.0) (2024.11.6)\n",
            "Requirement already satisfied: httpcore==1.* in /usr/local/lib/python3.11/dist-packages (from httpx<1,>=0.23.0->langsmith<0.2.0,>=0.1.17->langchain==0.3.0) (1.0.7)\n",
            "Requirement already satisfied: h11<0.15,>=0.13 in /usr/local/lib/python3.11/dist-packages (from httpcore==1.*->httpx<1,>=0.23.0->langsmith<0.2.0,>=0.1.17->langchain==0.3.0) (0.14.0)\n",
            "Requirement already satisfied: jsonpointer>=1.9 in /usr/local/lib/python3.11/dist-packages (from jsonpatch<2.0,>=1.33->langchain-core<0.4.0,>=0.3.0->langchain==0.3.0) (3.0.0)\n",
            "Downloading langgraph_checkpoint-1.0.11-py3-none-any.whl (17 kB)\n",
            "Installing collected packages: langgraph-checkpoint\n",
            "  Attempting uninstall: langgraph-checkpoint\n",
            "    Found existing installation: langgraph-checkpoint 1.0.12\n",
            "    Uninstalling langgraph-checkpoint-1.0.12:\n",
            "      Successfully uninstalled langgraph-checkpoint-1.0.12\n",
            "Successfully installed langgraph-checkpoint-1.0.11\n"
          ]
        }
      ],
      "source": [
        "!pip install langchain==0.3.0 langchain-openai==0.2.0 langgraph==0.2.22 langgraph-checkpoint==1.0.11"
      ]
    },
    {
      "cell_type": "code",
      "execution_count": 23,
      "metadata": {
        "id": "2Nav8Ptcnv_o"
      },
      "outputs": [],
      "source": [
        "import os\n",
        "from google.colab import userdata\n",
        "\n",
        "os.environ[\"OPENAI_API_KEY\"] = userdata.get(\"OPENAI_API_KEY\")\n",
        "os.environ[\"LANGCHAIN_TRACING_V2\"] = \"true\"\n",
        "os.environ[\"LANGCHAIN_ENDPOINT\"] = \"https://api.smith.langchain.com\"\n",
        "os.environ[\"LANGCHAIN_API_KEY\"] = userdata.get(\"LANGCHAIN_API_KEY\")\n",
        "os.environ[\"LANGCHAIN_PROJECT\"] = \"agent-book\""
      ]
    },
    {
      "cell_type": "code",
      "execution_count": 24,
      "metadata": {
        "id": "7FEHaJTtnv_o"
      },
      "outputs": [],
      "source": [
        "import operator\n",
        "from typing import Annotated, Any\n",
        "from langchain_core.messages import SystemMessage, HumanMessage, BaseMessage\n",
        "from langchain_openai import ChatOpenAI\n",
        "from pydantic import BaseModel, Field\n",
        "\n",
        "# 그래프의 상태 정의\n",
        "class State(BaseModel):\n",
        "    query: str\n",
        "    messages: Annotated[list[BaseMessage], operator.add] = Field(default=[])\n",
        "\n",
        "# 메시지를 추가하는 노드 함수\n",
        "def add_message(state: State) -> dict[str, Any]:\n",
        "    additional_messages = []\n",
        "    if not state.messages:\n",
        "        additional_messages.append(\n",
        "            SystemMessage(content=\"당신은 최소한의 응답을 하는 대화 에이전트입니다.\")\n",
        "        )\n",
        "    additional_messages.append(HumanMessage(content=state.query))\n",
        "    return {\"messages\": additional_messages}\n",
        "\n",
        "# LLM에서의 응답을 추가하는 노드 함수\n",
        "def llm_response(state: State) -> dict[str, Any]:\n",
        "    llm = ChatOpenAI(model=\"gpt-4o-mini\", temperature=0.5)\n",
        "    ai_message = llm.invoke(state.messages)\n",
        "    return {\"messages\": [ai_message]}"
      ]
    },
    {
      "cell_type": "code",
      "execution_count": 25,
      "metadata": {
        "id": "mjTnlnurnv_o"
      },
      "outputs": [],
      "source": [
        "from pprint import pprint\n",
        "from langchain_core.runnables import RunnableConfig\n",
        "from langgraph.checkpoint.base import BaseCheckpointSaver\n",
        "\n",
        "def print_checkpoint_dump(checkpointer: BaseCheckpointSaver, config: RunnableConfig):\n",
        "    checkpoint_tuple = checkpointer.get_tuple(config)\n",
        "\n",
        "    print(\"체크포인트 데이터:\")\n",
        "    pprint(checkpoint_tuple.checkpoint)\n",
        "    print(\"\\n메타데이터:\")\n",
        "    pprint(checkpoint_tuple.metadata)"
      ]
    },
    {
      "cell_type": "code",
      "execution_count": 26,
      "metadata": {
        "id": "iD09JG9qnv_o"
      },
      "outputs": [],
      "source": [
        "from langgraph.graph import StateGraph, END\n",
        "from langgraph.checkpoint.memory import MemorySaver\n",
        "\n",
        "# 그래프 설정\n",
        "graph = StateGraph(State)\n",
        "graph.add_node(\"add_message\", add_message)\n",
        "graph.add_node(\"llm_response\", llm_response)\n",
        "\n",
        "graph.set_entry_point(\"add_message\")\n",
        "graph.add_edge(\"add_message\", \"llm_response\")\n",
        "graph.add_edge(\"llm_response\", END)\n",
        "\n",
        "# 체크포인터 설정\n",
        "checkpointer = MemorySaver()\n",
        "\n",
        "# 그래프 컴파일\n",
        "compiled_graph = graph.compile(checkpointer=checkpointer)"
      ]
    },
    {
      "cell_type": "code",
      "execution_count": 27,
      "metadata": {
        "id": "PBHdl3sinv_o",
        "outputId": "75e0bb65-7c79-4d94-eb16-e342dcaa57be",
        "colab": {
          "base_uri": "https://localhost:8080/"
        }
      },
      "outputs": [
        {
          "output_type": "execute_result",
          "data": {
            "text/plain": [
              "{'query': '제가 좋아하는 것은 찹쌀떡입니다. 기억해 주세요.',\n",
              " 'messages': [SystemMessage(content='당신은 최소한의 응답을 하는 대화 에이전트입니다.', additional_kwargs={}, response_metadata={}),\n",
              "  HumanMessage(content='제가 좋아하는 것은 찹쌀떡입니다. 기억해 주세요.', additional_kwargs={}, response_metadata={}),\n",
              "  AIMessage(content='알겠습니다. 찹쌀떡을 좋아하시는군요!', additional_kwargs={'refusal': None}, response_metadata={'token_usage': {'completion_tokens': 17, 'prompt_tokens': 45, 'total_tokens': 62, 'completion_tokens_details': {'accepted_prediction_tokens': 0, 'audio_tokens': 0, 'reasoning_tokens': 0, 'rejected_prediction_tokens': 0}, 'prompt_tokens_details': {'audio_tokens': 0, 'cached_tokens': 0}}, 'model_name': 'gpt-4o-mini-2024-07-18', 'system_fingerprint': 'fp_44added55e', 'finish_reason': 'stop', 'logprobs': None}, id='run-c6378842-7f79-4602-b324-3ed6a93a360f-0', usage_metadata={'input_tokens': 45, 'output_tokens': 17, 'total_tokens': 62})]}"
            ]
          },
          "metadata": {},
          "execution_count": 27
        }
      ],
      "source": [
        "config = {\"configurable\": {\"thread_id\": \"example-1\"}}\n",
        "user_query = State(query=\"제가 좋아하는 것은 찹쌀떡입니다. 기억해 주세요.\")\n",
        "first_response = compiled_graph.invoke(user_query, config)\n",
        "first_response"
      ]
    },
    {
      "cell_type": "code",
      "execution_count": 28,
      "metadata": {
        "id": "sTwRdqYOnv_o",
        "outputId": "07a00758-1281-4c1b-fcd7-45f3b7916508",
        "colab": {
          "base_uri": "https://localhost:8080/"
        }
      },
      "outputs": [
        {
          "output_type": "stream",
          "name": "stdout",
          "text": [
            "CheckpointTuple(config={'configurable': {'thread_id': 'example-1', 'checkpoint_ns': '', 'checkpoint_id': '1f01688c-c655-69ab-8002-e519a612c670'}}, checkpoint={'v': 1, 'ts': '2025-04-11T03:55:24.904264+00:00', 'id': '1f01688c-c655-69ab-8002-e519a612c670', 'channel_values': {'query': '제가 좋아하는 것은 찹쌀떡입니다. 기억해 주세요.', 'messages': [SystemMessage(content='당신은 최소한의 응답을 하는 대화 에이전트입니다.', additional_kwargs={}, response_metadata={}), HumanMessage(content='제가 좋아하는 것은 찹쌀떡입니다. 기억해 주세요.', additional_kwargs={}, response_metadata={}), AIMessage(content='알겠습니다. 찹쌀떡을 좋아하시는군요!', additional_kwargs={'refusal': None}, response_metadata={'token_usage': {'completion_tokens': 17, 'prompt_tokens': 45, 'total_tokens': 62, 'completion_tokens_details': {'accepted_prediction_tokens': 0, 'audio_tokens': 0, 'reasoning_tokens': 0, 'rejected_prediction_tokens': 0}, 'prompt_tokens_details': {'audio_tokens': 0, 'cached_tokens': 0}}, 'model_name': 'gpt-4o-mini-2024-07-18', 'system_fingerprint': 'fp_44added55e', 'finish_reason': 'stop', 'logprobs': None}, id='run-c6378842-7f79-4602-b324-3ed6a93a360f-0', usage_metadata={'input_tokens': 45, 'output_tokens': 17, 'total_tokens': 62})], 'llm_response': 'llm_response'}, 'channel_versions': {'__start__': '00000000000000000000000000000002.0.37250505249534727', 'query': '00000000000000000000000000000002.0.009274715044581328', 'messages': '00000000000000000000000000000004.0.19264096596882374', 'start:add_message': '00000000000000000000000000000003.0.5166856013120703', 'add_message': '00000000000000000000000000000004.0.715315581498751', 'llm_response': '00000000000000000000000000000004.0.8481514520723819'}, 'versions_seen': {'__input__': {}, '__start__': {'__start__': '00000000000000000000000000000001.0.14281673137839745'}, 'add_message': {'start:add_message': '00000000000000000000000000000002.0.21925176688595127'}, 'llm_response': {'add_message': '00000000000000000000000000000003.0.405511410013602'}}, 'pending_sends': []}, metadata={'source': 'loop', 'writes': {'llm_response': {'messages': [AIMessage(content='알겠습니다. 찹쌀떡을 좋아하시는군요!', additional_kwargs={'refusal': None}, response_metadata={'token_usage': {'completion_tokens': 17, 'prompt_tokens': 45, 'total_tokens': 62, 'completion_tokens_details': {'accepted_prediction_tokens': 0, 'audio_tokens': 0, 'reasoning_tokens': 0, 'rejected_prediction_tokens': 0}, 'prompt_tokens_details': {'audio_tokens': 0, 'cached_tokens': 0}}, 'model_name': 'gpt-4o-mini-2024-07-18', 'system_fingerprint': 'fp_44added55e', 'finish_reason': 'stop', 'logprobs': None}, id='run-c6378842-7f79-4602-b324-3ed6a93a360f-0', usage_metadata={'input_tokens': 45, 'output_tokens': 17, 'total_tokens': 62})]}}, 'step': 2, 'parents': {}}, parent_config={'configurable': {'thread_id': 'example-1', 'checkpoint_ns': '', 'checkpoint_id': '1f01688c-bf92-6893-8001-0c6acc93ea0d'}}, pending_writes=[])\n",
            "CheckpointTuple(config={'configurable': {'thread_id': 'example-1', 'checkpoint_ns': '', 'checkpoint_id': '1f01688c-bf92-6893-8001-0c6acc93ea0d'}}, checkpoint={'v': 1, 'ts': '2025-04-11T03:55:24.195213+00:00', 'id': '1f01688c-bf92-6893-8001-0c6acc93ea0d', 'channel_values': {'query': '제가 좋아하는 것은 찹쌀떡입니다. 기억해 주세요.', 'messages': [SystemMessage(content='당신은 최소한의 응답을 하는 대화 에이전트입니다.', additional_kwargs={}, response_metadata={}), HumanMessage(content='제가 좋아하는 것은 찹쌀떡입니다. 기억해 주세요.', additional_kwargs={}, response_metadata={})], 'add_message': 'add_message'}, 'channel_versions': {'__start__': '00000000000000000000000000000002.0.37250505249534727', 'query': '00000000000000000000000000000002.0.009274715044581328', 'messages': '00000000000000000000000000000003.0.9043923987043467', 'start:add_message': '00000000000000000000000000000003.0.5166856013120703', 'add_message': '00000000000000000000000000000003.0.405511410013602'}, 'versions_seen': {'__input__': {}, '__start__': {'__start__': '00000000000000000000000000000001.0.14281673137839745'}, 'add_message': {'start:add_message': '00000000000000000000000000000002.0.21925176688595127'}}, 'pending_sends': []}, metadata={'source': 'loop', 'writes': {'add_message': {'messages': [SystemMessage(content='당신은 최소한의 응답을 하는 대화 에이전트입니다.', additional_kwargs={}, response_metadata={}), HumanMessage(content='제가 좋아하는 것은 찹쌀떡입니다. 기억해 주세요.', additional_kwargs={}, response_metadata={})]}}, 'step': 1, 'parents': {}}, parent_config={'configurable': {'thread_id': 'example-1', 'checkpoint_ns': '', 'checkpoint_id': '1f01688c-bf89-6bba-8000-702f2c82407d'}}, pending_writes=[])\n",
            "CheckpointTuple(config={'configurable': {'thread_id': 'example-1', 'checkpoint_ns': '', 'checkpoint_id': '1f01688c-bf89-6bba-8000-702f2c82407d'}}, checkpoint={'v': 1, 'ts': '2025-04-11T03:55:24.191607+00:00', 'id': '1f01688c-bf89-6bba-8000-702f2c82407d', 'channel_values': {'query': '제가 좋아하는 것은 찹쌀떡입니다. 기억해 주세요.', 'messages': [], 'start:add_message': '__start__'}, 'channel_versions': {'__start__': '00000000000000000000000000000002.0.37250505249534727', 'query': '00000000000000000000000000000002.0.009274715044581328', 'messages': '00000000000000000000000000000002.0.03488198165073653', 'start:add_message': '00000000000000000000000000000002.0.21925176688595127'}, 'versions_seen': {'__input__': {}, '__start__': {'__start__': '00000000000000000000000000000001.0.14281673137839745'}}, 'pending_sends': []}, metadata={'source': 'loop', 'writes': None, 'step': 0, 'parents': {}}, parent_config={'configurable': {'thread_id': 'example-1', 'checkpoint_ns': '', 'checkpoint_id': '1f01688c-bf7f-6568-bfff-8f9028d65a1d'}}, pending_writes=[])\n",
            "CheckpointTuple(config={'configurable': {'thread_id': 'example-1', 'checkpoint_ns': '', 'checkpoint_id': '1f01688c-bf7f-6568-bfff-8f9028d65a1d'}}, checkpoint={'v': 1, 'ts': '2025-04-11T03:55:24.187361+00:00', 'id': '1f01688c-bf7f-6568-bfff-8f9028d65a1d', 'channel_values': {'__start__': State(query='제가 좋아하는 것은 찹쌀떡입니다. 기억해 주세요.', messages=[])}, 'channel_versions': {'__start__': '00000000000000000000000000000001.0.14281673137839745'}, 'versions_seen': {'__input__': {}}, 'pending_sends': []}, metadata={'source': 'input', 'writes': {'__start__': State(query='제가 좋아하는 것은 찹쌀떡입니다. 기억해 주세요.', messages=[])}, 'step': -1, 'parents': {}}, parent_config=None, pending_writes=[])\n"
          ]
        }
      ],
      "source": [
        "for checkpoint in checkpointer.list(config):\n",
        "    print(checkpoint)"
      ]
    },
    {
      "cell_type": "code",
      "execution_count": 29,
      "metadata": {
        "id": "p458ZcsTnv_o",
        "outputId": "c8dbf275-71e2-430e-bcd2-706a67b56e2f",
        "colab": {
          "base_uri": "https://localhost:8080/"
        }
      },
      "outputs": [
        {
          "output_type": "stream",
          "name": "stdout",
          "text": [
            "체크포인트 데이터:\n",
            "{'channel_values': {'llm_response': 'llm_response',\n",
            "                    'messages': [SystemMessage(content='당신은 최소한의 응답을 하는 대화 에이전트입니다.', additional_kwargs={}, response_metadata={}),\n",
            "                                 HumanMessage(content='제가 좋아하는 것은 찹쌀떡입니다. 기억해 주세요.', additional_kwargs={}, response_metadata={}),\n",
            "                                 AIMessage(content='알겠습니다. 찹쌀떡을 좋아하시는군요!', additional_kwargs={'refusal': None}, response_metadata={'token_usage': {'completion_tokens': 17, 'prompt_tokens': 45, 'total_tokens': 62, 'completion_tokens_details': {'accepted_prediction_tokens': 0, 'audio_tokens': 0, 'reasoning_tokens': 0, 'rejected_prediction_tokens': 0}, 'prompt_tokens_details': {'audio_tokens': 0, 'cached_tokens': 0}}, 'model_name': 'gpt-4o-mini-2024-07-18', 'system_fingerprint': 'fp_44added55e', 'finish_reason': 'stop', 'logprobs': None}, id='run-c6378842-7f79-4602-b324-3ed6a93a360f-0', usage_metadata={'input_tokens': 45, 'output_tokens': 17, 'total_tokens': 62})],\n",
            "                    'query': '제가 좋아하는 것은 찹쌀떡입니다. 기억해 주세요.'},\n",
            " 'channel_versions': {'__start__': '00000000000000000000000000000002.0.37250505249534727',\n",
            "                      'add_message': '00000000000000000000000000000004.0.715315581498751',\n",
            "                      'llm_response': '00000000000000000000000000000004.0.8481514520723819',\n",
            "                      'messages': '00000000000000000000000000000004.0.19264096596882374',\n",
            "                      'query': '00000000000000000000000000000002.0.009274715044581328',\n",
            "                      'start:add_message': '00000000000000000000000000000003.0.5166856013120703'},\n",
            " 'id': '1f01688c-c655-69ab-8002-e519a612c670',\n",
            " 'pending_sends': [],\n",
            " 'ts': '2025-04-11T03:55:24.904264+00:00',\n",
            " 'v': 1,\n",
            " 'versions_seen': {'__input__': {},\n",
            "                   '__start__': {'__start__': '00000000000000000000000000000001.0.14281673137839745'},\n",
            "                   'add_message': {'start:add_message': '00000000000000000000000000000002.0.21925176688595127'},\n",
            "                   'llm_response': {'add_message': '00000000000000000000000000000003.0.405511410013602'}}}\n",
            "\n",
            "메타데이터:\n",
            "{'parents': {},\n",
            " 'source': 'loop',\n",
            " 'step': 2,\n",
            " 'writes': {'llm_response': {'messages': [AIMessage(content='알겠습니다. 찹쌀떡을 좋아하시는군요!', additional_kwargs={'refusal': None}, response_metadata={'token_usage': {'completion_tokens': 17, 'prompt_tokens': 45, 'total_tokens': 62, 'completion_tokens_details': {'accepted_prediction_tokens': 0, 'audio_tokens': 0, 'reasoning_tokens': 0, 'rejected_prediction_tokens': 0}, 'prompt_tokens_details': {'audio_tokens': 0, 'cached_tokens': 0}}, 'model_name': 'gpt-4o-mini-2024-07-18', 'system_fingerprint': 'fp_44added55e', 'finish_reason': 'stop', 'logprobs': None}, id='run-c6378842-7f79-4602-b324-3ed6a93a360f-0', usage_metadata={'input_tokens': 45, 'output_tokens': 17, 'total_tokens': 62})]}}}\n"
          ]
        }
      ],
      "source": [
        "print_checkpoint_dump(checkpointer, config)"
      ]
    },
    {
      "cell_type": "code",
      "execution_count": 30,
      "metadata": {
        "id": "JDXyKjdtnv_o",
        "outputId": "321d7c36-ccfc-49c8-e3a1-704951321c15",
        "colab": {
          "base_uri": "https://localhost:8080/"
        }
      },
      "outputs": [
        {
          "output_type": "execute_result",
          "data": {
            "text/plain": [
              "{'query': '제가 좋아하는 것이 뭔지 기억나세요?',\n",
              " 'messages': [SystemMessage(content='당신은 최소한의 응답을 하는 대화 에이전트입니다.', additional_kwargs={}, response_metadata={}),\n",
              "  HumanMessage(content='제가 좋아하는 것은 찹쌀떡입니다. 기억해 주세요.', additional_kwargs={}, response_metadata={}),\n",
              "  AIMessage(content='알겠습니다. 찹쌀떡을 좋아하시는군요!', additional_kwargs={'refusal': None}, response_metadata={'token_usage': {'completion_tokens': 17, 'prompt_tokens': 45, 'total_tokens': 62, 'completion_tokens_details': {'accepted_prediction_tokens': 0, 'audio_tokens': 0, 'reasoning_tokens': 0, 'rejected_prediction_tokens': 0}, 'prompt_tokens_details': {'audio_tokens': 0, 'cached_tokens': 0}}, 'model_name': 'gpt-4o-mini-2024-07-18', 'system_fingerprint': 'fp_44added55e', 'finish_reason': 'stop', 'logprobs': None}, id='run-c6378842-7f79-4602-b324-3ed6a93a360f-0', usage_metadata={'input_tokens': 45, 'output_tokens': 17, 'total_tokens': 62}),\n",
              "  HumanMessage(content='제가 좋아하는 것이 뭔지 기억나세요?', additional_kwargs={}, response_metadata={}),\n",
              "  AIMessage(content='네, 찹쌀떡을 좋아하신다고 하셨습니다.', additional_kwargs={'refusal': None}, response_metadata={'token_usage': {'completion_tokens': 18, 'prompt_tokens': 80, 'total_tokens': 98, 'completion_tokens_details': {'accepted_prediction_tokens': 0, 'audio_tokens': 0, 'reasoning_tokens': 0, 'rejected_prediction_tokens': 0}, 'prompt_tokens_details': {'audio_tokens': 0, 'cached_tokens': 0}}, 'model_name': 'gpt-4o-mini-2024-07-18', 'system_fingerprint': 'fp_44added55e', 'finish_reason': 'stop', 'logprobs': None}, id='run-640abe74-8686-4299-a3a7-ab7926f9f3c4-0', usage_metadata={'input_tokens': 80, 'output_tokens': 18, 'total_tokens': 98})]}"
            ]
          },
          "metadata": {},
          "execution_count": 30
        }
      ],
      "source": [
        "user_query = State(query=\"제가 좋아하는 것이 뭔지 기억나세요?\")\n",
        "second_response = compiled_graph.invoke(user_query, config)\n",
        "second_response"
      ]
    },
    {
      "cell_type": "code",
      "execution_count": 31,
      "metadata": {
        "id": "XfUeZjDDnv_p",
        "outputId": "16054378-a67f-428e-f0a1-4dfe2431655f",
        "colab": {
          "base_uri": "https://localhost:8080/"
        }
      },
      "outputs": [
        {
          "output_type": "stream",
          "name": "stdout",
          "text": [
            "CheckpointTuple(config={'configurable': {'thread_id': 'example-1', 'checkpoint_ns': '', 'checkpoint_id': '1f01688d-edf8-61e1-8006-4d8b48c912d1'}}, checkpoint={'v': 1, 'ts': '2025-04-11T03:55:55.903820+00:00', 'id': '1f01688d-edf8-61e1-8006-4d8b48c912d1', 'channel_values': {'query': '제가 좋아하는 것이 뭔지 기억나세요?', 'messages': [SystemMessage(content='당신은 최소한의 응답을 하는 대화 에이전트입니다.', additional_kwargs={}, response_metadata={}), HumanMessage(content='제가 좋아하는 것은 찹쌀떡입니다. 기억해 주세요.', additional_kwargs={}, response_metadata={}), AIMessage(content='알겠습니다. 찹쌀떡을 좋아하시는군요!', additional_kwargs={'refusal': None}, response_metadata={'token_usage': {'completion_tokens': 17, 'prompt_tokens': 45, 'total_tokens': 62, 'completion_tokens_details': {'accepted_prediction_tokens': 0, 'audio_tokens': 0, 'reasoning_tokens': 0, 'rejected_prediction_tokens': 0}, 'prompt_tokens_details': {'audio_tokens': 0, 'cached_tokens': 0}}, 'model_name': 'gpt-4o-mini-2024-07-18', 'system_fingerprint': 'fp_44added55e', 'finish_reason': 'stop', 'logprobs': None}, id='run-c6378842-7f79-4602-b324-3ed6a93a360f-0', usage_metadata={'input_tokens': 45, 'output_tokens': 17, 'total_tokens': 62}), HumanMessage(content='제가 좋아하는 것이 뭔지 기억나세요?', additional_kwargs={}, response_metadata={}), AIMessage(content='네, 찹쌀떡을 좋아하신다고 하셨습니다.', additional_kwargs={'refusal': None}, response_metadata={'token_usage': {'completion_tokens': 18, 'prompt_tokens': 80, 'total_tokens': 98, 'completion_tokens_details': {'accepted_prediction_tokens': 0, 'audio_tokens': 0, 'reasoning_tokens': 0, 'rejected_prediction_tokens': 0}, 'prompt_tokens_details': {'audio_tokens': 0, 'cached_tokens': 0}}, 'model_name': 'gpt-4o-mini-2024-07-18', 'system_fingerprint': 'fp_44added55e', 'finish_reason': 'stop', 'logprobs': None}, id='run-640abe74-8686-4299-a3a7-ab7926f9f3c4-0', usage_metadata={'input_tokens': 80, 'output_tokens': 18, 'total_tokens': 98})], 'llm_response': 'llm_response'}, 'channel_versions': {'__start__': '00000000000000000000000000000006.0.789047241258344', 'query': '00000000000000000000000000000006.0.3730153966814451', 'messages': '00000000000000000000000000000008.0.2259899114611691', 'start:add_message': '00000000000000000000000000000007.0.17078280951029134', 'add_message': '00000000000000000000000000000008.0.7748391386113026', 'llm_response': '00000000000000000000000000000008.0.9542027376769396'}, 'versions_seen': {'__input__': {}, '__start__': {'__start__': '00000000000000000000000000000005.0.019678501200296794'}, 'add_message': {'start:add_message': '00000000000000000000000000000006.0.39185894455578263'}, 'llm_response': {'add_message': '00000000000000000000000000000007.0.07543409832350634'}}, 'pending_sends': []}, metadata={'source': 'loop', 'writes': {'llm_response': {'messages': [AIMessage(content='네, 찹쌀떡을 좋아하신다고 하셨습니다.', additional_kwargs={'refusal': None}, response_metadata={'token_usage': {'completion_tokens': 18, 'prompt_tokens': 80, 'total_tokens': 98, 'completion_tokens_details': {'accepted_prediction_tokens': 0, 'audio_tokens': 0, 'reasoning_tokens': 0, 'rejected_prediction_tokens': 0}, 'prompt_tokens_details': {'audio_tokens': 0, 'cached_tokens': 0}}, 'model_name': 'gpt-4o-mini-2024-07-18', 'system_fingerprint': 'fp_44added55e', 'finish_reason': 'stop', 'logprobs': None}, id='run-640abe74-8686-4299-a3a7-ab7926f9f3c4-0', usage_metadata={'input_tokens': 80, 'output_tokens': 18, 'total_tokens': 98})]}}, 'step': 6, 'parents': {}}, parent_config={'configurable': {'thread_id': 'example-1', 'checkpoint_ns': '', 'checkpoint_id': '1f01688d-e5aa-6211-8005-da2e4a273fe8'}}, pending_writes=[])\n",
            "CheckpointTuple(config={'configurable': {'thread_id': 'example-1', 'checkpoint_ns': '', 'checkpoint_id': '1f01688d-e5aa-6211-8005-da2e4a273fe8'}}, checkpoint={'v': 1, 'ts': '2025-04-11T03:55:55.033017+00:00', 'id': '1f01688d-e5aa-6211-8005-da2e4a273fe8', 'channel_values': {'query': '제가 좋아하는 것이 뭔지 기억나세요?', 'messages': [SystemMessage(content='당신은 최소한의 응답을 하는 대화 에이전트입니다.', additional_kwargs={}, response_metadata={}), HumanMessage(content='제가 좋아하는 것은 찹쌀떡입니다. 기억해 주세요.', additional_kwargs={}, response_metadata={}), AIMessage(content='알겠습니다. 찹쌀떡을 좋아하시는군요!', additional_kwargs={'refusal': None}, response_metadata={'token_usage': {'completion_tokens': 17, 'prompt_tokens': 45, 'total_tokens': 62, 'completion_tokens_details': {'accepted_prediction_tokens': 0, 'audio_tokens': 0, 'reasoning_tokens': 0, 'rejected_prediction_tokens': 0}, 'prompt_tokens_details': {'audio_tokens': 0, 'cached_tokens': 0}}, 'model_name': 'gpt-4o-mini-2024-07-18', 'system_fingerprint': 'fp_44added55e', 'finish_reason': 'stop', 'logprobs': None}, id='run-c6378842-7f79-4602-b324-3ed6a93a360f-0', usage_metadata={'input_tokens': 45, 'output_tokens': 17, 'total_tokens': 62}), HumanMessage(content='제가 좋아하는 것이 뭔지 기억나세요?', additional_kwargs={}, response_metadata={})], 'add_message': 'add_message'}, 'channel_versions': {'__start__': '00000000000000000000000000000006.0.789047241258344', 'query': '00000000000000000000000000000006.0.3730153966814451', 'messages': '00000000000000000000000000000007.0.7020106499985738', 'start:add_message': '00000000000000000000000000000007.0.17078280951029134', 'add_message': '00000000000000000000000000000007.0.07543409832350634', 'llm_response': '00000000000000000000000000000005.0.6572726194406909'}, 'versions_seen': {'__input__': {}, '__start__': {'__start__': '00000000000000000000000000000005.0.019678501200296794'}, 'add_message': {'start:add_message': '00000000000000000000000000000006.0.39185894455578263'}, 'llm_response': {'add_message': '00000000000000000000000000000003.0.405511410013602'}}, 'pending_sends': []}, metadata={'source': 'loop', 'writes': {'add_message': {'messages': [HumanMessage(content='제가 좋아하는 것이 뭔지 기억나세요?', additional_kwargs={}, response_metadata={})]}}, 'step': 5, 'parents': {}}, parent_config={'configurable': {'thread_id': 'example-1', 'checkpoint_ns': '', 'checkpoint_id': '1f01688d-e5a2-6ebe-8004-cf83fd7a4a52'}}, pending_writes=[])\n",
            "CheckpointTuple(config={'configurable': {'thread_id': 'example-1', 'checkpoint_ns': '', 'checkpoint_id': '1f01688d-e5a2-6ebe-8004-cf83fd7a4a52'}}, checkpoint={'v': 1, 'ts': '2025-04-11T03:55:55.030054+00:00', 'id': '1f01688d-e5a2-6ebe-8004-cf83fd7a4a52', 'channel_values': {'query': '제가 좋아하는 것이 뭔지 기억나세요?', 'messages': [SystemMessage(content='당신은 최소한의 응답을 하는 대화 에이전트입니다.', additional_kwargs={}, response_metadata={}), HumanMessage(content='제가 좋아하는 것은 찹쌀떡입니다. 기억해 주세요.', additional_kwargs={}, response_metadata={}), AIMessage(content='알겠습니다. 찹쌀떡을 좋아하시는군요!', additional_kwargs={'refusal': None}, response_metadata={'token_usage': {'completion_tokens': 17, 'prompt_tokens': 45, 'total_tokens': 62, 'completion_tokens_details': {'accepted_prediction_tokens': 0, 'audio_tokens': 0, 'reasoning_tokens': 0, 'rejected_prediction_tokens': 0}, 'prompt_tokens_details': {'audio_tokens': 0, 'cached_tokens': 0}}, 'model_name': 'gpt-4o-mini-2024-07-18', 'system_fingerprint': 'fp_44added55e', 'finish_reason': 'stop', 'logprobs': None}, id='run-c6378842-7f79-4602-b324-3ed6a93a360f-0', usage_metadata={'input_tokens': 45, 'output_tokens': 17, 'total_tokens': 62})], 'start:add_message': '__start__'}, 'channel_versions': {'__start__': '00000000000000000000000000000006.0.789047241258344', 'query': '00000000000000000000000000000006.0.3730153966814451', 'messages': '00000000000000000000000000000006.0.2801689386337022', 'start:add_message': '00000000000000000000000000000006.0.39185894455578263', 'add_message': '00000000000000000000000000000004.0.715315581498751', 'llm_response': '00000000000000000000000000000005.0.6572726194406909'}, 'versions_seen': {'__input__': {}, '__start__': {'__start__': '00000000000000000000000000000005.0.019678501200296794'}, 'add_message': {'start:add_message': '00000000000000000000000000000002.0.21925176688595127'}, 'llm_response': {'add_message': '00000000000000000000000000000003.0.405511410013602'}}, 'pending_sends': []}, metadata={'source': 'loop', 'writes': None, 'step': 4, 'parents': {}}, parent_config={'configurable': {'thread_id': 'example-1', 'checkpoint_ns': '', 'checkpoint_id': '1f01688d-e593-6571-8003-5f466859d496'}}, pending_writes=[])\n",
            "CheckpointTuple(config={'configurable': {'thread_id': 'example-1', 'checkpoint_ns': '', 'checkpoint_id': '1f01688d-e593-6571-8003-5f466859d496'}}, checkpoint={'v': 1, 'ts': '2025-04-11T03:55:55.023674+00:00', 'id': '1f01688d-e593-6571-8003-5f466859d496', 'channel_values': {'query': '제가 좋아하는 것은 찹쌀떡입니다. 기억해 주세요.', 'messages': [SystemMessage(content='당신은 최소한의 응답을 하는 대화 에이전트입니다.', additional_kwargs={}, response_metadata={}), HumanMessage(content='제가 좋아하는 것은 찹쌀떡입니다. 기억해 주세요.', additional_kwargs={}, response_metadata={}), AIMessage(content='알겠습니다. 찹쌀떡을 좋아하시는군요!', additional_kwargs={'refusal': None}, response_metadata={'token_usage': {'completion_tokens': 17, 'prompt_tokens': 45, 'total_tokens': 62, 'completion_tokens_details': {'accepted_prediction_tokens': 0, 'audio_tokens': 0, 'reasoning_tokens': 0, 'rejected_prediction_tokens': 0}, 'prompt_tokens_details': {'audio_tokens': 0, 'cached_tokens': 0}}, 'model_name': 'gpt-4o-mini-2024-07-18', 'system_fingerprint': 'fp_44added55e', 'finish_reason': 'stop', 'logprobs': None}, id='run-c6378842-7f79-4602-b324-3ed6a93a360f-0', usage_metadata={'input_tokens': 45, 'output_tokens': 17, 'total_tokens': 62})], '__start__': State(query='제가 좋아하는 것이 뭔지 기억나세요?', messages=[])}, 'channel_versions': {'__start__': '00000000000000000000000000000005.0.019678501200296794', 'query': '00000000000000000000000000000002.0.009274715044581328', 'messages': '00000000000000000000000000000004.0.19264096596882374', 'start:add_message': '00000000000000000000000000000003.0.5166856013120703', 'add_message': '00000000000000000000000000000004.0.715315581498751', 'llm_response': '00000000000000000000000000000005.0.6572726194406909'}, 'versions_seen': {'__input__': {}, '__start__': {'__start__': '00000000000000000000000000000001.0.14281673137839745'}, 'add_message': {'start:add_message': '00000000000000000000000000000002.0.21925176688595127'}, 'llm_response': {'add_message': '00000000000000000000000000000003.0.405511410013602'}}, 'pending_sends': []}, metadata={'source': 'input', 'writes': {'__start__': State(query='제가 좋아하는 것이 뭔지 기억나세요?', messages=[])}, 'step': 3, 'parents': {}}, parent_config={'configurable': {'thread_id': 'example-1', 'checkpoint_ns': '', 'checkpoint_id': '1f01688c-c655-69ab-8002-e519a612c670'}}, pending_writes=[])\n",
            "CheckpointTuple(config={'configurable': {'thread_id': 'example-1', 'checkpoint_ns': '', 'checkpoint_id': '1f01688c-c655-69ab-8002-e519a612c670'}}, checkpoint={'v': 1, 'ts': '2025-04-11T03:55:24.904264+00:00', 'id': '1f01688c-c655-69ab-8002-e519a612c670', 'channel_values': {'query': '제가 좋아하는 것은 찹쌀떡입니다. 기억해 주세요.', 'messages': [SystemMessage(content='당신은 최소한의 응답을 하는 대화 에이전트입니다.', additional_kwargs={}, response_metadata={}), HumanMessage(content='제가 좋아하는 것은 찹쌀떡입니다. 기억해 주세요.', additional_kwargs={}, response_metadata={}), AIMessage(content='알겠습니다. 찹쌀떡을 좋아하시는군요!', additional_kwargs={'refusal': None}, response_metadata={'token_usage': {'completion_tokens': 17, 'prompt_tokens': 45, 'total_tokens': 62, 'completion_tokens_details': {'accepted_prediction_tokens': 0, 'audio_tokens': 0, 'reasoning_tokens': 0, 'rejected_prediction_tokens': 0}, 'prompt_tokens_details': {'audio_tokens': 0, 'cached_tokens': 0}}, 'model_name': 'gpt-4o-mini-2024-07-18', 'system_fingerprint': 'fp_44added55e', 'finish_reason': 'stop', 'logprobs': None}, id='run-c6378842-7f79-4602-b324-3ed6a93a360f-0', usage_metadata={'input_tokens': 45, 'output_tokens': 17, 'total_tokens': 62})], 'llm_response': 'llm_response'}, 'channel_versions': {'__start__': '00000000000000000000000000000002.0.37250505249534727', 'query': '00000000000000000000000000000002.0.009274715044581328', 'messages': '00000000000000000000000000000004.0.19264096596882374', 'start:add_message': '00000000000000000000000000000003.0.5166856013120703', 'add_message': '00000000000000000000000000000004.0.715315581498751', 'llm_response': '00000000000000000000000000000004.0.8481514520723819'}, 'versions_seen': {'__input__': {}, '__start__': {'__start__': '00000000000000000000000000000001.0.14281673137839745'}, 'add_message': {'start:add_message': '00000000000000000000000000000002.0.21925176688595127'}, 'llm_response': {'add_message': '00000000000000000000000000000003.0.405511410013602'}}, 'pending_sends': []}, metadata={'source': 'loop', 'writes': {'llm_response': {'messages': [AIMessage(content='알겠습니다. 찹쌀떡을 좋아하시는군요!', additional_kwargs={'refusal': None}, response_metadata={'token_usage': {'completion_tokens': 17, 'prompt_tokens': 45, 'total_tokens': 62, 'completion_tokens_details': {'accepted_prediction_tokens': 0, 'audio_tokens': 0, 'reasoning_tokens': 0, 'rejected_prediction_tokens': 0}, 'prompt_tokens_details': {'audio_tokens': 0, 'cached_tokens': 0}}, 'model_name': 'gpt-4o-mini-2024-07-18', 'system_fingerprint': 'fp_44added55e', 'finish_reason': 'stop', 'logprobs': None}, id='run-c6378842-7f79-4602-b324-3ed6a93a360f-0', usage_metadata={'input_tokens': 45, 'output_tokens': 17, 'total_tokens': 62})]}}, 'step': 2, 'parents': {}}, parent_config={'configurable': {'thread_id': 'example-1', 'checkpoint_ns': '', 'checkpoint_id': '1f01688c-bf92-6893-8001-0c6acc93ea0d'}}, pending_writes=[])\n",
            "CheckpointTuple(config={'configurable': {'thread_id': 'example-1', 'checkpoint_ns': '', 'checkpoint_id': '1f01688c-bf92-6893-8001-0c6acc93ea0d'}}, checkpoint={'v': 1, 'ts': '2025-04-11T03:55:24.195213+00:00', 'id': '1f01688c-bf92-6893-8001-0c6acc93ea0d', 'channel_values': {'query': '제가 좋아하는 것은 찹쌀떡입니다. 기억해 주세요.', 'messages': [SystemMessage(content='당신은 최소한의 응답을 하는 대화 에이전트입니다.', additional_kwargs={}, response_metadata={}), HumanMessage(content='제가 좋아하는 것은 찹쌀떡입니다. 기억해 주세요.', additional_kwargs={}, response_metadata={})], 'add_message': 'add_message'}, 'channel_versions': {'__start__': '00000000000000000000000000000002.0.37250505249534727', 'query': '00000000000000000000000000000002.0.009274715044581328', 'messages': '00000000000000000000000000000003.0.9043923987043467', 'start:add_message': '00000000000000000000000000000003.0.5166856013120703', 'add_message': '00000000000000000000000000000003.0.405511410013602'}, 'versions_seen': {'__input__': {}, '__start__': {'__start__': '00000000000000000000000000000001.0.14281673137839745'}, 'add_message': {'start:add_message': '00000000000000000000000000000002.0.21925176688595127'}}, 'pending_sends': []}, metadata={'source': 'loop', 'writes': {'add_message': {'messages': [SystemMessage(content='당신은 최소한의 응답을 하는 대화 에이전트입니다.', additional_kwargs={}, response_metadata={}), HumanMessage(content='제가 좋아하는 것은 찹쌀떡입니다. 기억해 주세요.', additional_kwargs={}, response_metadata={})]}}, 'step': 1, 'parents': {}}, parent_config={'configurable': {'thread_id': 'example-1', 'checkpoint_ns': '', 'checkpoint_id': '1f01688c-bf89-6bba-8000-702f2c82407d'}}, pending_writes=[])\n",
            "CheckpointTuple(config={'configurable': {'thread_id': 'example-1', 'checkpoint_ns': '', 'checkpoint_id': '1f01688c-bf89-6bba-8000-702f2c82407d'}}, checkpoint={'v': 1, 'ts': '2025-04-11T03:55:24.191607+00:00', 'id': '1f01688c-bf89-6bba-8000-702f2c82407d', 'channel_values': {'query': '제가 좋아하는 것은 찹쌀떡입니다. 기억해 주세요.', 'messages': [], 'start:add_message': '__start__'}, 'channel_versions': {'__start__': '00000000000000000000000000000002.0.37250505249534727', 'query': '00000000000000000000000000000002.0.009274715044581328', 'messages': '00000000000000000000000000000002.0.03488198165073653', 'start:add_message': '00000000000000000000000000000002.0.21925176688595127'}, 'versions_seen': {'__input__': {}, '__start__': {'__start__': '00000000000000000000000000000001.0.14281673137839745'}}, 'pending_sends': []}, metadata={'source': 'loop', 'writes': None, 'step': 0, 'parents': {}}, parent_config={'configurable': {'thread_id': 'example-1', 'checkpoint_ns': '', 'checkpoint_id': '1f01688c-bf7f-6568-bfff-8f9028d65a1d'}}, pending_writes=[])\n",
            "CheckpointTuple(config={'configurable': {'thread_id': 'example-1', 'checkpoint_ns': '', 'checkpoint_id': '1f01688c-bf7f-6568-bfff-8f9028d65a1d'}}, checkpoint={'v': 1, 'ts': '2025-04-11T03:55:24.187361+00:00', 'id': '1f01688c-bf7f-6568-bfff-8f9028d65a1d', 'channel_values': {'__start__': State(query='제가 좋아하는 것은 찹쌀떡입니다. 기억해 주세요.', messages=[])}, 'channel_versions': {'__start__': '00000000000000000000000000000001.0.14281673137839745'}, 'versions_seen': {'__input__': {}}, 'pending_sends': []}, metadata={'source': 'input', 'writes': {'__start__': State(query='제가 좋아하는 것은 찹쌀떡입니다. 기억해 주세요.', messages=[])}, 'step': -1, 'parents': {}}, parent_config=None, pending_writes=[])\n"
          ]
        }
      ],
      "source": [
        "for checkpoint in checkpointer.list(config):\n",
        "    print(checkpoint)"
      ]
    },
    {
      "cell_type": "code",
      "execution_count": 32,
      "metadata": {
        "id": "8LcdCNbjnv_p",
        "outputId": "5211c217-ef10-4f91-8191-e85c8f3c34d1",
        "colab": {
          "base_uri": "https://localhost:8080/"
        }
      },
      "outputs": [
        {
          "output_type": "stream",
          "name": "stdout",
          "text": [
            "체크포인트 데이터:\n",
            "{'channel_values': {'llm_response': 'llm_response',\n",
            "                    'messages': [SystemMessage(content='당신은 최소한의 응답을 하는 대화 에이전트입니다.', additional_kwargs={}, response_metadata={}),\n",
            "                                 HumanMessage(content='제가 좋아하는 것은 찹쌀떡입니다. 기억해 주세요.', additional_kwargs={}, response_metadata={}),\n",
            "                                 AIMessage(content='알겠습니다. 찹쌀떡을 좋아하시는군요!', additional_kwargs={'refusal': None}, response_metadata={'token_usage': {'completion_tokens': 17, 'prompt_tokens': 45, 'total_tokens': 62, 'completion_tokens_details': {'accepted_prediction_tokens': 0, 'audio_tokens': 0, 'reasoning_tokens': 0, 'rejected_prediction_tokens': 0}, 'prompt_tokens_details': {'audio_tokens': 0, 'cached_tokens': 0}}, 'model_name': 'gpt-4o-mini-2024-07-18', 'system_fingerprint': 'fp_44added55e', 'finish_reason': 'stop', 'logprobs': None}, id='run-c6378842-7f79-4602-b324-3ed6a93a360f-0', usage_metadata={'input_tokens': 45, 'output_tokens': 17, 'total_tokens': 62}),\n",
            "                                 HumanMessage(content='제가 좋아하는 것이 뭔지 기억나세요?', additional_kwargs={}, response_metadata={}),\n",
            "                                 AIMessage(content='네, 찹쌀떡을 좋아하신다고 하셨습니다.', additional_kwargs={'refusal': None}, response_metadata={'token_usage': {'completion_tokens': 18, 'prompt_tokens': 80, 'total_tokens': 98, 'completion_tokens_details': {'accepted_prediction_tokens': 0, 'audio_tokens': 0, 'reasoning_tokens': 0, 'rejected_prediction_tokens': 0}, 'prompt_tokens_details': {'audio_tokens': 0, 'cached_tokens': 0}}, 'model_name': 'gpt-4o-mini-2024-07-18', 'system_fingerprint': 'fp_44added55e', 'finish_reason': 'stop', 'logprobs': None}, id='run-640abe74-8686-4299-a3a7-ab7926f9f3c4-0', usage_metadata={'input_tokens': 80, 'output_tokens': 18, 'total_tokens': 98})],\n",
            "                    'query': '제가 좋아하는 것이 뭔지 기억나세요?'},\n",
            " 'channel_versions': {'__start__': '00000000000000000000000000000006.0.789047241258344',\n",
            "                      'add_message': '00000000000000000000000000000008.0.7748391386113026',\n",
            "                      'llm_response': '00000000000000000000000000000008.0.9542027376769396',\n",
            "                      'messages': '00000000000000000000000000000008.0.2259899114611691',\n",
            "                      'query': '00000000000000000000000000000006.0.3730153966814451',\n",
            "                      'start:add_message': '00000000000000000000000000000007.0.17078280951029134'},\n",
            " 'id': '1f01688d-edf8-61e1-8006-4d8b48c912d1',\n",
            " 'pending_sends': [],\n",
            " 'ts': '2025-04-11T03:55:55.903820+00:00',\n",
            " 'v': 1,\n",
            " 'versions_seen': {'__input__': {},\n",
            "                   '__start__': {'__start__': '00000000000000000000000000000005.0.019678501200296794'},\n",
            "                   'add_message': {'start:add_message': '00000000000000000000000000000006.0.39185894455578263'},\n",
            "                   'llm_response': {'add_message': '00000000000000000000000000000007.0.07543409832350634'}}}\n",
            "\n",
            "메타데이터:\n",
            "{'parents': {},\n",
            " 'source': 'loop',\n",
            " 'step': 6,\n",
            " 'writes': {'llm_response': {'messages': [AIMessage(content='네, 찹쌀떡을 좋아하신다고 하셨습니다.', additional_kwargs={'refusal': None}, response_metadata={'token_usage': {'completion_tokens': 18, 'prompt_tokens': 80, 'total_tokens': 98, 'completion_tokens_details': {'accepted_prediction_tokens': 0, 'audio_tokens': 0, 'reasoning_tokens': 0, 'rejected_prediction_tokens': 0}, 'prompt_tokens_details': {'audio_tokens': 0, 'cached_tokens': 0}}, 'model_name': 'gpt-4o-mini-2024-07-18', 'system_fingerprint': 'fp_44added55e', 'finish_reason': 'stop', 'logprobs': None}, id='run-640abe74-8686-4299-a3a7-ab7926f9f3c4-0', usage_metadata={'input_tokens': 80, 'output_tokens': 18, 'total_tokens': 98})]}}}\n"
          ]
        }
      ],
      "source": [
        "print_checkpoint_dump(checkpointer, config)"
      ]
    },
    {
      "cell_type": "code",
      "execution_count": 33,
      "metadata": {
        "id": "5phoZIxqnv_p",
        "outputId": "7548d349-79dd-45e6-a174-2f43ed533dbf",
        "colab": {
          "base_uri": "https://localhost:8080/"
        }
      },
      "outputs": [
        {
          "output_type": "execute_result",
          "data": {
            "text/plain": [
              "{'query': '제가 좋아하는 것은 뭔가요?',\n",
              " 'messages': [SystemMessage(content='당신은 최소한의 응답을 하는 대화 에이전트입니다.', additional_kwargs={}, response_metadata={}),\n",
              "  HumanMessage(content='제가 좋아하는 것은 뭔가요?', additional_kwargs={}, response_metadata={}),\n",
              "  AIMessage(content='잘 모르겠어요. 좋아하는 것을 말씀해 주실 수 있나요?', additional_kwargs={'refusal': None}, response_metadata={'token_usage': {'completion_tokens': 17, 'prompt_tokens': 38, 'total_tokens': 55, 'completion_tokens_details': {'accepted_prediction_tokens': 0, 'audio_tokens': 0, 'reasoning_tokens': 0, 'rejected_prediction_tokens': 0}, 'prompt_tokens_details': {'audio_tokens': 0, 'cached_tokens': 0}}, 'model_name': 'gpt-4o-mini-2024-07-18', 'system_fingerprint': 'fp_44added55e', 'finish_reason': 'stop', 'logprobs': None}, id='run-7c1a30e8-f086-4cb3-bc67-053403b2dad4-0', usage_metadata={'input_tokens': 38, 'output_tokens': 17, 'total_tokens': 55})]}"
            ]
          },
          "metadata": {},
          "execution_count": 33
        }
      ],
      "source": [
        "config = {\"configurable\": {\"thread_id\": \"example-2\"}}\n",
        "user_query = State(query=\"제가 좋아하는 것은 뭔가요?\")\n",
        "other_thread_response = compiled_graph.invoke(user_query, config)\n",
        "other_thread_response"
      ]
    }
  ],
  "metadata": {
    "kernelspec": {
      "display_name": "Python 3",
      "language": "python",
      "name": "python3"
    },
    "language_info": {
      "codemirror_mode": {
        "name": "ipython",
        "version": 3
      },
      "file_extension": ".py",
      "mimetype": "text/x-python",
      "name": "python",
      "nbconvert_exporter": "python",
      "pygments_lexer": "ipython3",
      "version": "3.11.8"
    },
    "colab": {
      "provenance": []
    }
  },
  "nbformat": 4,
  "nbformat_minor": 0
}