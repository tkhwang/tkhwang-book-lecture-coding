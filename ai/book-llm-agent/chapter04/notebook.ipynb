{
  "cells": [
    {
      "cell_type": "markdown",
      "metadata": {
        "id": "4EoZtMECpM1l"
      },
      "source": [
        "# 4. LangChain 기초\n"
      ]
    },
    {
      "cell_type": "code",
      "execution_count": 3,
      "metadata": {
        "id": "Iv5Q9gd9pM1m"
      },
      "outputs": [],
      "source": [
        "import os\n",
        "from google.colab import userdata\n",
        "\n",
        "os.environ[\"OPENAI_API_KEY\"] = userdata.get(\"OPENAI_API_KEY\")"
      ]
    },
    {
      "cell_type": "markdown",
      "metadata": {
        "id": "Bnl6fMJwpM1m"
      },
      "source": [
        "## 4.1. LangChain 개요\n"
      ]
    },
    {
      "cell_type": "markdown",
      "metadata": {
        "id": "-cy5h8brpM1m"
      },
      "source": [
        "### LangChain 설치\n"
      ]
    },
    {
      "cell_type": "code",
      "execution_count": 1,
      "metadata": {
        "id": "J68jaPsUpM1m",
        "outputId": "5acf1203-ebcb-47fa-ed96-f7fd18c41274",
        "colab": {
          "base_uri": "https://localhost:8080/"
        }
      },
      "outputs": [
        {
          "output_type": "stream",
          "name": "stdout",
          "text": [
            "Collecting langchain-core==0.3.0\n",
            "  Downloading langchain_core-0.3.0-py3-none-any.whl.metadata (6.2 kB)\n",
            "Collecting langchain-openai==0.2.0\n",
            "  Downloading langchain_openai-0.2.0-py3-none-any.whl.metadata (2.6 kB)\n",
            "Collecting pydantic==2.9.2\n",
            "  Downloading pydantic-2.9.2-py3-none-any.whl.metadata (149 kB)\n",
            "\u001b[2K     \u001b[90m━━━━━━━━━━━━━━━━━━━━━━━━━━━━━━━━━━━━━━━━\u001b[0m \u001b[32m149.4/149.4 kB\u001b[0m \u001b[31m2.7 MB/s\u001b[0m eta \u001b[36m0:00:00\u001b[0m\n",
            "\u001b[?25hRequirement already satisfied: PyYAML>=5.3 in /usr/local/lib/python3.11/dist-packages (from langchain-core==0.3.0) (6.0.2)\n",
            "Requirement already satisfied: jsonpatch<2.0,>=1.33 in /usr/local/lib/python3.11/dist-packages (from langchain-core==0.3.0) (1.33)\n",
            "Collecting langsmith<0.2.0,>=0.1.117 (from langchain-core==0.3.0)\n",
            "  Downloading langsmith-0.1.147-py3-none-any.whl.metadata (14 kB)\n",
            "Requirement already satisfied: packaging<25,>=23.2 in /usr/local/lib/python3.11/dist-packages (from langchain-core==0.3.0) (24.2)\n",
            "Collecting tenacity!=8.4.0,<9.0.0,>=8.1.0 (from langchain-core==0.3.0)\n",
            "  Downloading tenacity-8.5.0-py3-none-any.whl.metadata (1.2 kB)\n",
            "Requirement already satisfied: typing-extensions>=4.7 in /usr/local/lib/python3.11/dist-packages (from langchain-core==0.3.0) (4.13.1)\n",
            "Requirement already satisfied: openai<2.0.0,>=1.40.0 in /usr/local/lib/python3.11/dist-packages (from langchain-openai==0.2.0) (1.70.0)\n",
            "Collecting tiktoken<1,>=0.7 (from langchain-openai==0.2.0)\n",
            "  Downloading tiktoken-0.9.0-cp311-cp311-manylinux_2_17_x86_64.manylinux2014_x86_64.whl.metadata (6.7 kB)\n",
            "Requirement already satisfied: annotated-types>=0.6.0 in /usr/local/lib/python3.11/dist-packages (from pydantic==2.9.2) (0.7.0)\n",
            "Collecting pydantic-core==2.23.4 (from pydantic==2.9.2)\n",
            "  Downloading pydantic_core-2.23.4-cp311-cp311-manylinux_2_17_x86_64.manylinux2014_x86_64.whl.metadata (6.6 kB)\n",
            "Requirement already satisfied: jsonpointer>=1.9 in /usr/local/lib/python3.11/dist-packages (from jsonpatch<2.0,>=1.33->langchain-core==0.3.0) (3.0.0)\n",
            "Requirement already satisfied: httpx<1,>=0.23.0 in /usr/local/lib/python3.11/dist-packages (from langsmith<0.2.0,>=0.1.117->langchain-core==0.3.0) (0.28.1)\n",
            "Requirement already satisfied: orjson<4.0.0,>=3.9.14 in /usr/local/lib/python3.11/dist-packages (from langsmith<0.2.0,>=0.1.117->langchain-core==0.3.0) (3.10.16)\n",
            "Requirement already satisfied: requests<3,>=2 in /usr/local/lib/python3.11/dist-packages (from langsmith<0.2.0,>=0.1.117->langchain-core==0.3.0) (2.32.3)\n",
            "Requirement already satisfied: requests-toolbelt<2.0.0,>=1.0.0 in /usr/local/lib/python3.11/dist-packages (from langsmith<0.2.0,>=0.1.117->langchain-core==0.3.0) (1.0.0)\n",
            "Requirement already satisfied: anyio<5,>=3.5.0 in /usr/local/lib/python3.11/dist-packages (from openai<2.0.0,>=1.40.0->langchain-openai==0.2.0) (4.9.0)\n",
            "Requirement already satisfied: distro<2,>=1.7.0 in /usr/local/lib/python3.11/dist-packages (from openai<2.0.0,>=1.40.0->langchain-openai==0.2.0) (1.9.0)\n",
            "Requirement already satisfied: jiter<1,>=0.4.0 in /usr/local/lib/python3.11/dist-packages (from openai<2.0.0,>=1.40.0->langchain-openai==0.2.0) (0.9.0)\n",
            "Requirement already satisfied: sniffio in /usr/local/lib/python3.11/dist-packages (from openai<2.0.0,>=1.40.0->langchain-openai==0.2.0) (1.3.1)\n",
            "Requirement already satisfied: tqdm>4 in /usr/local/lib/python3.11/dist-packages (from openai<2.0.0,>=1.40.0->langchain-openai==0.2.0) (4.67.1)\n",
            "Requirement already satisfied: regex>=2022.1.18 in /usr/local/lib/python3.11/dist-packages (from tiktoken<1,>=0.7->langchain-openai==0.2.0) (2024.11.6)\n",
            "Requirement already satisfied: idna>=2.8 in /usr/local/lib/python3.11/dist-packages (from anyio<5,>=3.5.0->openai<2.0.0,>=1.40.0->langchain-openai==0.2.0) (3.10)\n",
            "Requirement already satisfied: certifi in /usr/local/lib/python3.11/dist-packages (from httpx<1,>=0.23.0->langsmith<0.2.0,>=0.1.117->langchain-core==0.3.0) (2025.1.31)\n",
            "Requirement already satisfied: httpcore==1.* in /usr/local/lib/python3.11/dist-packages (from httpx<1,>=0.23.0->langsmith<0.2.0,>=0.1.117->langchain-core==0.3.0) (1.0.7)\n",
            "Requirement already satisfied: h11<0.15,>=0.13 in /usr/local/lib/python3.11/dist-packages (from httpcore==1.*->httpx<1,>=0.23.0->langsmith<0.2.0,>=0.1.117->langchain-core==0.3.0) (0.14.0)\n",
            "Requirement already satisfied: charset-normalizer<4,>=2 in /usr/local/lib/python3.11/dist-packages (from requests<3,>=2->langsmith<0.2.0,>=0.1.117->langchain-core==0.3.0) (3.4.1)\n",
            "Requirement already satisfied: urllib3<3,>=1.21.1 in /usr/local/lib/python3.11/dist-packages (from requests<3,>=2->langsmith<0.2.0,>=0.1.117->langchain-core==0.3.0) (2.3.0)\n",
            "Downloading langchain_core-0.3.0-py3-none-any.whl (405 kB)\n",
            "\u001b[2K   \u001b[90m━━━━━━━━━━━━━━━━━━━━━━━━━━━━━━━━━━━━━━━━\u001b[0m \u001b[32m405.1/405.1 kB\u001b[0m \u001b[31m11.5 MB/s\u001b[0m eta \u001b[36m0:00:00\u001b[0m\n",
            "\u001b[?25hDownloading langchain_openai-0.2.0-py3-none-any.whl (51 kB)\n",
            "\u001b[2K   \u001b[90m━━━━━━━━━━━━━━━━━━━━━━━━━━━━━━━━━━━━━━━━\u001b[0m \u001b[32m51.5/51.5 kB\u001b[0m \u001b[31m2.9 MB/s\u001b[0m eta \u001b[36m0:00:00\u001b[0m\n",
            "\u001b[?25hDownloading pydantic-2.9.2-py3-none-any.whl (434 kB)\n",
            "\u001b[2K   \u001b[90m━━━━━━━━━━━━━━━━━━━━━━━━━━━━━━━━━━━━━━━━\u001b[0m \u001b[32m434.9/434.9 kB\u001b[0m \u001b[31m16.8 MB/s\u001b[0m eta \u001b[36m0:00:00\u001b[0m\n",
            "\u001b[?25hDownloading pydantic_core-2.23.4-cp311-cp311-manylinux_2_17_x86_64.manylinux2014_x86_64.whl (2.1 MB)\n",
            "\u001b[2K   \u001b[90m━━━━━━━━━━━━━━━━━━━━━━━━━━━━━━━━━━━━━━━━\u001b[0m \u001b[32m2.1/2.1 MB\u001b[0m \u001b[31m17.2 MB/s\u001b[0m eta \u001b[36m0:00:00\u001b[0m\n",
            "\u001b[?25hDownloading langsmith-0.1.147-py3-none-any.whl (311 kB)\n",
            "\u001b[2K   \u001b[90m━━━━━━━━━━━━━━━━━━━━━━━━━━━━━━━━━━━━━━━━\u001b[0m \u001b[32m311.8/311.8 kB\u001b[0m \u001b[31m16.8 MB/s\u001b[0m eta \u001b[36m0:00:00\u001b[0m\n",
            "\u001b[?25hDownloading tenacity-8.5.0-py3-none-any.whl (28 kB)\n",
            "Downloading tiktoken-0.9.0-cp311-cp311-manylinux_2_17_x86_64.manylinux2014_x86_64.whl (1.2 MB)\n",
            "\u001b[2K   \u001b[90m━━━━━━━━━━━━━━━━━━━━━━━━━━━━━━━━━━━━━━━━\u001b[0m \u001b[32m1.2/1.2 MB\u001b[0m \u001b[31m28.0 MB/s\u001b[0m eta \u001b[36m0:00:00\u001b[0m\n",
            "\u001b[?25hInstalling collected packages: tenacity, pydantic-core, tiktoken, pydantic, langsmith, langchain-core, langchain-openai\n",
            "  Attempting uninstall: tenacity\n",
            "    Found existing installation: tenacity 9.1.2\n",
            "    Uninstalling tenacity-9.1.2:\n",
            "      Successfully uninstalled tenacity-9.1.2\n",
            "  Attempting uninstall: pydantic-core\n",
            "    Found existing installation: pydantic_core 2.33.1\n",
            "    Uninstalling pydantic_core-2.33.1:\n",
            "      Successfully uninstalled pydantic_core-2.33.1\n",
            "  Attempting uninstall: pydantic\n",
            "    Found existing installation: pydantic 2.11.2\n",
            "    Uninstalling pydantic-2.11.2:\n",
            "      Successfully uninstalled pydantic-2.11.2\n",
            "  Attempting uninstall: langsmith\n",
            "    Found existing installation: langsmith 0.3.23\n",
            "    Uninstalling langsmith-0.3.23:\n",
            "      Successfully uninstalled langsmith-0.3.23\n",
            "  Attempting uninstall: langchain-core\n",
            "    Found existing installation: langchain-core 0.3.50\n",
            "    Uninstalling langchain-core-0.3.50:\n",
            "      Successfully uninstalled langchain-core-0.3.50\n",
            "\u001b[31mERROR: pip's dependency resolver does not currently take into account all the packages that are installed. This behaviour is the source of the following dependency conflicts.\n",
            "langchain 0.3.22 requires langchain-core<1.0.0,>=0.3.49, but you have langchain-core 0.3.0 which is incompatible.\n",
            "langchain-text-splitters 0.3.7 requires langchain-core<1.0.0,>=0.3.45, but you have langchain-core 0.3.0 which is incompatible.\u001b[0m\u001b[31m\n",
            "\u001b[0mSuccessfully installed langchain-core-0.3.0 langchain-openai-0.2.0 langsmith-0.1.147 pydantic-2.9.2 pydantic-core-2.23.4 tenacity-8.5.0 tiktoken-0.9.0\n"
          ]
        }
      ],
      "source": [
        "!pip install langchain-core==0.3.0 langchain-openai==0.2.0 pydantic==2.9.2"
      ]
    },
    {
      "cell_type": "markdown",
      "metadata": {
        "id": "7kSjPI8lpM1m"
      },
      "source": [
        "### LangSmith 설정\n"
      ]
    },
    {
      "cell_type": "code",
      "execution_count": 4,
      "metadata": {
        "execution": {
          "iopub.execute_input": "2024-06-28T02:32:34.489407Z",
          "iopub.status.busy": "2024-06-28T02:32:34.488775Z",
          "iopub.status.idle": "2024-06-28T02:32:34.491583Z",
          "shell.execute_reply": "2024-06-28T02:32:34.491086Z"
        },
        "id": "4qy2JIE6pM1m"
      },
      "outputs": [],
      "source": [
        "os.environ[\"LANGCHAIN_TRACING_V2\"] = \"true\"\n",
        "os.environ[\"LANGCHAIN_ENDPOINT\"] = \"https://api.smith.langchain.com\"\n",
        "os.environ[\"LANGCHAIN_API_KEY\"] = userdata.get(\"LANGCHAIN_API_KEY\")\n",
        "os.environ[\"LANGCHAIN_PROJECT\"] = \"agent-book\""
      ]
    },
    {
      "cell_type": "markdown",
      "metadata": {
        "id": "MoPUgAVepM1m"
      },
      "source": [
        "## 4.2. LLM / Chat model\n"
      ]
    },
    {
      "cell_type": "markdown",
      "metadata": {
        "id": "MTyaGeDrpM1m"
      },
      "source": [
        "### LLM\n"
      ]
    },
    {
      "cell_type": "code",
      "execution_count": 9,
      "metadata": {
        "execution": {
          "iopub.execute_input": "2024-06-28T02:32:34.493540Z",
          "iopub.status.busy": "2024-06-28T02:32:34.493370Z",
          "iopub.status.idle": "2024-06-28T02:32:36.949739Z",
          "shell.execute_reply": "2024-06-28T02:32:36.949284Z"
        },
        "id": "cNEN3c_DpM1n",
        "outputId": "7fca5137-ecf2-486c-f29d-e0a77c7148b9",
        "colab": {
          "base_uri": "https://localhost:8080/"
        }
      },
      "outputs": [
        {
          "output_type": "stream",
          "name": "stdout",
          "text": [
            "\n",
            "\n",
            "안녕하세요. 반가워요. 저는 인공지능 언어모델 GPT-3입니다. 무엇을 도와드릴까요?\n"
          ]
        }
      ],
      "source": [
        "from langchain_openai import OpenAI\n",
        "\n",
        "model = OpenAI(model=\"gpt-3.5-turbo-instruct\", temperature=0)\n",
        "ai_message = model.invoke(\"안녕하세요. \")\n",
        "print(ai_message)"
      ]
    },
    {
      "cell_type": "markdown",
      "metadata": {
        "id": "eGTk9AMopM1n"
      },
      "source": [
        "### Chat model\n"
      ]
    },
    {
      "cell_type": "code",
      "execution_count": 10,
      "metadata": {
        "execution": {
          "iopub.execute_input": "2024-06-28T02:32:36.951724Z",
          "iopub.status.busy": "2024-06-28T02:32:36.951536Z",
          "iopub.status.idle": "2024-06-28T02:32:39.034259Z",
          "shell.execute_reply": "2024-06-28T02:32:39.033764Z"
        },
        "id": "Sv8QMiS7pM1n",
        "outputId": "82f1111e-f2a3-42a5-831c-e6970db51590",
        "colab": {
          "base_uri": "https://localhost:8080/"
        }
      },
      "outputs": [
        {
          "output_type": "stream",
          "name": "stdout",
          "text": [
            "네, 존님이라고 말씀하셨습니다! 어떻게 도와드릴까요?\n"
          ]
        }
      ],
      "source": [
        "from langchain_core.messages import AIMessage, HumanMessage, SystemMessage\n",
        "from langchain_openai import ChatOpenAI\n",
        "\n",
        "model = ChatOpenAI(model=\"gpt-4o-mini\", temperature=0)\n",
        "\n",
        "messages = [\n",
        "    SystemMessage(\"You are a helpful assistant.\"),\n",
        "    HumanMessage(\"안녕하세요! 저는 존이라고 합니다!\"),\n",
        "    AIMessage(content=\"안녕하세요, 존님! 어떤 도움이 필요하신가요?\"),\n",
        "    HumanMessage(content=\"제 이름을 아시나요?\"),\n",
        "]\n",
        "\n",
        "ai_message = model.invoke(messages)\n",
        "print(ai_message.content)"
      ]
    },
    {
      "cell_type": "markdown",
      "metadata": {
        "id": "6IZNoabGpM1n"
      },
      "source": [
        "### 스트리밍\n"
      ]
    },
    {
      "cell_type": "code",
      "execution_count": 11,
      "metadata": {
        "execution": {
          "iopub.execute_input": "2024-06-28T02:32:39.036893Z",
          "iopub.status.busy": "2024-06-28T02:32:39.036468Z",
          "iopub.status.idle": "2024-06-28T02:32:40.188998Z",
          "shell.execute_reply": "2024-06-28T02:32:40.188511Z"
        },
        "id": "JQaPmIZJpM1n",
        "outputId": "82b96830-2ddf-486c-af09-d3d6a0882814",
        "colab": {
          "base_uri": "https://localhost:8080/"
        }
      },
      "outputs": [
        {
          "output_type": "stream",
          "name": "stdout",
          "text": [
            "안녕하세요! 어떻게 도와드릴까요?"
          ]
        }
      ],
      "source": [
        "from langchain_core.messages import SystemMessage, HumanMessage\n",
        "from langchain_openai import ChatOpenAI\n",
        "\n",
        "model = ChatOpenAI(model=\"gpt-4o-mini\", temperature=0)\n",
        "\n",
        "messages = [\n",
        "    SystemMessage(\"You are a helpful assistant.\"),\n",
        "    HumanMessage(\"안녕하세요!\"),\n",
        "]\n",
        "\n",
        "for chunk in model.stream(messages):\n",
        "    print(chunk.content, end=\"\", flush=True)"
      ]
    },
    {
      "cell_type": "markdown",
      "metadata": {
        "id": "748HOmKcpM1n"
      },
      "source": [
        "## 4.3. Prompt template\n"
      ]
    },
    {
      "cell_type": "markdown",
      "metadata": {
        "id": "HGZbTcrCpM1n"
      },
      "source": [
        "### PromptTemplate\n"
      ]
    },
    {
      "cell_type": "code",
      "execution_count": 12,
      "metadata": {
        "execution": {
          "iopub.execute_input": "2024-06-28T02:32:40.191537Z",
          "iopub.status.busy": "2024-06-28T02:32:40.191222Z",
          "iopub.status.idle": "2024-06-28T02:32:40.197096Z",
          "shell.execute_reply": "2024-06-28T02:32:40.196704Z"
        },
        "id": "WUavdGF_pM1n",
        "outputId": "ddca107d-43a5-4956-e8ae-b8c8b5d2bd98",
        "colab": {
          "base_uri": "https://localhost:8080/"
        }
      },
      "outputs": [
        {
          "output_type": "stream",
          "name": "stdout",
          "text": [
            "다음 요리의 레시피를 생각해 주세요.\n",
            "\n",
            "요리명: 카레\n"
          ]
        }
      ],
      "source": [
        "from langchain_core.prompts import PromptTemplate\n",
        "\n",
        "prompt = PromptTemplate.from_template(\"\"\"다음 요리의 레시피를 생각해 주세요.\n",
        "\n",
        "요리명: {dish}\"\"\")\n",
        "\n",
        "prompt_value = prompt.invoke({\"dish\": \"카레\"})\n",
        "print(prompt_value.text)"
      ]
    },
    {
      "cell_type": "markdown",
      "metadata": {
        "id": "l7xn8Wn_pM1n"
      },
      "source": [
        "#### ＜보충: 프롬프트 변수가 1개인 경우＞\n"
      ]
    },
    {
      "cell_type": "code",
      "execution_count": 13,
      "metadata": {
        "id": "9ORP--QppM1n",
        "outputId": "5523ffad-ddbb-4a3f-a3b8-f5f6393d110e",
        "colab": {
          "base_uri": "https://localhost:8080/"
        }
      },
      "outputs": [
        {
          "output_type": "stream",
          "name": "stdout",
          "text": [
            "다음 요리의 레시피를 생각해 주세요.\n",
            "\n",
            "요리명: 카레\n"
          ]
        }
      ],
      "source": [
        "prompt_value = prompt.invoke(\"카레\")\n",
        "print(prompt_value.text)"
      ]
    },
    {
      "cell_type": "markdown",
      "metadata": {
        "id": "qldqXkC2pM1n"
      },
      "source": [
        "### ChatPromptTemplate\n"
      ]
    },
    {
      "cell_type": "code",
      "execution_count": 14,
      "metadata": {
        "execution": {
          "iopub.execute_input": "2024-06-28T02:32:40.199009Z",
          "iopub.status.busy": "2024-06-28T02:32:40.198811Z",
          "iopub.status.idle": "2024-06-28T02:32:40.204792Z",
          "shell.execute_reply": "2024-06-28T02:32:40.204434Z"
        },
        "id": "wd3KIQRZpM1n",
        "outputId": "bb2de7a8-ad8b-44d4-e8e0-b062ee6672c1",
        "colab": {
          "base_uri": "https://localhost:8080/"
        }
      },
      "outputs": [
        {
          "output_type": "stream",
          "name": "stdout",
          "text": [
            "messages=[SystemMessage(content='사용자가 입력한 요리의 레시피를 생각해 주세요.', additional_kwargs={}, response_metadata={}), HumanMessage(content='카레', additional_kwargs={}, response_metadata={})]\n"
          ]
        }
      ],
      "source": [
        "from langchain_core.prompts import ChatPromptTemplate\n",
        "\n",
        "prompt = ChatPromptTemplate.from_messages(\n",
        "    [\n",
        "        (\"system\", \"사용자가 입력한 요리의 레시피를 생각해 주세요.\"),\n",
        "        (\"human\", \"{dish}\"),\n",
        "    ]\n",
        ")\n",
        "\n",
        "prompt_value = prompt.invoke({\"dish\": \"카레\"})\n",
        "print(prompt_value)"
      ]
    },
    {
      "cell_type": "markdown",
      "metadata": {
        "id": "5q2lKNhcpM1n"
      },
      "source": [
        "### MessagesPlaceholder\n"
      ]
    },
    {
      "cell_type": "code",
      "execution_count": 15,
      "metadata": {
        "execution": {
          "iopub.execute_input": "2024-06-28T02:32:40.206823Z",
          "iopub.status.busy": "2024-06-28T02:32:40.206639Z",
          "iopub.status.idle": "2024-06-28T02:32:40.213139Z",
          "shell.execute_reply": "2024-06-28T02:32:40.212764Z"
        },
        "id": "lZ-0WUPEpM1n",
        "outputId": "04c2f5c9-814a-4ba5-bdaf-6e6521c5cf2c",
        "colab": {
          "base_uri": "https://localhost:8080/"
        }
      },
      "outputs": [
        {
          "output_type": "stream",
          "name": "stdout",
          "text": [
            "messages=[SystemMessage(content='You are a helpful assistant.', additional_kwargs={}, response_metadata={}), HumanMessage(content='안녕하세요! 저는 존이라고 합니다!', additional_kwargs={}, response_metadata={}), AIMessage(content='안녕하세요, 존님! 어떻게 도와드릴까요?', additional_kwargs={}, response_metadata={}), HumanMessage(content='제 이름을 아시나요?', additional_kwargs={}, response_metadata={})]\n"
          ]
        }
      ],
      "source": [
        "from langchain_core.messages import AIMessage, HumanMessage\n",
        "from langchain_core.prompts import ChatPromptTemplate, MessagesPlaceholder\n",
        "\n",
        "prompt = ChatPromptTemplate.from_messages(\n",
        "    [\n",
        "        (\"system\", \"You are a helpful assistant.\"),\n",
        "        MessagesPlaceholder(\"chat_history\", optional=True),\n",
        "        (\"human\", \"{input}\"),\n",
        "    ]\n",
        ")\n",
        "\n",
        "prompt_value = prompt.invoke(\n",
        "    {\n",
        "        \"chat_history\": [\n",
        "            HumanMessage(content=\"안녕하세요! 저는 존이라고 합니다!\"),\n",
        "            AIMessage(\"안녕하세요, 존님! 어떻게 도와드릴까요?\"),\n",
        "        ],\n",
        "        \"input\": \"제 이름을 아시나요?\",\n",
        "    }\n",
        ")\n",
        "print(prompt_value)"
      ]
    },
    {
      "cell_type": "markdown",
      "metadata": {
        "id": "X1Dpk-RCpM1n"
      },
      "source": [
        "### LangSmith의 Prompts\n"
      ]
    },
    {
      "cell_type": "code",
      "execution_count": 16,
      "metadata": {
        "execution": {
          "iopub.execute_input": "2024-06-28T02:32:40.215357Z",
          "iopub.status.busy": "2024-06-28T02:32:40.215034Z",
          "iopub.status.idle": "2024-06-28T02:32:40.850572Z",
          "shell.execute_reply": "2024-06-28T02:32:40.850086Z"
        },
        "id": "Vhj7xU4xpM1n",
        "outputId": "66f4d6c6-0e38-47f6-ed98-3ea8f3c8a0aa",
        "colab": {
          "base_uri": "https://localhost:8080/"
        }
      },
      "outputs": [
        {
          "output_type": "stream",
          "name": "stdout",
          "text": [
            "messages=[SystemMessage(content='사용자가 입력한 요리의 레시피를 생각해 주세요.', additional_kwargs={}, response_metadata={}), HumanMessage(content='카레', additional_kwargs={}, response_metadata={})]\n"
          ]
        }
      ],
      "source": [
        "from langsmith import Client\n",
        "\n",
        "client = Client()\n",
        "prompt = client.pull_prompt(\"ychoi/recipe\")\n",
        "\n",
        "prompt_value = prompt.invoke({\"dish\": \"카레\"})\n",
        "print(prompt_value)"
      ]
    },
    {
      "cell_type": "markdown",
      "metadata": {
        "id": "rsQDtY6RpM1n"
      },
      "source": [
        "### (칼럼) 멀티모달 모델의 입력 처리\n"
      ]
    },
    {
      "cell_type": "code",
      "execution_count": 17,
      "metadata": {
        "execution": {
          "iopub.execute_input": "2024-06-28T02:32:40.852551Z",
          "iopub.status.busy": "2024-06-28T02:32:40.852328Z",
          "iopub.status.idle": "2024-06-28T02:32:40.984619Z",
          "shell.execute_reply": "2024-06-28T02:32:40.984231Z"
        },
        "id": "odMiiuOopM1n"
      },
      "outputs": [],
      "source": [
        "from langchain_core.prompts import ChatPromptTemplate\n",
        "from langchain_openai import ChatOpenAI\n",
        "\n",
        "prompt = ChatPromptTemplate.from_messages(\n",
        "    [\n",
        "        (\n",
        "            \"user\",\n",
        "            [\n",
        "                {\"type\": \"text\", \"text\": \"이미지를 설명해 주세요.\"},\n",
        "                {\"type\": \"image_url\", \"image_url\": {\"url\": \"{image_url}\"}},\n",
        "            ],\n",
        "        ),\n",
        "    ]\n",
        ")\n",
        "image_url = \"https://raw.githubusercontent.com/ychoi-kr/langchain-book/main/cover.jpg\"\n",
        "\n",
        "prompt_value = prompt.invoke({\"image_url\": image_url})"
      ]
    },
    {
      "cell_type": "code",
      "execution_count": null,
      "metadata": {
        "execution": {
          "iopub.execute_input": "2024-06-28T02:32:40.986542Z",
          "iopub.status.busy": "2024-06-28T02:32:40.986385Z",
          "iopub.status.idle": "2024-06-28T02:32:49.421870Z",
          "shell.execute_reply": "2024-06-28T02:32:49.421368Z"
        },
        "id": "7auzQZh3pM1n",
        "outputId": "6d5b3a77-ce21-42fb-cafe-633decb381d9",
        "colab": {
          "base_uri": "https://localhost:8080/"
        }
      },
      "outputs": [
        {
          "output_type": "stream",
          "name": "stdout",
          "text": [
            "이 이미지는 책 표지입니다. 제목은 \"챗GPT와 랭체인을 활용한 LLM 기반 AI 앱 개발\"입니다. 표지에는 벌 모양의 종이접기 도안이 그려져 있으며, 노란색과 파란색 줄무늬가 특징입니다. 책은 랭체인과 LLM 애플리케이션 구축에 관한 내용을 다루고 있는 것으로 보입니다.\n"
          ]
        }
      ],
      "source": [
        "model = ChatOpenAI(model=\"gpt-4o\", temperature=0)\n",
        "ai_message = model.invoke(prompt_value)\n",
        "print(ai_message.content)"
      ]
    },
    {
      "cell_type": "markdown",
      "metadata": {
        "id": "ZEgVaWPdpM1n"
      },
      "source": [
        "## 4.4. Output parser\n"
      ]
    },
    {
      "cell_type": "markdown",
      "metadata": {
        "id": "naUnEl_mpM1n"
      },
      "source": [
        "### PydanticOutputParser를 사용한 Python 객체 변환\n"
      ]
    },
    {
      "cell_type": "code",
      "execution_count": 18,
      "metadata": {
        "execution": {
          "iopub.execute_input": "2024-06-28T02:32:49.423970Z",
          "iopub.status.busy": "2024-06-28T02:32:49.423805Z",
          "iopub.status.idle": "2024-06-28T02:32:49.427124Z",
          "shell.execute_reply": "2024-06-28T02:32:49.426747Z"
        },
        "id": "_E4lcbRqpM1n"
      },
      "outputs": [],
      "source": [
        "from pydantic import BaseModel, Field\n",
        "\n",
        "\n",
        "class Recipe(BaseModel):\n",
        "    ingredients: list[str] = Field(description=\"ingredients of the dish\")\n",
        "    steps: list[str] = Field(description=\"steps to make the dish\")"
      ]
    },
    {
      "cell_type": "code",
      "execution_count": 19,
      "metadata": {
        "execution": {
          "iopub.execute_input": "2024-06-28T02:32:49.428896Z",
          "iopub.status.busy": "2024-06-28T02:32:49.428630Z",
          "iopub.status.idle": "2024-06-28T02:32:49.430921Z",
          "shell.execute_reply": "2024-06-28T02:32:49.430585Z"
        },
        "id": "0F4oTh9spM1n"
      },
      "outputs": [],
      "source": [
        "from langchain_core.output_parsers import PydanticOutputParser\n",
        "\n",
        "output_parser = PydanticOutputParser(pydantic_object=Recipe)"
      ]
    },
    {
      "cell_type": "code",
      "execution_count": 20,
      "metadata": {
        "execution": {
          "iopub.execute_input": "2024-06-28T02:32:49.432752Z",
          "iopub.status.busy": "2024-06-28T02:32:49.432482Z",
          "iopub.status.idle": "2024-06-28T02:32:49.435573Z",
          "shell.execute_reply": "2024-06-28T02:32:49.435232Z"
        },
        "id": "h5xvGwQKpM1o",
        "outputId": "74538429-8b20-40e2-fb73-5a741c4789f6",
        "colab": {
          "base_uri": "https://localhost:8080/"
        }
      },
      "outputs": [
        {
          "output_type": "stream",
          "name": "stdout",
          "text": [
            "The output should be formatted as a JSON instance that conforms to the JSON schema below.\n",
            "\n",
            "As an example, for the schema {\"properties\": {\"foo\": {\"title\": \"Foo\", \"description\": \"a list of strings\", \"type\": \"array\", \"items\": {\"type\": \"string\"}}}, \"required\": [\"foo\"]}\n",
            "the object {\"foo\": [\"bar\", \"baz\"]} is a well-formatted instance of the schema. The object {\"properties\": {\"foo\": [\"bar\", \"baz\"]}} is not well-formatted.\n",
            "\n",
            "Here is the output schema:\n",
            "```\n",
            "{\"properties\": {\"ingredients\": {\"description\": \"ingredients of the dish\", \"items\": {\"type\": \"string\"}, \"title\": \"Ingredients\", \"type\": \"array\"}, \"steps\": {\"description\": \"steps to make the dish\", \"items\": {\"type\": \"string\"}, \"title\": \"Steps\", \"type\": \"array\"}}, \"required\": [\"ingredients\", \"steps\"]}\n",
            "```\n"
          ]
        }
      ],
      "source": [
        "format_instructions = output_parser.get_format_instructions()\n",
        "print(format_instructions)"
      ]
    },
    {
      "cell_type": "code",
      "execution_count": 21,
      "metadata": {
        "execution": {
          "iopub.execute_input": "2024-06-28T02:32:49.437304Z",
          "iopub.status.busy": "2024-06-28T02:32:49.437089Z",
          "iopub.status.idle": "2024-06-28T02:32:49.440212Z",
          "shell.execute_reply": "2024-06-28T02:32:49.439868Z"
        },
        "id": "KIFoenM_pM1o"
      },
      "outputs": [],
      "source": [
        "from langchain_core.prompts import ChatPromptTemplate\n",
        "\n",
        "prompt = ChatPromptTemplate.from_messages(\n",
        "    [\n",
        "        (\n",
        "            \"system\",\n",
        "            \"사용자가 입력한 요리의 레시피를 생각해 주세요.\\n\\n\"\n",
        "            \"{format_instructions}\",\n",
        "        ),\n",
        "        (\"human\", \"{dish}\"),\n",
        "    ]\n",
        ")\n",
        "\n",
        "prompt_with_format_instructions = prompt.partial(\n",
        "    format_instructions=format_instructions\n",
        ")"
      ]
    },
    {
      "cell_type": "code",
      "execution_count": 22,
      "metadata": {
        "execution": {
          "iopub.execute_input": "2024-06-28T02:32:49.441965Z",
          "iopub.status.busy": "2024-06-28T02:32:49.441750Z",
          "iopub.status.idle": "2024-06-28T02:32:49.446830Z",
          "shell.execute_reply": "2024-06-28T02:32:49.446490Z"
        },
        "id": "O6WQzC9YpM1o",
        "outputId": "37c752b4-5f35-4084-9980-3e30e84bb5fd",
        "colab": {
          "base_uri": "https://localhost:8080/"
        }
      },
      "outputs": [
        {
          "output_type": "stream",
          "name": "stdout",
          "text": [
            "=== role: system ===\n",
            "사용자가 입력한 요리의 레시피를 생각해 주세요.\n",
            "\n",
            "The output should be formatted as a JSON instance that conforms to the JSON schema below.\n",
            "\n",
            "As an example, for the schema {\"properties\": {\"foo\": {\"title\": \"Foo\", \"description\": \"a list of strings\", \"type\": \"array\", \"items\": {\"type\": \"string\"}}}, \"required\": [\"foo\"]}\n",
            "the object {\"foo\": [\"bar\", \"baz\"]} is a well-formatted instance of the schema. The object {\"properties\": {\"foo\": [\"bar\", \"baz\"]}} is not well-formatted.\n",
            "\n",
            "Here is the output schema:\n",
            "```\n",
            "{\"properties\": {\"ingredients\": {\"description\": \"ingredients of the dish\", \"items\": {\"type\": \"string\"}, \"title\": \"Ingredients\", \"type\": \"array\"}, \"steps\": {\"description\": \"steps to make the dish\", \"items\": {\"type\": \"string\"}, \"title\": \"Steps\", \"type\": \"array\"}}, \"required\": [\"ingredients\", \"steps\"]}\n",
            "```\n",
            "=== role: user ===\n",
            "카레\n"
          ]
        }
      ],
      "source": [
        "prompt_value = prompt_with_format_instructions.invoke({\"dish\": \"카레\"})\n",
        "print(\"=== role: system ===\")\n",
        "print(prompt_value.messages[0].content)\n",
        "print(\"=== role: user ===\")\n",
        "print(prompt_value.messages[1].content)"
      ]
    },
    {
      "cell_type": "code",
      "execution_count": 23,
      "metadata": {
        "execution": {
          "iopub.execute_input": "2024-06-28T02:32:49.448688Z",
          "iopub.status.busy": "2024-06-28T02:32:49.448466Z",
          "iopub.status.idle": "2024-06-28T02:32:53.559871Z",
          "shell.execute_reply": "2024-06-28T02:32:53.559376Z"
        },
        "id": "32KKIWQ_pM1o",
        "outputId": "662e29fe-0c08-495f-9da3-88af45ddf835",
        "colab": {
          "base_uri": "https://localhost:8080/"
        }
      },
      "outputs": [
        {
          "output_type": "stream",
          "name": "stdout",
          "text": [
            "{\n",
            "  \"ingredients\": [\n",
            "    \"닭고기 500g\",\n",
            "    \"양파 1개\",\n",
            "    \"감자 2개\",\n",
            "    \"당근 1개\",\n",
            "    \"카레 가루 3큰술\",\n",
            "    \"식용유 2큰술\",\n",
            "    \"소금 약간\",\n",
            "    \"후추 약간\",\n",
            "    \"물 4컵\"\n",
            "  ],\n",
            "  \"steps\": [\n",
            "    \"닭고기를 한 입 크기로 자르고, 소금과 후추로 간을 한다.\",\n",
            "    \"양파는 다지고, 감자와 당근은 깍둑썰기로 준비한다.\",\n",
            "    \"팬에 식용유를 두르고 양파를 볶아 투명해질 때까지 볶는다.\",\n",
            "    \"닭고기를 넣고 겉면이 노릇해질 때까지 볶는다.\",\n",
            "    \"감자와 당근을 넣고 함께 볶는다.\",\n",
            "    \"물 4컵을 붓고 끓인다.\",\n",
            "    \"끓기 시작하면 불을 줄이고, 카레 가루를 넣고 잘 섞는다.\",\n",
            "    \"약한 불에서 20분 정도 끓여서 재료가 부드러워질 때까지 조리한다.\",\n",
            "    \"완성된 카레를 밥과 함께 서빙한다.\"\n",
            "  ]\n",
            "}\n"
          ]
        }
      ],
      "source": [
        "from langchain_openai import ChatOpenAI\n",
        "\n",
        "model = ChatOpenAI(model=\"gpt-4o-mini\", temperature=0)\n",
        "\n",
        "ai_message = model.invoke(prompt_value)\n",
        "print(ai_message.content)"
      ]
    },
    {
      "cell_type": "code",
      "execution_count": 24,
      "metadata": {
        "execution": {
          "iopub.execute_input": "2024-06-28T02:32:53.561786Z",
          "iopub.status.busy": "2024-06-28T02:32:53.561632Z",
          "iopub.status.idle": "2024-06-28T02:32:53.572140Z",
          "shell.execute_reply": "2024-06-28T02:32:53.571665Z"
        },
        "id": "hjfLC4CppM1o",
        "outputId": "89faf388-409c-44de-f822-465c4a853649",
        "colab": {
          "base_uri": "https://localhost:8080/"
        }
      },
      "outputs": [
        {
          "output_type": "stream",
          "name": "stdout",
          "text": [
            "<class '__main__.Recipe'>\n",
            "ingredients=['닭고기 500g', '양파 1개', '감자 2개', '당근 1개', '카레 가루 3큰술', '식용유 2큰술', '소금 약간', '후추 약간', '물 4컵'] steps=['닭고기를 한 입 크기로 자르고, 소금과 후추로 간을 한다.', '양파는 다지고, 감자와 당근은 깍둑썰기로 준비한다.', '팬에 식용유를 두르고 양파를 볶아 투명해질 때까지 볶는다.', '닭고기를 넣고 겉면이 노릇해질 때까지 볶는다.', '감자와 당근을 넣고 함께 볶는다.', '물 4컵을 붓고 끓인다.', '끓기 시작하면 불을 줄이고, 카레 가루를 넣고 잘 섞는다.', '약한 불에서 20분 정도 끓여서 재료가 부드러워질 때까지 조리한다.', '완성된 카레를 밥과 함께 서빙한다.']\n"
          ]
        }
      ],
      "source": [
        "recipe = output_parser.invoke(ai_message)\n",
        "print(type(recipe))\n",
        "print(recipe)"
      ]
    },
    {
      "cell_type": "markdown",
      "metadata": {
        "id": "JfET1xD7pM1o"
      },
      "source": [
        "### StrOutputParser\n"
      ]
    },
    {
      "cell_type": "code",
      "execution_count": 25,
      "metadata": {
        "execution": {
          "iopub.execute_input": "2024-06-28T02:32:53.614251Z",
          "iopub.status.busy": "2024-06-28T02:32:53.614030Z",
          "iopub.status.idle": "2024-06-28T02:32:53.619857Z",
          "shell.execute_reply": "2024-06-28T02:32:53.619506Z"
        },
        "id": "fF9_Uq_rpM1o",
        "outputId": "1a97c10c-0822-4dc0-95b3-c8e8fa7dd564",
        "colab": {
          "base_uri": "https://localhost:8080/"
        }
      },
      "outputs": [
        {
          "output_type": "stream",
          "name": "stdout",
          "text": [
            "<class 'str'>\n",
            "안녕하세요. 저는 AI 어시스턴트입니다.\n"
          ]
        }
      ],
      "source": [
        "from langchain_core.messages import AIMessage\n",
        "from langchain_core.output_parsers import StrOutputParser\n",
        "\n",
        "output_parser = StrOutputParser()\n",
        "\n",
        "ai_message = AIMessage(content=\"안녕하세요. 저는 AI 어시스턴트입니다.\")\n",
        "ai_message = output_parser.invoke(ai_message)\n",
        "print(type(ai_message))\n",
        "print(ai_message)"
      ]
    },
    {
      "cell_type": "markdown",
      "metadata": {
        "id": "tt4Y8MDYpM1u"
      },
      "source": [
        "## 4.5. Chain—LangChain Expression Language(LCEL) 개요\n"
      ]
    },
    {
      "cell_type": "markdown",
      "metadata": {
        "id": "aBLtFPlXpM1u"
      },
      "source": [
        "### prompt와 model 연결\n"
      ]
    },
    {
      "cell_type": "code",
      "execution_count": 26,
      "metadata": {
        "execution": {
          "iopub.execute_input": "2024-06-28T02:32:53.621888Z",
          "iopub.status.busy": "2024-06-28T02:32:53.621584Z",
          "iopub.status.idle": "2024-06-28T02:32:53.674625Z",
          "shell.execute_reply": "2024-06-28T02:32:53.674143Z"
        },
        "id": "vK1xRRW6pM1u"
      },
      "outputs": [],
      "source": [
        "from langchain_core.prompts import ChatPromptTemplate\n",
        "from langchain_openai import ChatOpenAI\n",
        "\n",
        "prompt = ChatPromptTemplate.from_messages(\n",
        "    [\n",
        "        (\"system\", \"사용자가 입력한 요리의 레시피를 생각해 주세요.\"),\n",
        "        (\"human\", \"{dish}\"),\n",
        "    ]\n",
        ")\n",
        "\n",
        "model = ChatOpenAI(model_name=\"gpt-4o-mini\", temperature=0)"
      ]
    },
    {
      "cell_type": "code",
      "execution_count": 27,
      "metadata": {
        "execution": {
          "iopub.execute_input": "2024-06-28T02:32:53.676366Z",
          "iopub.status.busy": "2024-06-28T02:32:53.676220Z",
          "iopub.status.idle": "2024-06-28T02:32:53.678436Z",
          "shell.execute_reply": "2024-06-28T02:32:53.678095Z"
        },
        "id": "MiJd0G-ypM1w"
      },
      "outputs": [],
      "source": [
        "chain = prompt | model"
      ]
    },
    {
      "cell_type": "code",
      "execution_count": 28,
      "metadata": {
        "execution": {
          "iopub.execute_input": "2024-06-28T02:32:53.680152Z",
          "iopub.status.busy": "2024-06-28T02:32:53.679899Z",
          "iopub.status.idle": "2024-06-28T02:32:59.546328Z",
          "shell.execute_reply": "2024-06-28T02:32:59.544073Z"
        },
        "id": "IDoV-Tg0pM1w",
        "outputId": "a8362d18-a6bd-4954-b732-6a84a7722c8b",
        "colab": {
          "base_uri": "https://localhost:8080/"
        }
      },
      "outputs": [
        {
          "output_type": "stream",
          "name": "stdout",
          "text": [
            "카레는 다양한 재료와 향신료를 사용하여 만드는 맛있는 요리입니다. 아래는 기본적인 카레 레시피입니다.\n",
            "\n",
            "### 재료\n",
            "- 고기 (닭고기, 소고기, 양고기 등) 300g\n",
            "- 양파 1개\n",
            "- 감자 1개\n",
            "- 당근 1개\n",
            "- 카레 가루 2-3 큰술\n",
            "- 식용유 2 큰술\n",
            "- 물 3컵\n",
            "- 소금, 후추 약간\n",
            "- 선택 재료: 마늘, 생강, 피망, 버섯 등\n",
            "\n",
            "### 조리 방법\n",
            "1. **재료 손질**: 고기는 한 입 크기로 자르고, 양파는 다지고, 감자와 당근은 깍둑썰기 합니다.\n",
            "\n",
            "2. **양파 볶기**: 큰 냄비에 식용유를 두르고 중불에서 다진 양파를 넣고 투명해질 때까지 볶습니다.\n",
            "\n",
            "3. **고기 추가**: 양파가 볶아지면 고기를 넣고 겉면이 익을 때까지 볶습니다.\n",
            "\n",
            "4. **채소 추가**: 감자와 당근을 넣고 함께 볶아줍니다. 이때 마늘과 생강을 추가하면 향이 더 좋아집니다.\n",
            "\n",
            "5. **물 붓기**: 모든 재료가 잘 섞이면 물을 붓고 끓입니다. 끓기 시작하면 불을 줄이고 중약불에서 15-20분 정도 끓입니다.\n",
            "\n",
            "6. **카레 가루 추가**: 카레 가루를 넣고 잘 섞은 후, 다시 10분 정도 끓입니다. 필요에 따라 소금과 후추로 간을 맞춥니다.\n",
            "\n",
            "7. **완성**: 카레가 걸쭉해지면 불을 끄고, 밥과 함께 서빙합니다.\n",
            "\n",
            "### 팁\n",
            "- 카레는 시간이 지날수록 맛이 깊어지므로, 하루 정도 숙성시키면 더욱 맛있습니다.\n",
            "- 다양한 재료를 추가하여 나만의 카레를 만들어 보세요!\n",
            "\n",
            "맛있게 드세요!\n"
          ]
        }
      ],
      "source": [
        "ai_message = chain.invoke({\"dish\": \"카레\"})\n",
        "print(ai_message.content)"
      ]
    },
    {
      "cell_type": "markdown",
      "metadata": {
        "id": "5H2ZOqDWpM1w"
      },
      "source": [
        "### StrOutputParser를 연결에 추가\n"
      ]
    },
    {
      "cell_type": "code",
      "execution_count": 29,
      "metadata": {
        "execution": {
          "iopub.execute_input": "2024-06-28T02:32:59.555286Z",
          "iopub.status.busy": "2024-06-28T02:32:59.554550Z",
          "iopub.status.idle": "2024-06-28T02:33:05.105219Z",
          "shell.execute_reply": "2024-06-28T02:33:05.104783Z"
        },
        "id": "MuEtEDCWpM1w",
        "outputId": "666e8567-d121-4ab4-c46c-03fc307a42a4",
        "colab": {
          "base_uri": "https://localhost:8080/"
        }
      },
      "outputs": [
        {
          "output_type": "stream",
          "name": "stdout",
          "text": [
            "카레는 다양한 재료와 향신료를 사용하여 만드는 맛있는 요리입니다. 아래는 기본적인 카레 레시피입니다.\n",
            "\n",
            "### 재료\n",
            "- 고기 (닭고기, 소고기, 양고기 등) 300g\n",
            "- 양파 1개\n",
            "- 감자 1개\n",
            "- 당근 1개\n",
            "- 카레 가루 2-3 큰술\n",
            "- 식용유 2 큰술\n",
            "- 물 3컵\n",
            "- 소금, 후추 약간\n",
            "- 선택 재료: 마늘, 생강, 피망, 완두콩 등\n",
            "\n",
            "### 조리 방법\n",
            "1. **재료 손질**: 고기는 한 입 크기로 자르고, 양파는 다지고, 감자와 당근은 깍둑썰기 합니다. 마늘과 생강은 다져줍니다.\n",
            "\n",
            "2. **양파 볶기**: 큰 냄비에 식용유를 두르고 중불에서 양파를 볶아 투명해질 때까지 볶습니다.\n",
            "\n",
            "3. **고기 추가**: 양파가 투명해지면 다진 마늘과 생강을 넣고 볶다가 고기를 추가합니다. 고기가 겉면이 익을 때까지 볶습니다.\n",
            "\n",
            "4. **채소 추가**: 감자와 당근을 넣고 함께 볶아줍니다.\n",
            "\n",
            "5. **물 붓기**: 모든 재료가 잘 섞이면 물을 붓고 끓입니다. 끓기 시작하면 불을 줄이고 중약불로 15-20분 정도 끓입니다.\n",
            "\n",
            "6. **카레 가루 추가**: 카레 가루를 넣고 잘 섞은 후, 다시 10분 정도 끓입니다. 필요에 따라 소금과 후추로 간을 맞춥니다.\n",
            "\n",
            "7. **완성**: 카레가 걸쭉해지면 불을 끄고, 밥과 함께 서빙합니다. 원한다면 피망이나 완두콩을 추가하여 색감을 더할 수 있습니다.\n",
            "\n",
            "### 팁\n",
            "- 카레는 시간이 지날수록 맛이 깊어지므로, 하루 정도 숙성 후 먹으면 더욱 맛있습니다.\n",
            "- 다양한 재료를 추가하여 나만의 카레를 만들어 보세요!\n",
            "\n",
            "맛있게 드세요!\n"
          ]
        }
      ],
      "source": [
        "from langchain_core.output_parsers import StrOutputParser\n",
        "\n",
        "chain = prompt | model | StrOutputParser()\n",
        "output = chain.invoke({\"dish\": \"카레\"})\n",
        "print(output)"
      ]
    },
    {
      "cell_type": "markdown",
      "metadata": {
        "id": "dmgK4BP7pM1w"
      },
      "source": [
        "### PydanticOutputParser를 사용한 연결\n"
      ]
    },
    {
      "cell_type": "code",
      "execution_count": 30,
      "metadata": {
        "execution": {
          "iopub.execute_input": "2024-06-28T02:33:05.107198Z",
          "iopub.status.busy": "2024-06-28T02:33:05.107009Z",
          "iopub.status.idle": "2024-06-28T02:33:05.110329Z",
          "shell.execute_reply": "2024-06-28T02:33:05.109967Z"
        },
        "id": "bJ4gC0fmpM1w"
      },
      "outputs": [],
      "source": [
        "from langchain_core.output_parsers import PydanticOutputParser\n",
        "from pydantic import BaseModel, Field\n",
        "\n",
        "\n",
        "class Recipe(BaseModel):\n",
        "    ingredients: list[str] = Field(description=\"ingredients of the dish\")\n",
        "    steps: list[str] = Field(description=\"steps to make the dish\")\n",
        "\n",
        "\n",
        "output_parser = PydanticOutputParser(pydantic_object=Recipe)"
      ]
    },
    {
      "cell_type": "code",
      "execution_count": 31,
      "metadata": {
        "execution": {
          "iopub.execute_input": "2024-06-28T02:33:05.112162Z",
          "iopub.status.busy": "2024-06-28T02:33:05.111890Z",
          "iopub.status.idle": "2024-06-28T02:33:05.167716Z",
          "shell.execute_reply": "2024-06-28T02:33:05.167216Z"
        },
        "id": "-0Yq5DT8pM1w"
      },
      "outputs": [],
      "source": [
        "from langchain_core.prompts import ChatPromptTemplate\n",
        "from langchain_openai import ChatOpenAI\n",
        "\n",
        "prompt = ChatPromptTemplate.from_messages(\n",
        "    [\n",
        "        (\"system\", \"사용자가 입력한 요리의 레시피를 생각해 주세요.\\n\\n{format_instructions}\"),\n",
        "        (\"human\", \"{dish}\"),\n",
        "    ]\n",
        ")\n",
        "\n",
        "prompt_with_format_instructions = prompt.partial(\n",
        "    format_instructions=output_parser.get_format_instructions()\n",
        ")\n",
        "\n",
        "model = ChatOpenAI(model=\"gpt-4o-mini\", temperature=0).bind(\n",
        "    response_format={\"type\": \"json_object\"}\n",
        ")"
      ]
    },
    {
      "cell_type": "code",
      "execution_count": 32,
      "metadata": {
        "execution": {
          "iopub.execute_input": "2024-06-28T02:33:05.169740Z",
          "iopub.status.busy": "2024-06-28T02:33:05.169590Z",
          "iopub.status.idle": "2024-06-28T02:33:05.172044Z",
          "shell.execute_reply": "2024-06-28T02:33:05.171669Z"
        },
        "id": "-y9yADwZpM1x"
      },
      "outputs": [],
      "source": [
        "chain = prompt_with_format_instructions | model | output_parser"
      ]
    },
    {
      "cell_type": "code",
      "execution_count": 33,
      "metadata": {
        "execution": {
          "iopub.execute_input": "2024-06-28T02:33:05.173987Z",
          "iopub.status.busy": "2024-06-28T02:33:05.173667Z",
          "iopub.status.idle": "2024-06-28T02:33:10.259404Z",
          "shell.execute_reply": "2024-06-28T02:33:10.258892Z"
        },
        "id": "PA5j3DzxpM1x",
        "outputId": "374871c0-7f4c-4e82-cd78-319ba4b562c9",
        "colab": {
          "base_uri": "https://localhost:8080/"
        }
      },
      "outputs": [
        {
          "output_type": "stream",
          "name": "stdout",
          "text": [
            "<class '__main__.Recipe'>\n",
            "ingredients=['닭고기 500g', '양파 1개', '감자 2개', '당근 1개', '카레 가루 3큰술', '식용유 2큰술', '소금 약간', '후추 약간', '물 4컵'] steps=['닭고기를 한 입 크기로 자르고, 소금과 후추로 간을 한다.', '양파는 다지고, 감자와 당근은 깍둑썰기로 준비한다.', '냄비에 식용유를 두르고 다진 양파를 넣어 볶는다.', '양파가 투명해지면 닭고기를 넣고 겉면이 익을 때까지 볶는다.', '감자와 당근을 넣고 함께 볶는다.', '카레 가루를 넣고 잘 섞은 후 물을 부어 끓인다.', '끓기 시작하면 중약불로 줄이고 20분 정도 끓인다.', '재료가 부드러워지면 불을 끄고, 필요에 따라 간을 맞춘다.', '밥과 함께 따뜻하게 서빙한다.']\n"
          ]
        }
      ],
      "source": [
        "recipe = chain.invoke({\"dish\": \"카레\"})\n",
        "print(type(recipe))\n",
        "print(recipe)"
      ]
    },
    {
      "cell_type": "markdown",
      "metadata": {
        "id": "fZMD9uQ3pM1x"
      },
      "source": [
        "### （칼럼）with_structured_output\n"
      ]
    },
    {
      "cell_type": "code",
      "execution_count": 34,
      "metadata": {
        "execution": {
          "iopub.execute_input": "2024-06-28T02:33:10.261391Z",
          "iopub.status.busy": "2024-06-28T02:33:10.261230Z",
          "iopub.status.idle": "2024-06-28T02:33:12.288341Z",
          "shell.execute_reply": "2024-06-28T02:33:12.287844Z"
        },
        "id": "EuFxrt3apM1x",
        "outputId": "00e5dbfb-58c2-4a05-f37d-d8eeef079bd5",
        "colab": {
          "base_uri": "https://localhost:8080/"
        }
      },
      "outputs": [
        {
          "output_type": "stream",
          "name": "stdout",
          "text": [
            "<class '__main__.Recipe'>\n",
            "ingredients=['닭고기', '양파', '감자', '당근', '카레 가루', '코코넛 밀크', '식용유', '소금', '후추', '물'] steps=['닭고기를 한 입 크기로 썰고, 소금과 후추로 간을 한다.', '양파를 다지고, 감자와 당근을 깍둑썰기로 준비한다.', '팬에 식용유를 두르고 다진 양파를 넣어 볶다가 투명해질 때까지 볶는다.', '닭고기를 넣고 겉면이 익을 때까지 볶는다.', '감자와 당근을 추가하고 함께 볶는다.', '카레 가루를 넣고 잘 섞은 후, 물과 코코넛 밀크를 붓고 끓인다.', '중불로 20-30분간 끓여서 재료들이 부드러워질 때까지 조리한다.', '소금으로 간을 맞추고, 원하는 농도로 졸여서 완성한다.']\n"
          ]
        }
      ],
      "source": [
        "from langchain_core.prompts import ChatPromptTemplate\n",
        "from langchain_openai import ChatOpenAI\n",
        "from pydantic import BaseModel, Field\n",
        "\n",
        "\n",
        "class Recipe(BaseModel):\n",
        "    ingredients: list[str] = Field(description=\"ingredients of the dish\")\n",
        "    steps: list[str] = Field(description=\"steps to make the dish\")\n",
        "\n",
        "\n",
        "prompt = ChatPromptTemplate.from_messages(\n",
        "    [\n",
        "        (\"system\", \"사용자가 입력한 요리의 레시피를 생각해 주세요.\"),\n",
        "        (\"human\", \"{dish}\"),\n",
        "    ]\n",
        ")\n",
        "\n",
        "model = ChatOpenAI(model=\"gpt-4o-mini\")\n",
        "\n",
        "chain = prompt | model.with_structured_output(Recipe)\n",
        "\n",
        "recipe = chain.invoke({\"dish\": \"카레\"})\n",
        "print(type(recipe))\n",
        "print(recipe)"
      ]
    },
    {
      "cell_type": "markdown",
      "metadata": {
        "id": "dToiFutipM1x"
      },
      "source": [
        "## 4.6.LangChain의 RAG 관련 컴포넌트\n"
      ]
    },
    {
      "cell_type": "markdown",
      "metadata": {
        "id": "UBzQnAmTpM1x"
      },
      "source": [
        "### Document loader\n"
      ]
    },
    {
      "cell_type": "code",
      "execution_count": 35,
      "metadata": {
        "id": "HNxkIlFKpM1x",
        "outputId": "e166191e-326c-4216-c06d-0e0052f4c825",
        "colab": {
          "base_uri": "https://localhost:8080/"
        }
      },
      "outputs": [
        {
          "output_type": "stream",
          "name": "stdout",
          "text": [
            "Collecting langchain-community==0.3.0\n",
            "  Downloading langchain_community-0.3.0-py3-none-any.whl.metadata (2.8 kB)\n",
            "Collecting GitPython==3.1.43\n",
            "  Downloading GitPython-3.1.43-py3-none-any.whl.metadata (13 kB)\n",
            "Requirement already satisfied: PyYAML>=5.3 in /usr/local/lib/python3.11/dist-packages (from langchain-community==0.3.0) (6.0.2)\n",
            "Requirement already satisfied: SQLAlchemy<3,>=1.4 in /usr/local/lib/python3.11/dist-packages (from langchain-community==0.3.0) (2.0.40)\n",
            "Requirement already satisfied: aiohttp<4.0.0,>=3.8.3 in /usr/local/lib/python3.11/dist-packages (from langchain-community==0.3.0) (3.11.15)\n",
            "Collecting dataclasses-json<0.7,>=0.5.7 (from langchain-community==0.3.0)\n",
            "  Downloading dataclasses_json-0.6.7-py3-none-any.whl.metadata (25 kB)\n",
            "Requirement already satisfied: langchain<0.4.0,>=0.3.0 in /usr/local/lib/python3.11/dist-packages (from langchain-community==0.3.0) (0.3.22)\n",
            "Requirement already satisfied: langchain-core<0.4.0,>=0.3.0 in /usr/local/lib/python3.11/dist-packages (from langchain-community==0.3.0) (0.3.0)\n",
            "Requirement already satisfied: langsmith<0.2.0,>=0.1.112 in /usr/local/lib/python3.11/dist-packages (from langchain-community==0.3.0) (0.1.147)\n",
            "Collecting numpy<2,>=1 (from langchain-community==0.3.0)\n",
            "  Downloading numpy-1.26.4-cp311-cp311-manylinux_2_17_x86_64.manylinux2014_x86_64.whl.metadata (61 kB)\n",
            "\u001b[2K     \u001b[90m━━━━━━━━━━━━━━━━━━━━━━━━━━━━━━━━━━━━━━━━\u001b[0m \u001b[32m61.0/61.0 kB\u001b[0m \u001b[31m4.3 MB/s\u001b[0m eta \u001b[36m0:00:00\u001b[0m\n",
            "\u001b[?25hCollecting pydantic-settings<3.0.0,>=2.4.0 (from langchain-community==0.3.0)\n",
            "  Downloading pydantic_settings-2.8.1-py3-none-any.whl.metadata (3.5 kB)\n",
            "Requirement already satisfied: requests<3,>=2 in /usr/local/lib/python3.11/dist-packages (from langchain-community==0.3.0) (2.32.3)\n",
            "Requirement already satisfied: tenacity!=8.4.0,<9.0.0,>=8.1.0 in /usr/local/lib/python3.11/dist-packages (from langchain-community==0.3.0) (8.5.0)\n",
            "Requirement already satisfied: gitdb<5,>=4.0.1 in /usr/local/lib/python3.11/dist-packages (from GitPython==3.1.43) (4.0.12)\n",
            "Requirement already satisfied: aiohappyeyeballs>=2.3.0 in /usr/local/lib/python3.11/dist-packages (from aiohttp<4.0.0,>=3.8.3->langchain-community==0.3.0) (2.6.1)\n",
            "Requirement already satisfied: aiosignal>=1.1.2 in /usr/local/lib/python3.11/dist-packages (from aiohttp<4.0.0,>=3.8.3->langchain-community==0.3.0) (1.3.2)\n",
            "Requirement already satisfied: attrs>=17.3.0 in /usr/local/lib/python3.11/dist-packages (from aiohttp<4.0.0,>=3.8.3->langchain-community==0.3.0) (25.3.0)\n",
            "Requirement already satisfied: frozenlist>=1.1.1 in /usr/local/lib/python3.11/dist-packages (from aiohttp<4.0.0,>=3.8.3->langchain-community==0.3.0) (1.5.0)\n",
            "Requirement already satisfied: multidict<7.0,>=4.5 in /usr/local/lib/python3.11/dist-packages (from aiohttp<4.0.0,>=3.8.3->langchain-community==0.3.0) (6.2.0)\n",
            "Requirement already satisfied: propcache>=0.2.0 in /usr/local/lib/python3.11/dist-packages (from aiohttp<4.0.0,>=3.8.3->langchain-community==0.3.0) (0.3.1)\n",
            "Requirement already satisfied: yarl<2.0,>=1.17.0 in /usr/local/lib/python3.11/dist-packages (from aiohttp<4.0.0,>=3.8.3->langchain-community==0.3.0) (1.18.3)\n",
            "Collecting marshmallow<4.0.0,>=3.18.0 (from dataclasses-json<0.7,>=0.5.7->langchain-community==0.3.0)\n",
            "  Downloading marshmallow-3.26.1-py3-none-any.whl.metadata (7.3 kB)\n",
            "Collecting typing-inspect<1,>=0.4.0 (from dataclasses-json<0.7,>=0.5.7->langchain-community==0.3.0)\n",
            "  Downloading typing_inspect-0.9.0-py3-none-any.whl.metadata (1.5 kB)\n",
            "Requirement already satisfied: smmap<6,>=3.0.1 in /usr/local/lib/python3.11/dist-packages (from gitdb<5,>=4.0.1->GitPython==3.1.43) (5.0.2)\n",
            "Collecting langchain-core<0.4.0,>=0.3.0 (from langchain-community==0.3.0)\n",
            "  Downloading langchain_core-0.3.51-py3-none-any.whl.metadata (5.9 kB)\n",
            "Requirement already satisfied: langchain-text-splitters<1.0.0,>=0.3.7 in /usr/local/lib/python3.11/dist-packages (from langchain<0.4.0,>=0.3.0->langchain-community==0.3.0) (0.3.7)\n",
            "Requirement already satisfied: pydantic<3.0.0,>=2.7.4 in /usr/local/lib/python3.11/dist-packages (from langchain<0.4.0,>=0.3.0->langchain-community==0.3.0) (2.9.2)\n",
            "Requirement already satisfied: jsonpatch<2.0,>=1.33 in /usr/local/lib/python3.11/dist-packages (from langchain-core<0.4.0,>=0.3.0->langchain-community==0.3.0) (1.33)\n",
            "Requirement already satisfied: packaging<25,>=23.2 in /usr/local/lib/python3.11/dist-packages (from langchain-core<0.4.0,>=0.3.0->langchain-community==0.3.0) (24.2)\n",
            "Requirement already satisfied: typing-extensions>=4.7 in /usr/local/lib/python3.11/dist-packages (from langchain-core<0.4.0,>=0.3.0->langchain-community==0.3.0) (4.13.1)\n",
            "Requirement already satisfied: httpx<1,>=0.23.0 in /usr/local/lib/python3.11/dist-packages (from langsmith<0.2.0,>=0.1.112->langchain-community==0.3.0) (0.28.1)\n",
            "Requirement already satisfied: orjson<4.0.0,>=3.9.14 in /usr/local/lib/python3.11/dist-packages (from langsmith<0.2.0,>=0.1.112->langchain-community==0.3.0) (3.10.16)\n",
            "Requirement already satisfied: requests-toolbelt<2.0.0,>=1.0.0 in /usr/local/lib/python3.11/dist-packages (from langsmith<0.2.0,>=0.1.112->langchain-community==0.3.0) (1.0.0)\n",
            "Collecting python-dotenv>=0.21.0 (from pydantic-settings<3.0.0,>=2.4.0->langchain-community==0.3.0)\n",
            "  Downloading python_dotenv-1.1.0-py3-none-any.whl.metadata (24 kB)\n",
            "Requirement already satisfied: charset-normalizer<4,>=2 in /usr/local/lib/python3.11/dist-packages (from requests<3,>=2->langchain-community==0.3.0) (3.4.1)\n",
            "Requirement already satisfied: idna<4,>=2.5 in /usr/local/lib/python3.11/dist-packages (from requests<3,>=2->langchain-community==0.3.0) (3.10)\n",
            "Requirement already satisfied: urllib3<3,>=1.21.1 in /usr/local/lib/python3.11/dist-packages (from requests<3,>=2->langchain-community==0.3.0) (2.3.0)\n",
            "Requirement already satisfied: certifi>=2017.4.17 in /usr/local/lib/python3.11/dist-packages (from requests<3,>=2->langchain-community==0.3.0) (2025.1.31)\n",
            "Requirement already satisfied: greenlet>=1 in /usr/local/lib/python3.11/dist-packages (from SQLAlchemy<3,>=1.4->langchain-community==0.3.0) (3.1.1)\n",
            "Requirement already satisfied: anyio in /usr/local/lib/python3.11/dist-packages (from httpx<1,>=0.23.0->langsmith<0.2.0,>=0.1.112->langchain-community==0.3.0) (4.9.0)\n",
            "Requirement already satisfied: httpcore==1.* in /usr/local/lib/python3.11/dist-packages (from httpx<1,>=0.23.0->langsmith<0.2.0,>=0.1.112->langchain-community==0.3.0) (1.0.7)\n",
            "Requirement already satisfied: h11<0.15,>=0.13 in /usr/local/lib/python3.11/dist-packages (from httpcore==1.*->httpx<1,>=0.23.0->langsmith<0.2.0,>=0.1.112->langchain-community==0.3.0) (0.14.0)\n",
            "Requirement already satisfied: jsonpointer>=1.9 in /usr/local/lib/python3.11/dist-packages (from jsonpatch<2.0,>=1.33->langchain-core<0.4.0,>=0.3.0->langchain-community==0.3.0) (3.0.0)\n",
            "Requirement already satisfied: annotated-types>=0.6.0 in /usr/local/lib/python3.11/dist-packages (from pydantic<3.0.0,>=2.7.4->langchain<0.4.0,>=0.3.0->langchain-community==0.3.0) (0.7.0)\n",
            "Requirement already satisfied: pydantic-core==2.23.4 in /usr/local/lib/python3.11/dist-packages (from pydantic<3.0.0,>=2.7.4->langchain<0.4.0,>=0.3.0->langchain-community==0.3.0) (2.23.4)\n",
            "Collecting mypy-extensions>=0.3.0 (from typing-inspect<1,>=0.4.0->dataclasses-json<0.7,>=0.5.7->langchain-community==0.3.0)\n",
            "  Downloading mypy_extensions-1.0.0-py3-none-any.whl.metadata (1.1 kB)\n",
            "Requirement already satisfied: sniffio>=1.1 in /usr/local/lib/python3.11/dist-packages (from anyio->httpx<1,>=0.23.0->langsmith<0.2.0,>=0.1.112->langchain-community==0.3.0) (1.3.1)\n",
            "Downloading langchain_community-0.3.0-py3-none-any.whl (2.3 MB)\n",
            "\u001b[2K   \u001b[90m━━━━━━━━━━━━━━━━━━━━━━━━━━━━━━━━━━━━━━━━\u001b[0m \u001b[32m2.3/2.3 MB\u001b[0m \u001b[31m64.0 MB/s\u001b[0m eta \u001b[36m0:00:00\u001b[0m\n",
            "\u001b[?25hDownloading GitPython-3.1.43-py3-none-any.whl (207 kB)\n",
            "\u001b[2K   \u001b[90m━━━━━━━━━━━━━━━━━━━━━━━━━━━━━━━━━━━━━━━━\u001b[0m \u001b[32m207.3/207.3 kB\u001b[0m \u001b[31m14.9 MB/s\u001b[0m eta \u001b[36m0:00:00\u001b[0m\n",
            "\u001b[?25hDownloading dataclasses_json-0.6.7-py3-none-any.whl (28 kB)\n",
            "Downloading langchain_core-0.3.51-py3-none-any.whl (423 kB)\n",
            "\u001b[2K   \u001b[90m━━━━━━━━━━━━━━━━━━━━━━━━━━━━━━━━━━━━━━━━\u001b[0m \u001b[32m423.3/423.3 kB\u001b[0m \u001b[31m28.0 MB/s\u001b[0m eta \u001b[36m0:00:00\u001b[0m\n",
            "\u001b[?25hDownloading numpy-1.26.4-cp311-cp311-manylinux_2_17_x86_64.manylinux2014_x86_64.whl (18.3 MB)\n",
            "\u001b[2K   \u001b[90m━━━━━━━━━━━━━━━━━━━━━━━━━━━━━━━━━━━━━━━━\u001b[0m \u001b[32m18.3/18.3 MB\u001b[0m \u001b[31m83.7 MB/s\u001b[0m eta \u001b[36m0:00:00\u001b[0m\n",
            "\u001b[?25hDownloading pydantic_settings-2.8.1-py3-none-any.whl (30 kB)\n",
            "Downloading marshmallow-3.26.1-py3-none-any.whl (50 kB)\n",
            "\u001b[2K   \u001b[90m━━━━━━━━━━━━━━━━━━━━━━━━━━━━━━━━━━━━━━━━\u001b[0m \u001b[32m50.9/50.9 kB\u001b[0m \u001b[31m3.8 MB/s\u001b[0m eta \u001b[36m0:00:00\u001b[0m\n",
            "\u001b[?25hDownloading python_dotenv-1.1.0-py3-none-any.whl (20 kB)\n",
            "Downloading typing_inspect-0.9.0-py3-none-any.whl (8.8 kB)\n",
            "Downloading mypy_extensions-1.0.0-py3-none-any.whl (4.7 kB)\n",
            "Installing collected packages: python-dotenv, numpy, mypy-extensions, marshmallow, typing-inspect, GitPython, pydantic-settings, dataclasses-json, langchain-core, langchain-community\n",
            "  Attempting uninstall: numpy\n",
            "    Found existing installation: numpy 2.0.2\n",
            "    Uninstalling numpy-2.0.2:\n",
            "      Successfully uninstalled numpy-2.0.2\n",
            "  Attempting uninstall: GitPython\n",
            "    Found existing installation: GitPython 3.1.44\n",
            "    Uninstalling GitPython-3.1.44:\n",
            "      Successfully uninstalled GitPython-3.1.44\n",
            "  Attempting uninstall: langchain-core\n",
            "    Found existing installation: langchain-core 0.3.0\n",
            "    Uninstalling langchain-core-0.3.0:\n",
            "      Successfully uninstalled langchain-core-0.3.0\n",
            "Successfully installed GitPython-3.1.43 dataclasses-json-0.6.7 langchain-community-0.3.0 langchain-core-0.3.51 marshmallow-3.26.1 mypy-extensions-1.0.0 numpy-1.26.4 pydantic-settings-2.8.1 python-dotenv-1.1.0 typing-inspect-0.9.0\n"
          ]
        }
      ],
      "source": [
        "!pip install langchain-community==0.3.0 GitPython==3.1.43"
      ]
    },
    {
      "cell_type": "code",
      "execution_count": 36,
      "metadata": {
        "id": "qMpsNCTnpM1x",
        "outputId": "c5d3244a-cff4-420e-dc75-3651e1692911",
        "colab": {
          "base_uri": "https://localhost:8080/"
        }
      },
      "outputs": [
        {
          "output_type": "stream",
          "name": "stdout",
          "text": [
            "412\n"
          ]
        }
      ],
      "source": [
        "from langchain_community.document_loaders import GitLoader\n",
        "\n",
        "\n",
        "def file_filter(file_path: str) -> bool:\n",
        "    return file_path.endswith(\".mdx\")\n",
        "\n",
        "\n",
        "loader = GitLoader(\n",
        "    clone_url=\"https://github.com/langchain-ai/langchain\",\n",
        "    repo_path=\"./langchain\",\n",
        "    branch=\"master\",\n",
        "    file_filter=file_filter,\n",
        ")\n",
        "\n",
        "raw_docs = loader.load()\n",
        "print(len(raw_docs))"
      ]
    },
    {
      "cell_type": "markdown",
      "metadata": {
        "id": "8XUJHe1BpM1x"
      },
      "source": [
        "### Document transformer\n"
      ]
    },
    {
      "cell_type": "code",
      "execution_count": 37,
      "metadata": {
        "id": "EJZqG5HDpM1x",
        "outputId": "ec1e3138-49e1-437f-ca21-d135ec8f201f",
        "colab": {
          "base_uri": "https://localhost:8080/"
        }
      },
      "outputs": [
        {
          "output_type": "stream",
          "name": "stdout",
          "text": [
            "Collecting langchain-text-splitters==0.3.0\n",
            "  Downloading langchain_text_splitters-0.3.0-py3-none-any.whl.metadata (2.3 kB)\n",
            "Requirement already satisfied: langchain-core<0.4.0,>=0.3.0 in /usr/local/lib/python3.11/dist-packages (from langchain-text-splitters==0.3.0) (0.3.51)\n",
            "Requirement already satisfied: langsmith<0.4,>=0.1.125 in /usr/local/lib/python3.11/dist-packages (from langchain-core<0.4.0,>=0.3.0->langchain-text-splitters==0.3.0) (0.1.147)\n",
            "Requirement already satisfied: tenacity!=8.4.0,<10.0.0,>=8.1.0 in /usr/local/lib/python3.11/dist-packages (from langchain-core<0.4.0,>=0.3.0->langchain-text-splitters==0.3.0) (8.5.0)\n",
            "Requirement already satisfied: jsonpatch<2.0,>=1.33 in /usr/local/lib/python3.11/dist-packages (from langchain-core<0.4.0,>=0.3.0->langchain-text-splitters==0.3.0) (1.33)\n",
            "Requirement already satisfied: PyYAML>=5.3 in /usr/local/lib/python3.11/dist-packages (from langchain-core<0.4.0,>=0.3.0->langchain-text-splitters==0.3.0) (6.0.2)\n",
            "Requirement already satisfied: packaging<25,>=23.2 in /usr/local/lib/python3.11/dist-packages (from langchain-core<0.4.0,>=0.3.0->langchain-text-splitters==0.3.0) (24.2)\n",
            "Requirement already satisfied: typing-extensions>=4.7 in /usr/local/lib/python3.11/dist-packages (from langchain-core<0.4.0,>=0.3.0->langchain-text-splitters==0.3.0) (4.13.1)\n",
            "Requirement already satisfied: pydantic<3.0.0,>=2.5.2 in /usr/local/lib/python3.11/dist-packages (from langchain-core<0.4.0,>=0.3.0->langchain-text-splitters==0.3.0) (2.9.2)\n",
            "Requirement already satisfied: jsonpointer>=1.9 in /usr/local/lib/python3.11/dist-packages (from jsonpatch<2.0,>=1.33->langchain-core<0.4.0,>=0.3.0->langchain-text-splitters==0.3.0) (3.0.0)\n",
            "Requirement already satisfied: httpx<1,>=0.23.0 in /usr/local/lib/python3.11/dist-packages (from langsmith<0.4,>=0.1.125->langchain-core<0.4.0,>=0.3.0->langchain-text-splitters==0.3.0) (0.28.1)\n",
            "Requirement already satisfied: orjson<4.0.0,>=3.9.14 in /usr/local/lib/python3.11/dist-packages (from langsmith<0.4,>=0.1.125->langchain-core<0.4.0,>=0.3.0->langchain-text-splitters==0.3.0) (3.10.16)\n",
            "Requirement already satisfied: requests<3,>=2 in /usr/local/lib/python3.11/dist-packages (from langsmith<0.4,>=0.1.125->langchain-core<0.4.0,>=0.3.0->langchain-text-splitters==0.3.0) (2.32.3)\n",
            "Requirement already satisfied: requests-toolbelt<2.0.0,>=1.0.0 in /usr/local/lib/python3.11/dist-packages (from langsmith<0.4,>=0.1.125->langchain-core<0.4.0,>=0.3.0->langchain-text-splitters==0.3.0) (1.0.0)\n",
            "Requirement already satisfied: annotated-types>=0.6.0 in /usr/local/lib/python3.11/dist-packages (from pydantic<3.0.0,>=2.5.2->langchain-core<0.4.0,>=0.3.0->langchain-text-splitters==0.3.0) (0.7.0)\n",
            "Requirement already satisfied: pydantic-core==2.23.4 in /usr/local/lib/python3.11/dist-packages (from pydantic<3.0.0,>=2.5.2->langchain-core<0.4.0,>=0.3.0->langchain-text-splitters==0.3.0) (2.23.4)\n",
            "Requirement already satisfied: anyio in /usr/local/lib/python3.11/dist-packages (from httpx<1,>=0.23.0->langsmith<0.4,>=0.1.125->langchain-core<0.4.0,>=0.3.0->langchain-text-splitters==0.3.0) (4.9.0)\n",
            "Requirement already satisfied: certifi in /usr/local/lib/python3.11/dist-packages (from httpx<1,>=0.23.0->langsmith<0.4,>=0.1.125->langchain-core<0.4.0,>=0.3.0->langchain-text-splitters==0.3.0) (2025.1.31)\n",
            "Requirement already satisfied: httpcore==1.* in /usr/local/lib/python3.11/dist-packages (from httpx<1,>=0.23.0->langsmith<0.4,>=0.1.125->langchain-core<0.4.0,>=0.3.0->langchain-text-splitters==0.3.0) (1.0.7)\n",
            "Requirement already satisfied: idna in /usr/local/lib/python3.11/dist-packages (from httpx<1,>=0.23.0->langsmith<0.4,>=0.1.125->langchain-core<0.4.0,>=0.3.0->langchain-text-splitters==0.3.0) (3.10)\n",
            "Requirement already satisfied: h11<0.15,>=0.13 in /usr/local/lib/python3.11/dist-packages (from httpcore==1.*->httpx<1,>=0.23.0->langsmith<0.4,>=0.1.125->langchain-core<0.4.0,>=0.3.0->langchain-text-splitters==0.3.0) (0.14.0)\n",
            "Requirement already satisfied: charset-normalizer<4,>=2 in /usr/local/lib/python3.11/dist-packages (from requests<3,>=2->langsmith<0.4,>=0.1.125->langchain-core<0.4.0,>=0.3.0->langchain-text-splitters==0.3.0) (3.4.1)\n",
            "Requirement already satisfied: urllib3<3,>=1.21.1 in /usr/local/lib/python3.11/dist-packages (from requests<3,>=2->langsmith<0.4,>=0.1.125->langchain-core<0.4.0,>=0.3.0->langchain-text-splitters==0.3.0) (2.3.0)\n",
            "Requirement already satisfied: sniffio>=1.1 in /usr/local/lib/python3.11/dist-packages (from anyio->httpx<1,>=0.23.0->langsmith<0.4,>=0.1.125->langchain-core<0.4.0,>=0.3.0->langchain-text-splitters==0.3.0) (1.3.1)\n",
            "Downloading langchain_text_splitters-0.3.0-py3-none-any.whl (25 kB)\n",
            "Installing collected packages: langchain-text-splitters\n",
            "  Attempting uninstall: langchain-text-splitters\n",
            "    Found existing installation: langchain-text-splitters 0.3.7\n",
            "    Uninstalling langchain-text-splitters-0.3.7:\n",
            "      Successfully uninstalled langchain-text-splitters-0.3.7\n",
            "\u001b[31mERROR: pip's dependency resolver does not currently take into account all the packages that are installed. This behaviour is the source of the following dependency conflicts.\n",
            "langchain 0.3.22 requires langchain-text-splitters<1.0.0,>=0.3.7, but you have langchain-text-splitters 0.3.0 which is incompatible.\u001b[0m\u001b[31m\n",
            "\u001b[0mSuccessfully installed langchain-text-splitters-0.3.0\n"
          ]
        }
      ],
      "source": [
        "!pip install langchain-text-splitters==0.3.0"
      ]
    },
    {
      "cell_type": "code",
      "execution_count": 38,
      "metadata": {
        "id": "nu3MmXmUpM1x",
        "outputId": "7748d9de-687e-47f2-84d3-fec04cfa1dd0",
        "colab": {
          "base_uri": "https://localhost:8080/"
        }
      },
      "outputs": [
        {
          "output_type": "stream",
          "name": "stderr",
          "text": [
            "WARNING:langchain_text_splitters.base:Created a chunk of size 6803, which is longer than the specified 1000\n",
            "WARNING:langchain_text_splitters.base:Created a chunk of size 3302, which is longer than the specified 1000\n",
            "WARNING:langchain_text_splitters.base:Created a chunk of size 1851, which is longer than the specified 1000\n",
            "WARNING:langchain_text_splitters.base:Created a chunk of size 1639, which is longer than the specified 1000\n",
            "WARNING:langchain_text_splitters.base:Created a chunk of size 9269, which is longer than the specified 1000\n",
            "WARNING:langchain_text_splitters.base:Created a chunk of size 2579, which is longer than the specified 1000\n",
            "WARNING:langchain_text_splitters.base:Created a chunk of size 17814, which is longer than the specified 1000\n",
            "WARNING:langchain_text_splitters.base:Created a chunk of size 1700, which is longer than the specified 1000\n",
            "WARNING:langchain_text_splitters.base:Created a chunk of size 1135, which is longer than the specified 1000\n",
            "WARNING:langchain_text_splitters.base:Created a chunk of size 1126, which is longer than the specified 1000\n",
            "WARNING:langchain_text_splitters.base:Created a chunk of size 1098, which is longer than the specified 1000\n",
            "WARNING:langchain_text_splitters.base:Created a chunk of size 1433, which is longer than the specified 1000\n",
            "WARNING:langchain_text_splitters.base:Created a chunk of size 1300, which is longer than the specified 1000\n",
            "WARNING:langchain_text_splitters.base:Created a chunk of size 1166, which is longer than the specified 1000\n",
            "WARNING:langchain_text_splitters.base:Created a chunk of size 1351, which is longer than the specified 1000\n",
            "WARNING:langchain_text_splitters.base:Created a chunk of size 1756, which is longer than the specified 1000\n",
            "WARNING:langchain_text_splitters.base:Created a chunk of size 1643, which is longer than the specified 1000\n",
            "WARNING:langchain_text_splitters.base:Created a chunk of size 1091, which is longer than the specified 1000\n",
            "WARNING:langchain_text_splitters.base:Created a chunk of size 1313, which is longer than the specified 1000\n",
            "WARNING:langchain_text_splitters.base:Created a chunk of size 1422, which is longer than the specified 1000\n",
            "WARNING:langchain_text_splitters.base:Created a chunk of size 1662, which is longer than the specified 1000\n",
            "WARNING:langchain_text_splitters.base:Created a chunk of size 1123, which is longer than the specified 1000\n",
            "WARNING:langchain_text_splitters.base:Created a chunk of size 1174, which is longer than the specified 1000\n",
            "WARNING:langchain_text_splitters.base:Created a chunk of size 1936, which is longer than the specified 1000\n",
            "WARNING:langchain_text_splitters.base:Created a chunk of size 1441, which is longer than the specified 1000\n",
            "WARNING:langchain_text_splitters.base:Created a chunk of size 1498, which is longer than the specified 1000\n",
            "WARNING:langchain_text_splitters.base:Created a chunk of size 1046, which is longer than the specified 1000\n",
            "WARNING:langchain_text_splitters.base:Created a chunk of size 1057, which is longer than the specified 1000\n",
            "WARNING:langchain_text_splitters.base:Created a chunk of size 1363, which is longer than the specified 1000\n",
            "WARNING:langchain_text_splitters.base:Created a chunk of size 1432, which is longer than the specified 1000\n",
            "WARNING:langchain_text_splitters.base:Created a chunk of size 1662, which is longer than the specified 1000\n",
            "WARNING:langchain_text_splitters.base:Created a chunk of size 1281, which is longer than the specified 1000\n",
            "WARNING:langchain_text_splitters.base:Created a chunk of size 1752, which is longer than the specified 1000\n",
            "WARNING:langchain_text_splitters.base:Created a chunk of size 1705, which is longer than the specified 1000\n",
            "WARNING:langchain_text_splitters.base:Created a chunk of size 1266, which is longer than the specified 1000\n",
            "WARNING:langchain_text_splitters.base:Created a chunk of size 1764, which is longer than the specified 1000\n",
            "WARNING:langchain_text_splitters.base:Created a chunk of size 1378, which is longer than the specified 1000\n",
            "WARNING:langchain_text_splitters.base:Created a chunk of size 1596, which is longer than the specified 1000\n",
            "WARNING:langchain_text_splitters.base:Created a chunk of size 1063, which is longer than the specified 1000\n",
            "WARNING:langchain_text_splitters.base:Created a chunk of size 1540, which is longer than the specified 1000\n",
            "WARNING:langchain_text_splitters.base:Created a chunk of size 1888, which is longer than the specified 1000\n",
            "WARNING:langchain_text_splitters.base:Created a chunk of size 1739, which is longer than the specified 1000\n",
            "WARNING:langchain_text_splitters.base:Created a chunk of size 42090, which is longer than the specified 1000\n",
            "WARNING:langchain_text_splitters.base:Created a chunk of size 1147, which is longer than the specified 1000\n",
            "WARNING:langchain_text_splitters.base:Created a chunk of size 5835, which is longer than the specified 1000\n",
            "WARNING:langchain_text_splitters.base:Created a chunk of size 1819, which is longer than the specified 1000\n",
            "WARNING:langchain_text_splitters.base:Created a chunk of size 1182, which is longer than the specified 1000\n",
            "WARNING:langchain_text_splitters.base:Created a chunk of size 3563, which is longer than the specified 1000\n",
            "WARNING:langchain_text_splitters.base:Created a chunk of size 1053, which is longer than the specified 1000\n",
            "WARNING:langchain_text_splitters.base:Created a chunk of size 1140, which is longer than the specified 1000\n",
            "WARNING:langchain_text_splitters.base:Created a chunk of size 5053, which is longer than the specified 1000\n",
            "WARNING:langchain_text_splitters.base:Created a chunk of size 1006, which is longer than the specified 1000\n",
            "WARNING:langchain_text_splitters.base:Created a chunk of size 1651, which is longer than the specified 1000\n",
            "WARNING:langchain_text_splitters.base:Created a chunk of size 2096, which is longer than the specified 1000\n",
            "WARNING:langchain_text_splitters.base:Created a chunk of size 8206, which is longer than the specified 1000\n",
            "WARNING:langchain_text_splitters.base:Created a chunk of size 2933, which is longer than the specified 1000\n",
            "WARNING:langchain_text_splitters.base:Created a chunk of size 2134, which is longer than the specified 1000\n",
            "WARNING:langchain_text_splitters.base:Created a chunk of size 1915, which is longer than the specified 1000\n",
            "WARNING:langchain_text_splitters.base:Created a chunk of size 1129, which is longer than the specified 1000\n",
            "WARNING:langchain_text_splitters.base:Created a chunk of size 1021, which is longer than the specified 1000\n",
            "WARNING:langchain_text_splitters.base:Created a chunk of size 1393, which is longer than the specified 1000\n",
            "WARNING:langchain_text_splitters.base:Created a chunk of size 2357, which is longer than the specified 1000\n",
            "WARNING:langchain_text_splitters.base:Created a chunk of size 2373, which is longer than the specified 1000\n",
            "WARNING:langchain_text_splitters.base:Created a chunk of size 2989, which is longer than the specified 1000\n",
            "WARNING:langchain_text_splitters.base:Created a chunk of size 2736, which is longer than the specified 1000\n",
            "WARNING:langchain_text_splitters.base:Created a chunk of size 1123, which is longer than the specified 1000\n",
            "WARNING:langchain_text_splitters.base:Created a chunk of size 1048, which is longer than the specified 1000\n",
            "WARNING:langchain_text_splitters.base:Created a chunk of size 1083, which is longer than the specified 1000\n",
            "WARNING:langchain_text_splitters.base:Created a chunk of size 1014, which is longer than the specified 1000\n",
            "WARNING:langchain_text_splitters.base:Created a chunk of size 1044, which is longer than the specified 1000\n",
            "WARNING:langchain_text_splitters.base:Created a chunk of size 1012, which is longer than the specified 1000\n",
            "WARNING:langchain_text_splitters.base:Created a chunk of size 1438, which is longer than the specified 1000\n",
            "WARNING:langchain_text_splitters.base:Created a chunk of size 1141, which is longer than the specified 1000\n",
            "WARNING:langchain_text_splitters.base:Created a chunk of size 1036, which is longer than the specified 1000\n",
            "WARNING:langchain_text_splitters.base:Created a chunk of size 1137, which is longer than the specified 1000\n",
            "WARNING:langchain_text_splitters.base:Created a chunk of size 1113, which is longer than the specified 1000\n",
            "WARNING:langchain_text_splitters.base:Created a chunk of size 1337, which is longer than the specified 1000\n",
            "WARNING:langchain_text_splitters.base:Created a chunk of size 1162, which is longer than the specified 1000\n",
            "WARNING:langchain_text_splitters.base:Created a chunk of size 1158, which is longer than the specified 1000\n",
            "WARNING:langchain_text_splitters.base:Created a chunk of size 3603, which is longer than the specified 1000\n",
            "WARNING:langchain_text_splitters.base:Created a chunk of size 1330, which is longer than the specified 1000\n",
            "WARNING:langchain_text_splitters.base:Created a chunk of size 1188, which is longer than the specified 1000\n",
            "WARNING:langchain_text_splitters.base:Created a chunk of size 1170, which is longer than the specified 1000\n",
            "WARNING:langchain_text_splitters.base:Created a chunk of size 1443, which is longer than the specified 1000\n",
            "WARNING:langchain_text_splitters.base:Created a chunk of size 3138, which is longer than the specified 1000\n",
            "WARNING:langchain_text_splitters.base:Created a chunk of size 1121, which is longer than the specified 1000\n"
          ]
        },
        {
          "output_type": "stream",
          "name": "stdout",
          "text": [
            "1421\n"
          ]
        }
      ],
      "source": [
        "from langchain_text_splitters import CharacterTextSplitter\n",
        "\n",
        "text_splitter = CharacterTextSplitter(chunk_size=1000, chunk_overlap=0)\n",
        "\n",
        "docs = text_splitter.split_documents(raw_docs)\n",
        "print(len(docs))"
      ]
    },
    {
      "cell_type": "markdown",
      "metadata": {
        "id": "RqpqzjkVpM1x"
      },
      "source": [
        "### Embedding model\n"
      ]
    },
    {
      "cell_type": "code",
      "execution_count": 39,
      "metadata": {
        "id": "O1Vjp2FhpM1x"
      },
      "outputs": [],
      "source": [
        "from langchain_openai import OpenAIEmbeddings\n",
        "\n",
        "embeddings = OpenAIEmbeddings(model=\"text-embedding-3-small\")"
      ]
    },
    {
      "cell_type": "code",
      "execution_count": 40,
      "metadata": {
        "id": "5A9v6RZ2pM1x",
        "outputId": "c2c4723a-aa6d-4eff-fd36-6bc9c515759d",
        "colab": {
          "base_uri": "https://localhost:8080/"
        }
      },
      "outputs": [
        {
          "output_type": "stream",
          "name": "stdout",
          "text": [
            "1536\n",
            "[0.006401920225471258, 0.008395073004066944, 0.023506203666329384, -0.02718920260667801, 0.035508450120687485, 0.006309845019131899, -0.0015436101239174604, 0.017299266532063484, 0.011471460573375225, -0.025694338604807854, -0.0010060546919703484, -0.002324893604964018, -0.009472891688346863, -0.008671297691762447, -0.015208622440695763, 0.04870225489139557, 0.007468906696885824, -0.015078634023666382, -0.029182355850934982, 0.0004945645923726261, 0.02539103291928768, 0.03301700949668884, -0.02643093839287758, 0.05056541785597801, 0.025824327021837234, -0.04740237072110176, -0.017440086230635643, 0.03477184846997261, -0.013128810562193394, -0.106936976313591, -0.01305298414081335, -0.05450839549303055, -0.025369368493556976, 0.03275703266263008, -0.015327777713537216, 0.052558571100234985, 0.04571252688765526, 0.00966245774179697, -0.011493125930428505, -0.019964024424552917, 0.012283886782824993, -0.004116293974220753, 0.015306113287806511, 0.00424086581915617, 0.030157268047332764, 0.01923825778067112, -0.003127841744571924, 0.00930499006062746, -0.04857226461172104, 0.009283325634896755, -0.018090028315782547, 0.05299186706542969, 0.01559858676046133, -0.008427569642663002, 0.02391783334314823, 0.04857226461172104, -0.01298798993229866, 0.03139215707778931, 0.002552372869104147, -0.011233149096369743, 0.02508772723376751, -0.007940114475786686, -0.052428584545850754, 0.0702802985906601, 0.0006282764370553195, 0.00995493121445179, -0.003761534346267581, -0.006970618385821581, -0.05476837232708931, 0.01901077851653099, -0.022747939452528954, 0.02593265101313591, 0.03695998340845108, -0.05667486414313316, 0.0023614526726305485, -0.02820744551718235, -0.03737161308526993, 0.01263052225112915, -0.024871081113815308, 0.022921256721019745, 0.005183280445635319, 0.030503902584314346, -0.010772773995995522, -0.06040119379758835, 0.0008544017910026014, -0.004725613631308079, -0.05615491420030594, 0.030785543844103813, -0.0173642598092556, 0.023636192083358765, 0.02244463376700878, 0.02892237901687622, -0.01794920675456524, 0.01220806036144495, 0.013117978349328041, 0.0513453483581543, 0.04280945658683777, -0.028987374156713486, -0.015869395807385445, 0.038454849272966385, -0.009359152056276798, -0.03834652528166771, 0.029897291213274002, -0.04584251344203949, 0.0500887967646122, -0.027925804257392883, 0.048355620354413986, 0.010696947574615479, -0.0035692600067704916, 0.0007277986733242869, -0.012554695829749107, 0.0139953987672925, -0.014222878031432629, -0.02677757479250431, 0.014374530874192715, -0.004579376894980669, 0.012738846242427826, 0.02812078595161438, 0.00955413468182087, 0.006120278965681791, -0.02209799736738205, 0.03485850989818573, -0.0012071302626281977, -0.057151488959789276, -0.008118847385048866, 0.0010548002319410443, 0.01511113066226244, -0.05533165484666824, -0.04579918459057808, 0.02361452765762806, 0.059837911278009415, -0.0012612920254468918, 0.08960521221160889, -0.08054936677217484, 0.05741146579384804, -0.006526492070406675, -0.011352305300533772, -0.01102733425796032, -0.011319807730615139, 0.03375360742211342, 0.030785543844103813, -0.021253075450658798, 0.029832297936081886, 0.02757916785776615, -0.04735904186964035, -0.0198990311473608, 0.026799239218235016, -0.009489140473306179, -0.02963731437921524, -0.02227131649851799, -0.05069540813565254, -0.03962474316358566, -0.02946399711072445, -0.038736492395401, -0.03743660822510719, -0.013150474987924099, -0.025651009753346443, 0.040599655359983444, 0.027600832283496857, 0.036808330565690994, -0.07643307745456696, -0.03130549564957619, 0.02790413796901703, 0.015360275283455849, -0.020386487245559692, 0.018978280946612358, 0.02753583900630474, -0.01995319314301014, -0.012197228148579597, -0.06672728806734085, -0.012847169302403927, -0.014796992763876915, -0.017147613689303398, -0.0015923557803034782, 0.014407028444111347, -0.0197798740118742, -0.011698939837515354, -0.028229109942913055, 0.004739154130220413, -0.027210868895053864, 0.010453219525516033, -0.024307798594236374, -0.018772466108202934, 0.036310043185949326, -0.043632712215185165, -0.013399619609117508, 0.008449234999716282, 0.032475389540195465, -0.03139215707778931, 0.02495773881673813, -0.04395768418908119, 0.05485503003001213, 0.005161615554243326, -0.005026211496442556, 0.01968238316476345, -0.011265645734965801, -0.016042713075876236, -0.005979458335787058, 0.004381686449050903, 0.007647640537470579, 0.01576107181608677, 0.0027189203538000584, -0.00011010070011252537, -0.00854672584682703, -0.030958861112594604, 0.0029057783540338278, -0.009277909062802792, 0.02900903858244419, 0.0007772212848067284, -0.05593826621770859, 0.029962286353111267, 0.04852893576025963, -0.03165213391184807, 0.0059144641272723675, -0.035638436675071716, -0.03013560362160206, 0.008644216693937778, 0.07612977176904678, 0.016270192340016365, 0.03438188508152962, -0.017505081370472908, 0.019389910623431206, 0.00825425237417221, 0.004300443921238184, -0.0009518929291516542, 0.045019254088401794, -0.01513279601931572, -0.08033271878957748, -0.007116855122148991, -0.06079116091132164, 0.044975925236940384, 0.008178425952792168, -0.02790413796901703, 0.022487962618470192, 0.016725150868296623, 0.00572489807382226, -0.05771477147936821, 0.028900714591145515, -0.02066812850534916, -0.008308414369821548, -0.008129680529236794, 0.021123087033629417, -0.04571252688765526, 0.0241994746029377, -0.026950892060995102, -0.0022558372002094984, -0.008113431744277477, -0.00881211832165718, 0.01677931286394596, 0.06217769905924797, 0.015078634023666382, -0.02357119880616665, 0.04192120209336281, -0.049655500799417496, -0.04235449805855751, -0.0190541073679924, -0.005153491627424955, -0.00424086581915617, -0.007577230222523212, -0.0027757901698350906, 0.009001684375107288, 0.02079811505973339, 0.006531908176839352, 0.016400180757045746, -0.0006638200720772147, -0.003428439376875758, 0.023462874814867973, 0.0031576305627822876, -0.007950946688652039, 0.009434978477656841, 0.01915159821510315, -0.015013639815151691, 0.07526317983865738, -0.00968953873962164, 0.010328647680580616, 0.017819218337535858, -0.0018022325821220875, -0.04254947975277901, 0.01650850474834442, 0.0406213216483593, 0.002356036566197872, 0.004728321451693773, -0.01763506978750229, 0.016681822016835213, 0.0010392287513241172, -0.004768942948430777, -0.0357900895178318, -0.028640739619731903, -0.06048785522580147, 0.009694955311715603, 0.02521771565079689, -0.055461641401052475, 0.011785599403083324, -0.052341923117637634, -0.0068135494366288185, 0.036223385483026505, -0.006114862859249115, 0.003523222403600812, 0.0026742368936538696, -0.013659595511853695, 0.01973654516041279, 0.045062582939863205, -0.017245104536414146, 0.01471033412963152, -0.03230207413434982, -0.006418168544769287, -0.0623076893389225, -0.009164169430732727, 0.03659168630838394, -0.006401920225471258, -0.01471033412963152, 0.026149297133088112, 0.017245104536414146, 0.005719481967389584, 0.015121963806450367, -0.07184015959501266, -0.018588315695524216, -0.005093913525342941, 0.026084303855895996, -0.0037182047963142395, 0.025954315438866615, 0.002204383723437786, -0.021058091893792152, -0.026322616264224052, -0.03906146064400673, 0.01812252402305603, -0.01981237158179283, -0.024026157334446907, -0.0336669497191906, -0.009917018003761768, 0.022747939452528954, 0.012403042986989021, 0.03273536637425423, -6.127048982307315e-05, 0.015381939709186554, 0.00013345795741770416, 0.006862294860184193, 0.010464051738381386, -0.0022409427911043167, -0.02731919102370739, -0.04326441511511803, 0.007615143433213234, -0.02736252173781395, -0.04848560690879822, 0.01963905431330204, 0.0019823203328996897, -0.0008422153769060969, 0.02454610913991928, 0.015728574246168137, -0.0258893221616745, 0.01776505820453167, 0.01383291371166706, 0.006049868650734425, 0.022249650210142136, 0.013984566554427147, 0.004544171504676342, -0.038714826107025146, -0.06763720512390137, 0.01008491963148117, -0.03789156675338745, -0.010296151041984558, 0.011753101833164692, 0.030027279630303383, -0.014959477819502354, -0.000691916502546519, 0.01616186834871769, 0.0043546054512262344, 0.020148174837231636, 0.05624157190322876, -0.015078634023666382, 0.00031549224513582885, 0.011568952351808548, 0.018220016732811928, -0.037024978548288345, -0.002200321527197957, 0.03202043101191521, -0.031348828226327896, 0.03953808546066284, -0.0168334748595953, 0.01843666285276413, -0.018447495996952057, 0.03695998340845108, 0.008275916799902916, -0.004300443921238184, 0.01643267832696438, 0.01746175065636635, -0.003723620902746916, 0.01022032368928194, 0.013128810562193394, -0.015869395807385445, 0.010881097987294197, 0.017613403499126434, -0.00777762895449996, 0.018144190311431885, -0.028359098359942436, 0.0016207906883209944, -0.0152627844363451, -0.011308975517749786, -0.010236572474241257, -0.018685806542634964, -0.0024738383945077658, 0.023549532517790794, 0.033580292016267776, -0.009922434575855732, 0.011243981309235096, 0.009960347786545753, 0.027709156274795532, -0.01674681529402733, 0.019227424636483192, -0.05199528858065605, 0.03802155703306198, -0.011883090250194073, 0.029615649953484535, -0.0366133488714695, 0.0028299519326537848, 0.015295281074941158, -0.04610249027609825, 0.019249089062213898, -0.029788967221975327, 0.020061515271663666, 0.02861907333135605, -0.005018087103962898, -0.017169278115034103, -0.02829410322010517, -0.03817320987582207, 0.02870573289692402, 0.07816625386476517, -0.004988298285752535, 0.03397025540471077, -0.02976730279624462, 0.02829410322010517, -0.03667834401130676, 0.041314590722322464, -0.0017941083060577512, -0.034966833889484406, 0.007788461167365313, -0.007268507964909077, -0.01517612487077713, 0.05663153529167175, -0.010139081627130508, 0.007907616905868053, 0.006261099595576525, -0.05173531174659729, 0.030633891001343727, -0.07582646608352661, 0.024047821760177612, 0.0206247977912426, 0.05650154873728752, -0.011319807730615139, 0.011373969726264477, 0.03682999685406685, -0.03856317326426506, -0.030417244881391525, -0.002124495105817914, -0.0053295171819627285, -0.034576866775751114, -0.010897345840930939, -0.045062582939863205, 0.042831119149923325, -0.04870225489139557, 0.012489701621234417, 0.036353372037410736, -0.011308975517749786, 0.029572321102023125, 0.00021850885241292417, -0.020743954926729202, 0.022704610601067543, 0.0028218277730047703, 0.007501403801143169, 0.007940114475786686, 0.04222450777888298, 0.01024740468710661, -0.028857385739684105, 0.01571774296462536, -0.015295281074941158, -0.018382500857114792, -0.02053814008831978, -0.03940809518098831, -0.010789022780954838, -0.029182355850934982, 0.01646517589688301, -0.001482678228057921, -0.03977639600634575, -0.04753236100077629, 0.04857226461172104, 0.10503048449754715, -0.014385363087058067, 0.01138480193912983, 0.037068307399749756, -0.0014894483610987663, -0.0027839145623147488, 0.02651759795844555, 0.05078206583857536, -0.006764804013073444, -0.017819218337535858, -0.030157268047332764, -0.0389314740896225, -0.037068307399749756, -0.029875626787543297, 0.015782736241817474, -0.02619262784719467, -0.07907617092132568, -0.03808654844760895, 0.017299266532063484, 0.004173163790255785, -0.0753498375415802, -0.06720390915870667, 0.020386487245559692, 0.005061416421085596, -0.06919706612825394, 0.0008828366990201175, 0.04679575935006142, 0.0012308260193094611, 0.019606556743383408, -0.01620519906282425, -0.03165213391184807, 0.006694393698126078, 0.022509627044200897, 0.00012364114809315652, 0.01593438908457756, -0.032605379819869995, -0.012305552139878273, 0.05216860771179199, -0.041487909853458405, -0.0014231002423912287, 0.037739913910627365, -0.032822027802467346, -0.03334197774529457, 0.014201213605701923, -0.004966633394360542, 0.0058982158079743385, -0.060184549540281296, -0.012186395935714245, -0.03780490905046463, 0.0026891313027590513, -0.06079116091132164, 0.02450278028845787, -0.012446372769773006, -0.01650850474834442, -0.0021393895149230957, 0.009424146264791489, 0.018978280946612358, -0.02378784492611885, 0.027730820700526237, 0.031933773308992386, -0.027102544903755188, 0.005012670997530222, -0.031002191826701164, 0.02097143419086933, 0.010041589848697186, 0.007994275540113449, 0.013182972557842731, 0.023809509351849556, -0.015251951292157173, 0.037653256207704544, 0.006261099595576525, -0.002045960398390889, 0.01816585473716259, -0.0305255688726902, 0.02981063351035118, -0.01633518747985363, -0.006163608282804489, 0.001943053095601499, -0.009023348800837994, 0.001534131821244955, -0.013193804770708084, -0.0010344895999878645, -0.05143200606107712, -0.009770781733095646, -0.0012287949211895466, 0.003907770849764347, 0.04575585573911667, -0.00019498233450576663, 0.03726328909397125, 0.0016478715697303414, 0.01046946831047535, 0.017115116119384766, -0.046709101647138596, -0.027015885338187218, -0.013074648566544056, -0.005175156053155661, -0.008357159793376923, -0.034165237098932266, 0.016356851905584335, -0.00466332770884037, 0.025326039642095566, 0.03531346842646599, -0.027210868895053864, -0.015869395807385445, -0.03646169602870941, 0.014558681286871433, 0.0013723236043006182, 0.014439525082707405, -0.018848292529582977, 0.002583516063168645, -0.008660465478897095, 0.012554695829749107, 0.01629185676574707, -0.03897480294108391, 0.007257675752043724, 0.03308200463652611, -0.029074031859636307, 0.006607734598219395, 0.006179856602102518, -0.012619690038263798, -0.007875120267271996, -0.0046579111367464066, -0.03527013957500458, 0.014212045818567276, 0.014894483610987663, 0.03124050237238407, -0.011688107624650002, -0.05056541785597801, -0.04029634967446327, -0.005909048020839691, 0.0077126347459852695, -0.04692574962973595, 0.01646517589688301, 0.004167747218161821, 0.01323713455349207, -0.012045575305819511, 0.014320369809865952, 0.03691665455698967, 0.011774766258895397, -0.02521771565079689, 0.007403912488371134, -0.038953136652708054, 0.02361452765762806, -0.09896437078714371, 0.027969133108854294, -0.053988441824913025, 0.04458596184849739, -0.0057357302866876125, -0.015078634023666382, 0.02955065667629242, 0.03375360742211342, 0.024654433131217957, -0.00796719454228878, -0.02387450449168682, 0.026495933532714844, -0.008676714263856411, 0.004790607839822769, 0.03431688994169235, -0.03013560362160206, 0.030070608481764793, 0.014796992763876915, -0.017710896208882332, 0.04033967852592468, 0.0003354643995407969, -0.00926166120916605, -0.0045170909725129604, -0.03338531032204628, -0.009749116376042366, 0.011763934046030045, 0.018544986844062805, -7.739207649137825e-05, -0.013182972557842731, -0.003761534346267581, 0.03039558045566082, 0.016400180757045746, -0.022617951035499573, -0.049438852816820145, -0.015880228951573372, 0.01269551645964384, -0.008503396064043045, -0.008135096170008183, 0.016367683187127113, 0.043849360197782516, 0.02088477462530136, 0.008931274525821209, -0.024914409965276718, -0.014136219397187233, 0.018090028315782547, -0.023094573989510536, 0.015436101704835892, -0.01305298414081335, -0.025867655873298645, 0.014298704452812672, -0.013843745924532413, 0.016541002318263054, -0.000896377139724791, 0.003265954088419676, -0.017147613689303398, -0.06495077908039093, 0.0082596680149436, -0.018945783376693726, 0.018209183588624, -0.007003115490078926, 0.02285626344382763, -0.007820958271622658, 0.0014488270971924067, -0.0016207906883209944, -0.007344334851950407, -0.029875626787543297, 0.015414437279105186, 0.056804854422807693, 0.0014447649009525776, 0.0211555827409029, -0.005952377337962389, 0.0231595691293478, -0.022249650210142136, -0.033991921693086624, -0.01011200062930584, -0.02066812850534916, -0.03799989074468613, -0.02208716608583927, -0.022249650210142136, 0.007745131850242615, 0.033103667199611664, -0.024697761982679367, -0.04441264271736145, 0.013919572345912457, -0.0431344248354435, -0.01095692440867424, -0.01812252402305603, -0.03812987729907036, 0.008725459687411785, -0.0198990311473608, -0.022704610601067543, -0.008958355523645878, -0.013107146136462688, -0.007311837747693062, -0.005115578416734934, -0.032215416431427, 0.01981237158179283, 0.001945761265233159, 0.018220016732811928, 0.002892238087952137, -0.009992844425141811, 0.033190324902534485, 0.033146996051073074, -0.02003985084593296, -0.03875815495848656, 0.02092810347676277, 0.001005377620458603, 0.005037043709307909, -0.03308200463652611, 0.0381082147359848, -0.04887557402253151, -0.0037398694548755884, -0.020213168114423752, 0.0034528120886534452, 0.04488926753401756, 0.0703236311674118, -0.04096795618534088, -0.009700370952486992, -0.023441210389137268, 0.053771793842315674, -0.008535893633961678, -0.011861425824463367, 0.024719426408410072, 0.004666035529226065, 0.012078072875738144, 0.002192197134718299, 0.018414998427033424, -0.00812426395714283, 0.023441210389137268, -0.006553573068231344, 0.01263052225112915, -0.014103722758591175, 0.021588876843452454, 0.033233657479286194, 0.024849414825439453, 0.03843318670988083, -0.007376831490546465, 0.005039751995354891, -0.06911040842533112, -0.013042151927947998, 0.028445756062865257, -0.019942359998822212, 0.0012870188802480698, -0.01066445093601942, 0.055244993418455124, -0.007430993486195803, 0.009137089364230633, 0.011601448990404606, -0.0047608185559511185, -0.03691665455698967, -0.027124209329485893, -0.03914811834692955, -0.017342595383524895, -0.013724589720368385, 0.0014122679131105542, -0.012023910880088806, -0.027730820700526237, 0.024892745539546013, -0.03682999685406685, 0.025022733956575394, 0.022921256721019745, -0.020072348415851593, -0.02686423249542713, -0.0043410649523139, 0.03130549564957619, -0.005326808895915747, -0.0029843130614608526, -0.009521637111902237, -0.014017063193023205, -0.021101422607898712, -0.040014706552028656, -0.011753101833164692, -0.008584639057517052, -0.003192835720255971, 0.005083081312477589, 0.027600832283496857, 0.09298490732908249, 0.0115797845646739, -0.033991921693086624, 0.01563108339905739, -0.04605916142463684, -0.03273536637425423, -0.04618914797902107, 0.03048223815858364, 0.0032280408777296543, 0.030503902584314346, -0.0037479938473552465, -0.01051279716193676, -0.02227131649851799, 0.0009613712318241596, -0.001971488120034337, 0.03932143747806549, 0.028055790811777115, -0.021892182528972626, -0.017960039898753166, -0.023506203666329384, 0.02575933374464512, 0.00859005469828844, 0.015782736241817474, 0.008720043115317822, -0.032107092440128326, -0.03111051581799984, 0.030915532261133194, 0.028315767645835876, 0.010144497267901897, -0.007176433224231005, 0.042506150901317596, 0.024026157334446907, -0.014147051610052586, -0.05329517275094986, -0.04488926753401756, -0.013659595511853695, -0.055678289383649826, -0.027102544903755188, 0.0029788967221975327, -0.02833743207156658, -0.012381378561258316, -0.010973172262310982, -0.02517438679933548, 0.01816585473716259, -0.029074031859636307, -0.04727238416671753, 0.012814672663807869, 0.001892953529022634, -0.027839144691824913, 0.004346481058746576, 0.0357900895178318, 0.03466352820396423, 0.001406851690262556, -0.043221086263656616, -0.029897291213274002, -0.0026701746974140406, 0.029160691425204277, 0.02352786809206009, -0.03540012612938881, 0.015251951292157173, 0.03111051581799984, 0.019649887457489967, 0.013670428656041622, 0.01109232846647501, 0.029269015416502953, 0.01471033412963152, 0.04031801596283913, 0.023419545963406563, -0.024307798594236374, -0.015165292657911777, 0.0025171677116304636, -0.0353567972779274, 0.012803840450942516, 0.07214346528053284, -0.006223186384886503, 0.002908486407250166, -0.024654433131217957, 0.0009457997512072325, -0.02285626344382763, 0.021372230723500252, -0.012598025612533092, -0.030243927612900734, 0.02900903858244419, 0.0025361243169754744, 0.012598025612533092, 0.022921256721019745, -0.019249089062213898, 0.015295281074941158, 0.0016451635165140033, -0.010458636097609997, 0.004741861950606108, 0.03754493221640587, -0.018761632964015007, -0.019649887457489967, -0.005334933288395405, 0.01086484920233488, -0.0025401865132153034, 0.007176433224231005, 0.014396196231245995, 0.017396757379174232, 0.027037549763917923, 0.00045631281682290137, 0.015425269491970539, 0.04393601790070534, -0.008319246582686901, -0.01252219919115305, 0.003926727455109358, 0.01999652199447155, 0.016670988872647285, -0.03771825134754181, 0.03230207413434982, -0.006580654066056013, -0.030763879418373108, 0.022466298192739487, 0.01435286644846201, -0.006006539333611727, 0.03195543959736824, -0.018869956955313683, 0.013497110456228256, -0.0004806856159120798, -0.027167538180947304, -0.013204636983573437, 0.020234834402799606, -0.04311276227235794, -0.0019593017641454935, 0.011211484670639038, -0.005324101075530052, -0.0059144641272723675, -0.03405691310763359, 0.004587501287460327, 0.019617389887571335, -0.04753236100077629, 0.030330585315823555, -0.0075501492246985435, -0.012110569514334202, -0.015013639815151691, 0.027059216052293777, 0.01633518747985363, 0.021502219140529633, -0.0003801478596869856, 0.043762702494859695, -0.021675536409020424, 0.006596902385354042, -0.014049560762941837, 0.004858309868723154, 0.0026160129345953465, -0.010615704581141472, -0.012110569514334202, 0.016411013901233673, -0.0330386720597744, -0.02437279187142849, 0.013789583928883076, 0.06252433359622955, -0.002254483290016651, 0.03306033834815025, 0.0025510189589112997, 0.020657295361161232, -0.013616266660392284, 0.002300520660355687, -0.04267946630716324, 0.0063965036533772945, 0.005191404838114977, 0.016800977289676666, 0.010030757635831833, 0.005806140601634979, 0.003804863663390279, -0.003913186956197023, 0.03342863917350769, -0.013334625400602818, 0.01419038139283657, -0.0029572320636361837, 0.009700370952486992, 0.03806488588452339, -0.04101128503680229, 0.01937907747924328, 0.02744917944073677, 0.019530730322003365, 0.008709210902452469, 0.021491385996341705, -0.028055790811777115, 0.014937813393771648, 0.008487148210406303, 0.017970871180295944, -0.008395073004066944, 0.028185779228806496, -0.0009566320804879069, 0.015587754547595978, 0.0007697740220464766, -0.030330585315823555, -0.01776505820453167, -0.011677275411784649, -0.009624544531106949, 0.017331764101982117, 0.00770180206745863, 0.014861986972391605, 0.02098226547241211, -0.028445756062865257, -0.027340857312083244, 0.012468037195503712, 0.00685146264731884, 0.01393040455877781, 0.005248274654150009, 0.0033363644033670425, -0.019790707156062126, -0.01835000514984131, 0.02298625186085701, 0.0076530566439032555, 0.009922434575855732, 0.022173823788762093, 0.004879974760115147, -0.006131111178547144, -0.04413100332021713, -0.053771793842315674, -0.0045414636842906475, -0.01981237158179283, 0.0019335747929289937, 0.0031224254053086042, -0.0252610445022583, -0.047878995537757874, 0.03364528715610504, -0.02365785650908947, 0.018447495996952057, -0.0013513359008356929, -0.0008713272982276976, 0.06781052052974701, 0.02580266259610653, -0.002228756435215473, 0.023311221972107887, 0.0036992481909692287, 0.02508772723376751, -0.011016502045094967, 0.040058039128780365, -0.008763372898101807, 0.029918955639004707, 0.03897480294108391, -0.006802717223763466, -0.014667004346847534, 0.019563227891921997, 0.034750185906887054, 0.008470899425446987, -0.007615143433213234, 0.035595107823610306, 0.03173879161477089, 0.03514014929533005, -0.02450278028845787, 0.05199528858065605, 0.0022070917766541243, 0.008205506950616837, -0.03682999685406685, -0.003753409953787923, 0.004072964191436768, 0.007999692112207413, 0.037783242762088776, -0.002789330668747425, 0.011677275411784649, -0.006380255334079266, 0.0007081649964675307, 0.009694955311715603, 0.03223707899451256, -0.015685245394706726, -0.012186395935714245, -0.012803840450942516, 0.00014581361028831452, 0.03039558045566082, 0.02643093839287758, 0.021090589463710785, 0.006504827179014683, -0.010621121153235435, 0.055244993418455124, 0.013497110456228256, -7.332994573516771e-05, 0.01842583157122135, -0.0440010130405426, -0.001536839990876615, -0.009835775941610336, -0.000408921274356544, -0.03130549564957619, 0.015013639815151691, -0.010556126944720745, -0.0030547233764082193, -0.013583769090473652, 0.013952068984508514, 0.01829584315419197, -0.030677221715450287, 0.059751253575086594, -0.02071145735681057, 0.012197228148579597, -0.015912724658846855, -0.005589493550360203, 0.00578989228233695, -0.008075518533587456, 0.019476568326354027, -0.0008760664495639503, -0.00103516667149961, -0.029290679842233658, 0.014515351504087448, 0.006873127538710833, -0.013302127830684185, 0.012608857825398445, 0.003859025426208973, -0.0043275244534015656, 0.006158192176371813, -0.01762423664331436, 0.00634775822982192, 0.04610249027609825, 0.011146490462124348, 0.016346018761396408, -0.003905062796548009, -0.02723253332078457, 0.012533031404018402, 0.05381512641906738, -0.0025740377604961395, -0.006699809804558754, -0.011135658249258995, -0.02458943985402584, -0.006022787652909756, 0.022661279886960983, 0.013724589720368385, -0.016324354335665703, -0.00874712411314249, -0.00796719454228878, -0.030243927612900734, -0.0071439361199736595, 0.02744917944073677, -0.014742830768227577, 0.003924019634723663, 0.04172622039914131, 0.010848600417375565, 0.014038728550076485, -0.0012592609273269773, 0.0209389366209507, -0.008487148210406303, 0.0250443983823061, -0.021675536409020424, -0.001963363727554679, 0.005145367234945297, 0.0058386377058923244, 0.00783179048448801, -0.03708997368812561, 0.004988298285752535, 0.01727760210633278, 0.045149244368076324, -0.001379770808853209, 0.021318068727850914, -0.014396196231245995, 0.03165213391184807, -0.06659729778766632, 0.024091150611639023, -0.0395597480237484, 0.010767358355224133, 0.008265084587037563, -0.00855214148759842, -0.0008598179556429386, 0.017331764101982117, -0.010090336203575134, -0.012338048778474331, 0.006033619865775108, 0.021220577880740166, -0.010101168416440487, 0.0288357213139534, -0.008449234999716282, 0.007279340643435717, -0.02172969840466976, -0.0007332148379646242, -0.005088497418910265, -0.010079503990709782, -0.02428613230586052, -0.012554695829749107, -0.00859005469828844, -0.0011847885325551033, 0.016216030344367027, -0.018631644546985626, 0.0082596680149436, -0.009380816482007504, -0.01258719339966774, 0.0034528120886534452, 0.010729444213211536, 0.002295104553923011, -0.06035786494612694, -0.02235797420144081, -0.042939443141222, -0.02222798578441143, -0.007539317011833191, 0.003447395982220769, 0.02812078595161438, -0.03115384466946125, -0.009467476047575474, -0.0389314740896225, -0.03553011640906334, 0.026257621124386787, -0.0026972556952387094, -0.05758478492498398, 0.024091150611639023, -0.035638436675071716, 0.039928048849105835, 0.008454650640487671, 0.002682361053302884, -0.010453219525516033, 0.001505696913227439, 0.022921256721019745, 0.026365945115685463, -0.0034067747183144093, -0.0054405489936470985, 0.007089774589985609, 0.0067377230152487755, 0.005459505598992109, 0.010458636097609997, -0.015576922334730625, 0.03147881478071213, -0.04766234755516052, -0.0037452857941389084, 0.02222798578441143, -0.015349443070590496, 0.022022170946002007, 0.03245372697710991, 0.002385825617238879, -0.014991975389420986, 0.02387450449168682, 0.007647640537470579, 0.013941236771643162, -0.014602010138332844, -0.01191558688879013, 0.03355862572789192, -0.0024941491428762674, 0.01647600717842579, 0.025109391659498215, 0.04395768418908119, -0.008292165584862232, 0.0431344248354435, 0.003788615111261606, 0.0022314644884318113, -0.0010019926121458411, 0.02896570973098278, -0.015425269491970539, -0.00896918773651123, 0.034836843609809875, 0.020700624212622643, 0.011406466364860535, 0.021675536409020424, -0.034966833889484406, -0.01616186834871769, 0.03026559203863144, -0.02450278028845787, 0.024156145751476288, 0.006087781861424446, -0.020299827679991722, 9.266738925362006e-05, -0.005280771758407354, 0.031088849529623985, 0.0035936327185481787, -0.007799293380230665, -0.011969748884439468, -0.0179925374686718, 0.022639615461230278, 0.013497110456228256, 0.0148403225466609, -0.033905260264873505, -0.022574622184038162, -0.008785037323832512, 0.013334625400602818, -0.00263361562974751, -0.0016492255963385105, -0.017927542328834534, -0.008779621683061123, -0.006234018597751856, -0.012803840450942516, 0.011308975517749786, 0.015880228951573372, -0.004879974760115147, -0.017786722630262375, -0.018772466108202934, 0.01060487236827612, -0.0015002808067947626, 0.014298704452812672, 0.001211192342452705, -0.021220577880740166, -0.020234834402799606, 0.01664932444691658, 0.01323713455349207, 0.008801286108791828, -0.018913285806775093, 0.026799239218235016, -0.02950732596218586, -0.03017893247306347, 0.018761632964015007, 0.0152627844363451, 0.025456028059124947, 0.021978842094540596, 0.049395523965358734, -0.01892411895096302, 0.007604311220347881, -0.0004959186189807951, -0.020548971369862556, 0.0029788967221975327, -0.02097143419086933, -0.025499356910586357, 0.02142639271914959, 0.00968953873962164, 0.022574622184038162, -0.00790220033377409, -0.01209973730146885, -0.027059216052293777, -0.013507942669093609, 0.003861733479425311, 0.02682090364396572, -0.035010162740945816, 0.021448057144880295, 0.017125949263572693, -0.030850538983941078, -0.014027895405888557, 0.024004492908716202, 0.004587501287460327, 0.016454342752695084, -0.02985396236181259, -0.003986305557191372, 0.015089466236531734, -0.0024183224886655807, -0.00042415427742525935, -0.03667834401130676, -0.002400720026344061, 0.015652747824788094, -0.02289959229528904, 0.02169720083475113, 0.00923999585211277, 0.0250443983823061, -0.006591486278921366, 0.010160746052861214, -0.006174440495669842, 0.0005466952570714056, -0.0019525313982740045, 0.016930965706706047, -0.01549026370048523, 0.007485155016183853, 0.00207033334299922, 0.03919145092368126, 0.008178425952792168, 0.012186395935714245, 0.000997930415906012, 0.026452602818608284, 0.02838076278567314, -0.0066618965938687325, 0.008043020963668823, -0.0007189973839558661, -0.0031982518266886473, 0.002832659985870123, 0.001479970058426261, 0.018804963678121567, 0.002127203159034252, -0.03544345498085022, -0.023246226832270622, 0.03236706927418709, -0.02066812850534916, 0.028554080054163933, -0.00735516706481576, 0.015295281074941158, -0.013746255077421665, 0.03581175580620766, -0.014677836559712887, -0.0052536907605826855, -0.016324354335665703, 0.025152720510959625, 0.02575933374464512, 0.014634507708251476, 0.03152214363217354, 0.011969748884439468, 0.013323793187737465, -0.0024616520386189222, -0.026214292272925377, 0.05732480809092522, 0.0031332578510046005, -0.014439525082707405, 0.05459505319595337, 0.025954315438866615, 0.013973734341561794, 0.004706657025963068, 0.004392518661916256, -0.02311623841524124, -0.0020351281855255365, 0.0025374784599989653, -0.028315767645835876, -0.004419599659740925, 0.0440010130405426, 0.012121401727199554, 0.014450357295572758, -0.01686597242951393, 0.05203861743211746, -0.027080880478024483, 0.032345402985811234, 0.0406213216483593, 0.025326039642095566, -0.0014731999253854156, -0.0023167692124843597, 0.02820744551718235, -0.00207033334299922, 0.001632977044209838, 0.03371027857065201, -0.008102599531412125, -0.03236706927418709, 0.03219375014305115, 0.00171286566182971, 0.0035069738514721394, 0.01187225803732872, -0.014255375601351261, 0.013421284034848213, 0.010729444213211536, 0.0012856647372245789, -0.01607521064579487, -0.022531291469931602, -0.004449388477951288, -0.025239380076527596, 0.025651009753346443, 0.0017846300033852458, 0.025694338604807854, -0.010166162624955177, 0.02870573289692402, -0.02214132808148861, 0.00870379526168108, -0.01546859834343195, -0.02656092680990696, -0.021588876843452454, 0.007604311220347881, 0.00490976357832551, -0.011763934046030045, 0.010572375729680061, -0.026214292272925377, 0.005616574548184872, -0.027427515015006065, -0.010133665055036545, 0.011828928254544735, -0.049395523965358734, -0.012045575305819511, -0.012933827936649323, -0.01772172749042511, 0.023506203666329384, 0.0044548045843839645, -0.024437787011265755, 0.004221909213811159, -0.03691665455698967, -0.010193243622779846, -0.013692093081772327, 0.011124825105071068, -0.012706348672509193, 0.018989112228155136, -0.041617896407842636, -0.019964024424552917, -0.03986305370926857, 0.008698378689587116, 0.012706348672509193, 0.01794920675456524, 0.00512099452316761, -0.0036667510867118835, -0.01986653357744217, -0.023679520934820175, -0.001404143637046218, 0.01155811920762062, 0.00030635244911536574, 0.01563108339905739, -0.009380816482007504, 0.02445945143699646, 0.004081088583916426, 0.034035250544548035, 0.0551583357155323, 0.023679520934820175, 0.020418982952833176, -0.02365785650908947, 0.014201213605701923, 0.01883745938539505, -0.0063044289126992226, -0.002632261486724019, 0.005494710523635149, -0.00019227425218559802, -0.009299574419856071, 0.023181233555078506, 0.002529354300349951, -0.023982826620340347, 0.01722344011068344, -0.0008103953441604972, 0.020548971369862556, 0.016270192340016365, 0.013887075707316399, 0.022574622184038162, -0.02432946301996708, -0.023679520934820175, -0.02138306200504303, -0.009759949520230293, -0.01780838705599308, -0.050825394690036774, 0.01633518747985363, -0.007295588962733746, -0.04774900898337364, -0.025477692484855652, -0.0004776390269398689, -0.0014908023877069354, 0.007690969854593277, 0.016400180757045746, -0.006163608282804489, -0.029658980667591095, -0.013518774881958961, 0.015912724658846855, 0.029702309519052505, 0.004687700420618057, 0.020657295361161232, -0.0068135494366288185, 0.0013770627556368709, 0.021003929898142815, -0.025066062808036804, 0.033580292016267776, -0.01776505820453167, -0.0033878181129693985, -0.0010669867042452097, 0.011904754675924778, -0.02664758637547493, -0.022466298192739487, -0.005397219210863113, 0.020104845985770226, -0.016486840322613716, 0.028467420488595963, -0.010621121153235435, -0.021480554714798927, 0.020678959786891937, 0.04306943342089653, 0.026799239218235016, -0.02057063579559326, -0.016281025484204292, 0.004842061549425125, -0.016660157591104507, -0.00037811679067090154, 0.0258893221616745, -0.013648763298988342, 0.00877420511096716, -0.00486372597515583, 0.017830051481723785]\n"
          ]
        }
      ],
      "source": [
        "query = \"AWS의 S3에서 데이터를 읽어 들이기 위한 Document loader가 있나요?\"\n",
        "\n",
        "vector = embeddings.embed_query(query)\n",
        "print(len(vector))\n",
        "print(vector)"
      ]
    },
    {
      "cell_type": "markdown",
      "metadata": {
        "id": "rgpo9ME2pM1x"
      },
      "source": [
        "### Vector store\n"
      ]
    },
    {
      "cell_type": "code",
      "execution_count": 41,
      "metadata": {
        "id": "aGD7J82BpM1x",
        "outputId": "35c18c21-49d4-43db-d24d-7a1912615c15",
        "colab": {
          "base_uri": "https://localhost:8080/"
        }
      },
      "outputs": [
        {
          "output_type": "stream",
          "name": "stdout",
          "text": [
            "Collecting langchain-chroma==0.1.4\n",
            "  Downloading langchain_chroma-0.1.4-py3-none-any.whl.metadata (1.6 kB)\n",
            "Collecting chromadb!=0.5.4,!=0.5.5,<0.6.0,>=0.4.0 (from langchain-chroma==0.1.4)\n",
            "  Downloading chromadb-0.5.23-py3-none-any.whl.metadata (6.8 kB)\n",
            "Collecting fastapi<1,>=0.95.2 (from langchain-chroma==0.1.4)\n",
            "  Downloading fastapi-0.115.12-py3-none-any.whl.metadata (27 kB)\n",
            "Requirement already satisfied: langchain-core<0.4,>=0.1.40 in /usr/local/lib/python3.11/dist-packages (from langchain-chroma==0.1.4) (0.3.51)\n",
            "Requirement already satisfied: numpy<2,>=1 in /usr/local/lib/python3.11/dist-packages (from langchain-chroma==0.1.4) (1.26.4)\n",
            "Collecting build>=1.0.3 (from chromadb!=0.5.4,!=0.5.5,<0.6.0,>=0.4.0->langchain-chroma==0.1.4)\n",
            "  Downloading build-1.2.2.post1-py3-none-any.whl.metadata (6.5 kB)\n",
            "Requirement already satisfied: pydantic>=1.9 in /usr/local/lib/python3.11/dist-packages (from chromadb!=0.5.4,!=0.5.5,<0.6.0,>=0.4.0->langchain-chroma==0.1.4) (2.9.2)\n",
            "Collecting chroma-hnswlib==0.7.6 (from chromadb!=0.5.4,!=0.5.5,<0.6.0,>=0.4.0->langchain-chroma==0.1.4)\n",
            "  Downloading chroma_hnswlib-0.7.6-cp311-cp311-manylinux_2_17_x86_64.manylinux2014_x86_64.whl.metadata (252 bytes)\n",
            "Collecting uvicorn>=0.18.3 (from uvicorn[standard]>=0.18.3->chromadb!=0.5.4,!=0.5.5,<0.6.0,>=0.4.0->langchain-chroma==0.1.4)\n",
            "  Downloading uvicorn-0.34.0-py3-none-any.whl.metadata (6.5 kB)\n",
            "Collecting posthog>=2.4.0 (from chromadb!=0.5.4,!=0.5.5,<0.6.0,>=0.4.0->langchain-chroma==0.1.4)\n",
            "  Downloading posthog-3.23.0-py2.py3-none-any.whl.metadata (3.0 kB)\n",
            "Requirement already satisfied: typing_extensions>=4.5.0 in /usr/local/lib/python3.11/dist-packages (from chromadb!=0.5.4,!=0.5.5,<0.6.0,>=0.4.0->langchain-chroma==0.1.4) (4.13.1)\n",
            "Collecting onnxruntime>=1.14.1 (from chromadb!=0.5.4,!=0.5.5,<0.6.0,>=0.4.0->langchain-chroma==0.1.4)\n",
            "  Downloading onnxruntime-1.21.0-cp311-cp311-manylinux_2_27_x86_64.manylinux_2_28_x86_64.whl.metadata (4.5 kB)\n",
            "Requirement already satisfied: opentelemetry-api>=1.2.0 in /usr/local/lib/python3.11/dist-packages (from chromadb!=0.5.4,!=0.5.5,<0.6.0,>=0.4.0->langchain-chroma==0.1.4) (1.31.1)\n",
            "Collecting opentelemetry-exporter-otlp-proto-grpc>=1.2.0 (from chromadb!=0.5.4,!=0.5.5,<0.6.0,>=0.4.0->langchain-chroma==0.1.4)\n",
            "  Downloading opentelemetry_exporter_otlp_proto_grpc-1.31.1-py3-none-any.whl.metadata (2.5 kB)\n",
            "Collecting opentelemetry-instrumentation-fastapi>=0.41b0 (from chromadb!=0.5.4,!=0.5.5,<0.6.0,>=0.4.0->langchain-chroma==0.1.4)\n",
            "  Downloading opentelemetry_instrumentation_fastapi-0.52b1-py3-none-any.whl.metadata (2.2 kB)\n",
            "Requirement already satisfied: opentelemetry-sdk>=1.2.0 in /usr/local/lib/python3.11/dist-packages (from chromadb!=0.5.4,!=0.5.5,<0.6.0,>=0.4.0->langchain-chroma==0.1.4) (1.31.1)\n",
            "Collecting tokenizers<=0.20.3,>=0.13.2 (from chromadb!=0.5.4,!=0.5.5,<0.6.0,>=0.4.0->langchain-chroma==0.1.4)\n",
            "  Downloading tokenizers-0.20.3-cp311-cp311-manylinux_2_17_x86_64.manylinux2014_x86_64.whl.metadata (6.7 kB)\n",
            "Collecting pypika>=0.48.9 (from chromadb!=0.5.4,!=0.5.5,<0.6.0,>=0.4.0->langchain-chroma==0.1.4)\n",
            "  Downloading PyPika-0.48.9.tar.gz (67 kB)\n",
            "\u001b[2K     \u001b[90m━━━━━━━━━━━━━━━━━━━━━━━━━━━━━━━━━━━━━━━━\u001b[0m \u001b[32m67.3/67.3 kB\u001b[0m \u001b[31m5.6 MB/s\u001b[0m eta \u001b[36m0:00:00\u001b[0m\n",
            "\u001b[?25h  Installing build dependencies ... \u001b[?25l\u001b[?25hdone\n",
            "  Getting requirements to build wheel ... \u001b[?25l\u001b[?25hdone\n",
            "  Preparing metadata (pyproject.toml) ... \u001b[?25l\u001b[?25hdone\n",
            "Requirement already satisfied: tqdm>=4.65.0 in /usr/local/lib/python3.11/dist-packages (from chromadb!=0.5.4,!=0.5.5,<0.6.0,>=0.4.0->langchain-chroma==0.1.4) (4.67.1)\n",
            "Collecting overrides>=7.3.1 (from chromadb!=0.5.4,!=0.5.5,<0.6.0,>=0.4.0->langchain-chroma==0.1.4)\n",
            "  Downloading overrides-7.7.0-py3-none-any.whl.metadata (5.8 kB)\n",
            "Requirement already satisfied: importlib-resources in /usr/local/lib/python3.11/dist-packages (from chromadb!=0.5.4,!=0.5.5,<0.6.0,>=0.4.0->langchain-chroma==0.1.4) (6.5.2)\n",
            "Requirement already satisfied: grpcio>=1.58.0 in /usr/local/lib/python3.11/dist-packages (from chromadb!=0.5.4,!=0.5.5,<0.6.0,>=0.4.0->langchain-chroma==0.1.4) (1.71.0)\n",
            "Collecting bcrypt>=4.0.1 (from chromadb!=0.5.4,!=0.5.5,<0.6.0,>=0.4.0->langchain-chroma==0.1.4)\n",
            "  Downloading bcrypt-4.3.0-cp39-abi3-manylinux_2_34_x86_64.whl.metadata (10 kB)\n",
            "Requirement already satisfied: typer>=0.9.0 in /usr/local/lib/python3.11/dist-packages (from chromadb!=0.5.4,!=0.5.5,<0.6.0,>=0.4.0->langchain-chroma==0.1.4) (0.15.2)\n",
            "Collecting kubernetes>=28.1.0 (from chromadb!=0.5.4,!=0.5.5,<0.6.0,>=0.4.0->langchain-chroma==0.1.4)\n",
            "  Downloading kubernetes-32.0.1-py2.py3-none-any.whl.metadata (1.7 kB)\n",
            "Requirement already satisfied: tenacity>=8.2.3 in /usr/local/lib/python3.11/dist-packages (from chromadb!=0.5.4,!=0.5.5,<0.6.0,>=0.4.0->langchain-chroma==0.1.4) (8.5.0)\n",
            "Requirement already satisfied: PyYAML>=6.0.0 in /usr/local/lib/python3.11/dist-packages (from chromadb!=0.5.4,!=0.5.5,<0.6.0,>=0.4.0->langchain-chroma==0.1.4) (6.0.2)\n",
            "Collecting mmh3>=4.0.1 (from chromadb!=0.5.4,!=0.5.5,<0.6.0,>=0.4.0->langchain-chroma==0.1.4)\n",
            "  Downloading mmh3-5.1.0-cp311-cp311-manylinux_2_5_x86_64.manylinux1_x86_64.manylinux_2_17_x86_64.manylinux2014_x86_64.whl.metadata (16 kB)\n",
            "Requirement already satisfied: orjson>=3.9.12 in /usr/local/lib/python3.11/dist-packages (from chromadb!=0.5.4,!=0.5.5,<0.6.0,>=0.4.0->langchain-chroma==0.1.4) (3.10.16)\n",
            "Requirement already satisfied: httpx>=0.27.0 in /usr/local/lib/python3.11/dist-packages (from chromadb!=0.5.4,!=0.5.5,<0.6.0,>=0.4.0->langchain-chroma==0.1.4) (0.28.1)\n",
            "Requirement already satisfied: rich>=10.11.0 in /usr/local/lib/python3.11/dist-packages (from chromadb!=0.5.4,!=0.5.5,<0.6.0,>=0.4.0->langchain-chroma==0.1.4) (13.9.4)\n",
            "Collecting starlette<0.47.0,>=0.40.0 (from fastapi<1,>=0.95.2->langchain-chroma==0.1.4)\n",
            "  Downloading starlette-0.46.1-py3-none-any.whl.metadata (6.2 kB)\n",
            "Requirement already satisfied: langsmith<0.4,>=0.1.125 in /usr/local/lib/python3.11/dist-packages (from langchain-core<0.4,>=0.1.40->langchain-chroma==0.1.4) (0.1.147)\n",
            "Requirement already satisfied: jsonpatch<2.0,>=1.33 in /usr/local/lib/python3.11/dist-packages (from langchain-core<0.4,>=0.1.40->langchain-chroma==0.1.4) (1.33)\n",
            "Requirement already satisfied: packaging<25,>=23.2 in /usr/local/lib/python3.11/dist-packages (from langchain-core<0.4,>=0.1.40->langchain-chroma==0.1.4) (24.2)\n",
            "Collecting pyproject_hooks (from build>=1.0.3->chromadb!=0.5.4,!=0.5.5,<0.6.0,>=0.4.0->langchain-chroma==0.1.4)\n",
            "  Downloading pyproject_hooks-1.2.0-py3-none-any.whl.metadata (1.3 kB)\n",
            "Requirement already satisfied: anyio in /usr/local/lib/python3.11/dist-packages (from httpx>=0.27.0->chromadb!=0.5.4,!=0.5.5,<0.6.0,>=0.4.0->langchain-chroma==0.1.4) (4.9.0)\n",
            "Requirement already satisfied: certifi in /usr/local/lib/python3.11/dist-packages (from httpx>=0.27.0->chromadb!=0.5.4,!=0.5.5,<0.6.0,>=0.4.0->langchain-chroma==0.1.4) (2025.1.31)\n",
            "Requirement already satisfied: httpcore==1.* in /usr/local/lib/python3.11/dist-packages (from httpx>=0.27.0->chromadb!=0.5.4,!=0.5.5,<0.6.0,>=0.4.0->langchain-chroma==0.1.4) (1.0.7)\n",
            "Requirement already satisfied: idna in /usr/local/lib/python3.11/dist-packages (from httpx>=0.27.0->chromadb!=0.5.4,!=0.5.5,<0.6.0,>=0.4.0->langchain-chroma==0.1.4) (3.10)\n",
            "Requirement already satisfied: h11<0.15,>=0.13 in /usr/local/lib/python3.11/dist-packages (from httpcore==1.*->httpx>=0.27.0->chromadb!=0.5.4,!=0.5.5,<0.6.0,>=0.4.0->langchain-chroma==0.1.4) (0.14.0)\n",
            "Requirement already satisfied: jsonpointer>=1.9 in /usr/local/lib/python3.11/dist-packages (from jsonpatch<2.0,>=1.33->langchain-core<0.4,>=0.1.40->langchain-chroma==0.1.4) (3.0.0)\n",
            "Requirement already satisfied: six>=1.9.0 in /usr/local/lib/python3.11/dist-packages (from kubernetes>=28.1.0->chromadb!=0.5.4,!=0.5.5,<0.6.0,>=0.4.0->langchain-chroma==0.1.4) (1.17.0)\n",
            "Requirement already satisfied: python-dateutil>=2.5.3 in /usr/local/lib/python3.11/dist-packages (from kubernetes>=28.1.0->chromadb!=0.5.4,!=0.5.5,<0.6.0,>=0.4.0->langchain-chroma==0.1.4) (2.8.2)\n",
            "Requirement already satisfied: google-auth>=1.0.1 in /usr/local/lib/python3.11/dist-packages (from kubernetes>=28.1.0->chromadb!=0.5.4,!=0.5.5,<0.6.0,>=0.4.0->langchain-chroma==0.1.4) (2.38.0)\n",
            "Requirement already satisfied: websocket-client!=0.40.0,!=0.41.*,!=0.42.*,>=0.32.0 in /usr/local/lib/python3.11/dist-packages (from kubernetes>=28.1.0->chromadb!=0.5.4,!=0.5.5,<0.6.0,>=0.4.0->langchain-chroma==0.1.4) (1.8.0)\n",
            "Requirement already satisfied: requests in /usr/local/lib/python3.11/dist-packages (from kubernetes>=28.1.0->chromadb!=0.5.4,!=0.5.5,<0.6.0,>=0.4.0->langchain-chroma==0.1.4) (2.32.3)\n",
            "Requirement already satisfied: requests-oauthlib in /usr/local/lib/python3.11/dist-packages (from kubernetes>=28.1.0->chromadb!=0.5.4,!=0.5.5,<0.6.0,>=0.4.0->langchain-chroma==0.1.4) (2.0.0)\n",
            "Requirement already satisfied: oauthlib>=3.2.2 in /usr/local/lib/python3.11/dist-packages (from kubernetes>=28.1.0->chromadb!=0.5.4,!=0.5.5,<0.6.0,>=0.4.0->langchain-chroma==0.1.4) (3.2.2)\n",
            "Requirement already satisfied: urllib3>=1.24.2 in /usr/local/lib/python3.11/dist-packages (from kubernetes>=28.1.0->chromadb!=0.5.4,!=0.5.5,<0.6.0,>=0.4.0->langchain-chroma==0.1.4) (2.3.0)\n",
            "Collecting durationpy>=0.7 (from kubernetes>=28.1.0->chromadb!=0.5.4,!=0.5.5,<0.6.0,>=0.4.0->langchain-chroma==0.1.4)\n",
            "  Downloading durationpy-0.9-py3-none-any.whl.metadata (338 bytes)\n",
            "Requirement already satisfied: requests-toolbelt<2.0.0,>=1.0.0 in /usr/local/lib/python3.11/dist-packages (from langsmith<0.4,>=0.1.125->langchain-core<0.4,>=0.1.40->langchain-chroma==0.1.4) (1.0.0)\n",
            "Collecting coloredlogs (from onnxruntime>=1.14.1->chromadb!=0.5.4,!=0.5.5,<0.6.0,>=0.4.0->langchain-chroma==0.1.4)\n",
            "  Downloading coloredlogs-15.0.1-py2.py3-none-any.whl.metadata (12 kB)\n",
            "Requirement already satisfied: flatbuffers in /usr/local/lib/python3.11/dist-packages (from onnxruntime>=1.14.1->chromadb!=0.5.4,!=0.5.5,<0.6.0,>=0.4.0->langchain-chroma==0.1.4) (25.2.10)\n",
            "Requirement already satisfied: protobuf in /usr/local/lib/python3.11/dist-packages (from onnxruntime>=1.14.1->chromadb!=0.5.4,!=0.5.5,<0.6.0,>=0.4.0->langchain-chroma==0.1.4) (5.29.4)\n",
            "Requirement already satisfied: sympy in /usr/local/lib/python3.11/dist-packages (from onnxruntime>=1.14.1->chromadb!=0.5.4,!=0.5.5,<0.6.0,>=0.4.0->langchain-chroma==0.1.4) (1.13.1)\n",
            "Requirement already satisfied: deprecated>=1.2.6 in /usr/local/lib/python3.11/dist-packages (from opentelemetry-api>=1.2.0->chromadb!=0.5.4,!=0.5.5,<0.6.0,>=0.4.0->langchain-chroma==0.1.4) (1.2.18)\n",
            "Requirement already satisfied: importlib-metadata<8.7.0,>=6.0 in /usr/local/lib/python3.11/dist-packages (from opentelemetry-api>=1.2.0->chromadb!=0.5.4,!=0.5.5,<0.6.0,>=0.4.0->langchain-chroma==0.1.4) (8.6.1)\n",
            "Requirement already satisfied: googleapis-common-protos~=1.52 in /usr/local/lib/python3.11/dist-packages (from opentelemetry-exporter-otlp-proto-grpc>=1.2.0->chromadb!=0.5.4,!=0.5.5,<0.6.0,>=0.4.0->langchain-chroma==0.1.4) (1.69.2)\n",
            "Collecting opentelemetry-exporter-otlp-proto-common==1.31.1 (from opentelemetry-exporter-otlp-proto-grpc>=1.2.0->chromadb!=0.5.4,!=0.5.5,<0.6.0,>=0.4.0->langchain-chroma==0.1.4)\n",
            "  Downloading opentelemetry_exporter_otlp_proto_common-1.31.1-py3-none-any.whl.metadata (1.9 kB)\n",
            "Collecting opentelemetry-proto==1.31.1 (from opentelemetry-exporter-otlp-proto-grpc>=1.2.0->chromadb!=0.5.4,!=0.5.5,<0.6.0,>=0.4.0->langchain-chroma==0.1.4)\n",
            "  Downloading opentelemetry_proto-1.31.1-py3-none-any.whl.metadata (2.4 kB)\n",
            "Collecting opentelemetry-instrumentation-asgi==0.52b1 (from opentelemetry-instrumentation-fastapi>=0.41b0->chromadb!=0.5.4,!=0.5.5,<0.6.0,>=0.4.0->langchain-chroma==0.1.4)\n",
            "  Downloading opentelemetry_instrumentation_asgi-0.52b1-py3-none-any.whl.metadata (2.1 kB)\n",
            "Collecting opentelemetry-instrumentation==0.52b1 (from opentelemetry-instrumentation-fastapi>=0.41b0->chromadb!=0.5.4,!=0.5.5,<0.6.0,>=0.4.0->langchain-chroma==0.1.4)\n",
            "  Downloading opentelemetry_instrumentation-0.52b1-py3-none-any.whl.metadata (6.8 kB)\n",
            "Requirement already satisfied: opentelemetry-semantic-conventions==0.52b1 in /usr/local/lib/python3.11/dist-packages (from opentelemetry-instrumentation-fastapi>=0.41b0->chromadb!=0.5.4,!=0.5.5,<0.6.0,>=0.4.0->langchain-chroma==0.1.4) (0.52b1)\n",
            "Collecting opentelemetry-util-http==0.52b1 (from opentelemetry-instrumentation-fastapi>=0.41b0->chromadb!=0.5.4,!=0.5.5,<0.6.0,>=0.4.0->langchain-chroma==0.1.4)\n",
            "  Downloading opentelemetry_util_http-0.52b1-py3-none-any.whl.metadata (2.6 kB)\n",
            "Requirement already satisfied: wrapt<2.0.0,>=1.0.0 in /usr/local/lib/python3.11/dist-packages (from opentelemetry-instrumentation==0.52b1->opentelemetry-instrumentation-fastapi>=0.41b0->chromadb!=0.5.4,!=0.5.5,<0.6.0,>=0.4.0->langchain-chroma==0.1.4) (1.17.2)\n",
            "Collecting asgiref~=3.0 (from opentelemetry-instrumentation-asgi==0.52b1->opentelemetry-instrumentation-fastapi>=0.41b0->chromadb!=0.5.4,!=0.5.5,<0.6.0,>=0.4.0->langchain-chroma==0.1.4)\n",
            "  Downloading asgiref-3.8.1-py3-none-any.whl.metadata (9.3 kB)\n",
            "Collecting monotonic>=1.5 (from posthog>=2.4.0->chromadb!=0.5.4,!=0.5.5,<0.6.0,>=0.4.0->langchain-chroma==0.1.4)\n",
            "  Downloading monotonic-1.6-py2.py3-none-any.whl.metadata (1.5 kB)\n",
            "Collecting backoff>=1.10.0 (from posthog>=2.4.0->chromadb!=0.5.4,!=0.5.5,<0.6.0,>=0.4.0->langchain-chroma==0.1.4)\n",
            "  Downloading backoff-2.2.1-py3-none-any.whl.metadata (14 kB)\n",
            "Requirement already satisfied: distro>=1.5.0 in /usr/local/lib/python3.11/dist-packages (from posthog>=2.4.0->chromadb!=0.5.4,!=0.5.5,<0.6.0,>=0.4.0->langchain-chroma==0.1.4) (1.9.0)\n",
            "Requirement already satisfied: annotated-types>=0.6.0 in /usr/local/lib/python3.11/dist-packages (from pydantic>=1.9->chromadb!=0.5.4,!=0.5.5,<0.6.0,>=0.4.0->langchain-chroma==0.1.4) (0.7.0)\n",
            "Requirement already satisfied: pydantic-core==2.23.4 in /usr/local/lib/python3.11/dist-packages (from pydantic>=1.9->chromadb!=0.5.4,!=0.5.5,<0.6.0,>=0.4.0->langchain-chroma==0.1.4) (2.23.4)\n",
            "Requirement already satisfied: markdown-it-py>=2.2.0 in /usr/local/lib/python3.11/dist-packages (from rich>=10.11.0->chromadb!=0.5.4,!=0.5.5,<0.6.0,>=0.4.0->langchain-chroma==0.1.4) (3.0.0)\n",
            "Requirement already satisfied: pygments<3.0.0,>=2.13.0 in /usr/local/lib/python3.11/dist-packages (from rich>=10.11.0->chromadb!=0.5.4,!=0.5.5,<0.6.0,>=0.4.0->langchain-chroma==0.1.4) (2.18.0)\n",
            "Requirement already satisfied: huggingface-hub<1.0,>=0.16.4 in /usr/local/lib/python3.11/dist-packages (from tokenizers<=0.20.3,>=0.13.2->chromadb!=0.5.4,!=0.5.5,<0.6.0,>=0.4.0->langchain-chroma==0.1.4) (0.30.1)\n",
            "Requirement already satisfied: click>=8.0.0 in /usr/local/lib/python3.11/dist-packages (from typer>=0.9.0->chromadb!=0.5.4,!=0.5.5,<0.6.0,>=0.4.0->langchain-chroma==0.1.4) (8.1.8)\n",
            "Requirement already satisfied: shellingham>=1.3.0 in /usr/local/lib/python3.11/dist-packages (from typer>=0.9.0->chromadb!=0.5.4,!=0.5.5,<0.6.0,>=0.4.0->langchain-chroma==0.1.4) (1.5.4)\n",
            "Collecting httptools>=0.6.3 (from uvicorn[standard]>=0.18.3->chromadb!=0.5.4,!=0.5.5,<0.6.0,>=0.4.0->langchain-chroma==0.1.4)\n",
            "  Downloading httptools-0.6.4-cp311-cp311-manylinux_2_5_x86_64.manylinux1_x86_64.manylinux_2_17_x86_64.manylinux2014_x86_64.whl.metadata (3.6 kB)\n",
            "Requirement already satisfied: python-dotenv>=0.13 in /usr/local/lib/python3.11/dist-packages (from uvicorn[standard]>=0.18.3->chromadb!=0.5.4,!=0.5.5,<0.6.0,>=0.4.0->langchain-chroma==0.1.4) (1.1.0)\n",
            "Collecting uvloop!=0.15.0,!=0.15.1,>=0.14.0 (from uvicorn[standard]>=0.18.3->chromadb!=0.5.4,!=0.5.5,<0.6.0,>=0.4.0->langchain-chroma==0.1.4)\n",
            "  Downloading uvloop-0.21.0-cp311-cp311-manylinux_2_17_x86_64.manylinux2014_x86_64.whl.metadata (4.9 kB)\n",
            "Collecting watchfiles>=0.13 (from uvicorn[standard]>=0.18.3->chromadb!=0.5.4,!=0.5.5,<0.6.0,>=0.4.0->langchain-chroma==0.1.4)\n",
            "  Downloading watchfiles-1.0.5-cp311-cp311-manylinux_2_17_x86_64.manylinux2014_x86_64.whl.metadata (4.9 kB)\n",
            "Requirement already satisfied: websockets>=10.4 in /usr/local/lib/python3.11/dist-packages (from uvicorn[standard]>=0.18.3->chromadb!=0.5.4,!=0.5.5,<0.6.0,>=0.4.0->langchain-chroma==0.1.4) (15.0.1)\n",
            "Requirement already satisfied: sniffio>=1.1 in /usr/local/lib/python3.11/dist-packages (from anyio->httpx>=0.27.0->chromadb!=0.5.4,!=0.5.5,<0.6.0,>=0.4.0->langchain-chroma==0.1.4) (1.3.1)\n",
            "Requirement already satisfied: cachetools<6.0,>=2.0.0 in /usr/local/lib/python3.11/dist-packages (from google-auth>=1.0.1->kubernetes>=28.1.0->chromadb!=0.5.4,!=0.5.5,<0.6.0,>=0.4.0->langchain-chroma==0.1.4) (5.5.2)\n",
            "Requirement already satisfied: pyasn1-modules>=0.2.1 in /usr/local/lib/python3.11/dist-packages (from google-auth>=1.0.1->kubernetes>=28.1.0->chromadb!=0.5.4,!=0.5.5,<0.6.0,>=0.4.0->langchain-chroma==0.1.4) (0.4.2)\n",
            "Requirement already satisfied: rsa<5,>=3.1.4 in /usr/local/lib/python3.11/dist-packages (from google-auth>=1.0.1->kubernetes>=28.1.0->chromadb!=0.5.4,!=0.5.5,<0.6.0,>=0.4.0->langchain-chroma==0.1.4) (4.9)\n",
            "Requirement already satisfied: filelock in /usr/local/lib/python3.11/dist-packages (from huggingface-hub<1.0,>=0.16.4->tokenizers<=0.20.3,>=0.13.2->chromadb!=0.5.4,!=0.5.5,<0.6.0,>=0.4.0->langchain-chroma==0.1.4) (3.18.0)\n",
            "Requirement already satisfied: fsspec>=2023.5.0 in /usr/local/lib/python3.11/dist-packages (from huggingface-hub<1.0,>=0.16.4->tokenizers<=0.20.3,>=0.13.2->chromadb!=0.5.4,!=0.5.5,<0.6.0,>=0.4.0->langchain-chroma==0.1.4) (2025.3.2)\n",
            "Requirement already satisfied: zipp>=3.20 in /usr/local/lib/python3.11/dist-packages (from importlib-metadata<8.7.0,>=6.0->opentelemetry-api>=1.2.0->chromadb!=0.5.4,!=0.5.5,<0.6.0,>=0.4.0->langchain-chroma==0.1.4) (3.21.0)\n",
            "Requirement already satisfied: mdurl~=0.1 in /usr/local/lib/python3.11/dist-packages (from markdown-it-py>=2.2.0->rich>=10.11.0->chromadb!=0.5.4,!=0.5.5,<0.6.0,>=0.4.0->langchain-chroma==0.1.4) (0.1.2)\n",
            "Requirement already satisfied: charset-normalizer<4,>=2 in /usr/local/lib/python3.11/dist-packages (from requests->kubernetes>=28.1.0->chromadb!=0.5.4,!=0.5.5,<0.6.0,>=0.4.0->langchain-chroma==0.1.4) (3.4.1)\n",
            "Collecting humanfriendly>=9.1 (from coloredlogs->onnxruntime>=1.14.1->chromadb!=0.5.4,!=0.5.5,<0.6.0,>=0.4.0->langchain-chroma==0.1.4)\n",
            "  Downloading humanfriendly-10.0-py2.py3-none-any.whl.metadata (9.2 kB)\n",
            "Requirement already satisfied: mpmath<1.4,>=1.1.0 in /usr/local/lib/python3.11/dist-packages (from sympy->onnxruntime>=1.14.1->chromadb!=0.5.4,!=0.5.5,<0.6.0,>=0.4.0->langchain-chroma==0.1.4) (1.3.0)\n",
            "Requirement already satisfied: pyasn1<0.7.0,>=0.6.1 in /usr/local/lib/python3.11/dist-packages (from pyasn1-modules>=0.2.1->google-auth>=1.0.1->kubernetes>=28.1.0->chromadb!=0.5.4,!=0.5.5,<0.6.0,>=0.4.0->langchain-chroma==0.1.4) (0.6.1)\n",
            "Downloading langchain_chroma-0.1.4-py3-none-any.whl (10 kB)\n",
            "Downloading chromadb-0.5.23-py3-none-any.whl (628 kB)\n",
            "\u001b[2K   \u001b[90m━━━━━━━━━━━━━━━━━━━━━━━━━━━━━━━━━━━━━━━━\u001b[0m \u001b[32m628.3/628.3 kB\u001b[0m \u001b[31m33.0 MB/s\u001b[0m eta \u001b[36m0:00:00\u001b[0m\n",
            "\u001b[?25hDownloading chroma_hnswlib-0.7.6-cp311-cp311-manylinux_2_17_x86_64.manylinux2014_x86_64.whl (2.4 MB)\n",
            "\u001b[2K   \u001b[90m━━━━━━━━━━━━━━━━━━━━━━━━━━━━━━━━━━━━━━━━\u001b[0m \u001b[32m2.4/2.4 MB\u001b[0m \u001b[31m75.9 MB/s\u001b[0m eta \u001b[36m0:00:00\u001b[0m\n",
            "\u001b[?25hDownloading fastapi-0.115.12-py3-none-any.whl (95 kB)\n",
            "\u001b[2K   \u001b[90m━━━━━━━━━━━━━━━━━━━━━━━━━━━━━━━━━━━━━━━━\u001b[0m \u001b[32m95.2/95.2 kB\u001b[0m \u001b[31m7.7 MB/s\u001b[0m eta \u001b[36m0:00:00\u001b[0m\n",
            "\u001b[?25hDownloading bcrypt-4.3.0-cp39-abi3-manylinux_2_34_x86_64.whl (284 kB)\n",
            "\u001b[2K   \u001b[90m━━━━━━━━━━━━━━━━━━━━━━━━━━━━━━━━━━━━━━━━\u001b[0m \u001b[32m284.2/284.2 kB\u001b[0m \u001b[31m21.3 MB/s\u001b[0m eta \u001b[36m0:00:00\u001b[0m\n",
            "\u001b[?25hDownloading build-1.2.2.post1-py3-none-any.whl (22 kB)\n",
            "Downloading kubernetes-32.0.1-py2.py3-none-any.whl (2.0 MB)\n",
            "\u001b[2K   \u001b[90m━━━━━━━━━━━━━━━━━━━━━━━━━━━━━━━━━━━━━━━━\u001b[0m \u001b[32m2.0/2.0 MB\u001b[0m \u001b[31m70.4 MB/s\u001b[0m eta \u001b[36m0:00:00\u001b[0m\n",
            "\u001b[?25hDownloading mmh3-5.1.0-cp311-cp311-manylinux_2_5_x86_64.manylinux1_x86_64.manylinux_2_17_x86_64.manylinux2014_x86_64.whl (101 kB)\n",
            "\u001b[2K   \u001b[90m━━━━━━━━━━━━━━━━━━━━━━━━━━━━━━━━━━━━━━━━\u001b[0m \u001b[32m101.6/101.6 kB\u001b[0m \u001b[31m6.4 MB/s\u001b[0m eta \u001b[36m0:00:00\u001b[0m\n",
            "\u001b[?25hDownloading onnxruntime-1.21.0-cp311-cp311-manylinux_2_27_x86_64.manylinux_2_28_x86_64.whl (16.0 MB)\n",
            "\u001b[2K   \u001b[90m━━━━━━━━━━━━━━━━━━━━━━━━━━━━━━━━━━━━━━━━\u001b[0m \u001b[32m16.0/16.0 MB\u001b[0m \u001b[31m85.1 MB/s\u001b[0m eta \u001b[36m0:00:00\u001b[0m\n",
            "\u001b[?25hDownloading opentelemetry_exporter_otlp_proto_grpc-1.31.1-py3-none-any.whl (18 kB)\n",
            "Downloading opentelemetry_exporter_otlp_proto_common-1.31.1-py3-none-any.whl (18 kB)\n",
            "Downloading opentelemetry_proto-1.31.1-py3-none-any.whl (55 kB)\n",
            "\u001b[2K   \u001b[90m━━━━━━━━━━━━━━━━━━━━━━━━━━━━━━━━━━━━━━━━\u001b[0m \u001b[32m55.9/55.9 kB\u001b[0m \u001b[31m4.2 MB/s\u001b[0m eta \u001b[36m0:00:00\u001b[0m\n",
            "\u001b[?25hDownloading opentelemetry_instrumentation_fastapi-0.52b1-py3-none-any.whl (12 kB)\n",
            "Downloading opentelemetry_instrumentation-0.52b1-py3-none-any.whl (31 kB)\n",
            "Downloading opentelemetry_instrumentation_asgi-0.52b1-py3-none-any.whl (16 kB)\n",
            "Downloading opentelemetry_util_http-0.52b1-py3-none-any.whl (7.3 kB)\n",
            "Downloading overrides-7.7.0-py3-none-any.whl (17 kB)\n",
            "Downloading posthog-3.23.0-py2.py3-none-any.whl (84 kB)\n",
            "\u001b[2K   \u001b[90m━━━━━━━━━━━━━━━━━━━━━━━━━━━━━━━━━━━━━━━━\u001b[0m \u001b[32m85.0/85.0 kB\u001b[0m \u001b[31m7.0 MB/s\u001b[0m eta \u001b[36m0:00:00\u001b[0m\n",
            "\u001b[?25hDownloading starlette-0.46.1-py3-none-any.whl (71 kB)\n",
            "\u001b[2K   \u001b[90m━━━━━━━━━━━━━━━━━━━━━━━━━━━━━━━━━━━━━━━━\u001b[0m \u001b[32m72.0/72.0 kB\u001b[0m \u001b[31m6.0 MB/s\u001b[0m eta \u001b[36m0:00:00\u001b[0m\n",
            "\u001b[?25hDownloading tokenizers-0.20.3-cp311-cp311-manylinux_2_17_x86_64.manylinux2014_x86_64.whl (3.0 MB)\n",
            "\u001b[2K   \u001b[90m━━━━━━━━━━━━━━━━━━━━━━━━━━━━━━━━━━━━━━━━\u001b[0m \u001b[32m3.0/3.0 MB\u001b[0m \u001b[31m79.1 MB/s\u001b[0m eta \u001b[36m0:00:00\u001b[0m\n",
            "\u001b[?25hDownloading uvicorn-0.34.0-py3-none-any.whl (62 kB)\n",
            "\u001b[2K   \u001b[90m━━━━━━━━━━━━━━━━━━━━━━━━━━━━━━━━━━━━━━━━\u001b[0m \u001b[32m62.3/62.3 kB\u001b[0m \u001b[31m4.9 MB/s\u001b[0m eta \u001b[36m0:00:00\u001b[0m\n",
            "\u001b[?25hDownloading backoff-2.2.1-py3-none-any.whl (15 kB)\n",
            "Downloading durationpy-0.9-py3-none-any.whl (3.5 kB)\n",
            "Downloading httptools-0.6.4-cp311-cp311-manylinux_2_5_x86_64.manylinux1_x86_64.manylinux_2_17_x86_64.manylinux2014_x86_64.whl (459 kB)\n",
            "\u001b[2K   \u001b[90m━━━━━━━━━━━━━━━━━━━━━━━━━━━━━━━━━━━━━━━━\u001b[0m \u001b[32m459.8/459.8 kB\u001b[0m \u001b[31m26.8 MB/s\u001b[0m eta \u001b[36m0:00:00\u001b[0m\n",
            "\u001b[?25hDownloading monotonic-1.6-py2.py3-none-any.whl (8.2 kB)\n",
            "Downloading uvloop-0.21.0-cp311-cp311-manylinux_2_17_x86_64.manylinux2014_x86_64.whl (4.0 MB)\n",
            "\u001b[2K   \u001b[90m━━━━━━━━━━━━━━━━━━━━━━━━━━━━━━━━━━━━━━━━\u001b[0m \u001b[32m4.0/4.0 MB\u001b[0m \u001b[31m75.0 MB/s\u001b[0m eta \u001b[36m0:00:00\u001b[0m\n",
            "\u001b[?25hDownloading watchfiles-1.0.5-cp311-cp311-manylinux_2_17_x86_64.manylinux2014_x86_64.whl (454 kB)\n",
            "\u001b[2K   \u001b[90m━━━━━━━━━━━━━━━━━━━━━━━━━━━━━━━━━━━━━━━━\u001b[0m \u001b[32m454.8/454.8 kB\u001b[0m \u001b[31m32.2 MB/s\u001b[0m eta \u001b[36m0:00:00\u001b[0m\n",
            "\u001b[?25hDownloading coloredlogs-15.0.1-py2.py3-none-any.whl (46 kB)\n",
            "\u001b[2K   \u001b[90m━━━━━━━━━━━━━━━━━━━━━━━━━━━━━━━━━━━━━━━━\u001b[0m \u001b[32m46.0/46.0 kB\u001b[0m \u001b[31m3.7 MB/s\u001b[0m eta \u001b[36m0:00:00\u001b[0m\n",
            "\u001b[?25hDownloading pyproject_hooks-1.2.0-py3-none-any.whl (10 kB)\n",
            "Downloading asgiref-3.8.1-py3-none-any.whl (23 kB)\n",
            "Downloading humanfriendly-10.0-py2.py3-none-any.whl (86 kB)\n",
            "\u001b[2K   \u001b[90m━━━━━━━━━━━━━━━━━━━━━━━━━━━━━━━━━━━━━━━━\u001b[0m \u001b[32m86.8/86.8 kB\u001b[0m \u001b[31m7.3 MB/s\u001b[0m eta \u001b[36m0:00:00\u001b[0m\n",
            "\u001b[?25hBuilding wheels for collected packages: pypika\n",
            "  Building wheel for pypika (pyproject.toml) ... \u001b[?25l\u001b[?25hdone\n",
            "  Created wheel for pypika: filename=pypika-0.48.9-py2.py3-none-any.whl size=53800 sha256=6a90806644ea8e267c5d90666de668efd23b227e0e2e3ce6b17069643cd770d2\n",
            "  Stored in directory: /root/.cache/pip/wheels/a3/01/bd/4c40ceb9d5354160cb186dcc153360f4ab7eb23e2b24daf96d\n",
            "Successfully built pypika\n",
            "Installing collected packages: pypika, monotonic, durationpy, uvloop, uvicorn, pyproject_hooks, overrides, opentelemetry-util-http, opentelemetry-proto, mmh3, humanfriendly, httptools, chroma-hnswlib, bcrypt, backoff, asgiref, watchfiles, starlette, posthog, opentelemetry-exporter-otlp-proto-common, coloredlogs, build, tokenizers, onnxruntime, kubernetes, fastapi, opentelemetry-instrumentation, opentelemetry-instrumentation-asgi, opentelemetry-exporter-otlp-proto-grpc, opentelemetry-instrumentation-fastapi, chromadb, langchain-chroma\n",
            "  Attempting uninstall: tokenizers\n",
            "    Found existing installation: tokenizers 0.21.1\n",
            "    Uninstalling tokenizers-0.21.1:\n",
            "      Successfully uninstalled tokenizers-0.21.1\n",
            "\u001b[31mERROR: pip's dependency resolver does not currently take into account all the packages that are installed. This behaviour is the source of the following dependency conflicts.\n",
            "transformers 4.50.3 requires tokenizers<0.22,>=0.21, but you have tokenizers 0.20.3 which is incompatible.\u001b[0m\u001b[31m\n",
            "\u001b[0mSuccessfully installed asgiref-3.8.1 backoff-2.2.1 bcrypt-4.3.0 build-1.2.2.post1 chroma-hnswlib-0.7.6 chromadb-0.5.23 coloredlogs-15.0.1 durationpy-0.9 fastapi-0.115.12 httptools-0.6.4 humanfriendly-10.0 kubernetes-32.0.1 langchain-chroma-0.1.4 mmh3-5.1.0 monotonic-1.6 onnxruntime-1.21.0 opentelemetry-exporter-otlp-proto-common-1.31.1 opentelemetry-exporter-otlp-proto-grpc-1.31.1 opentelemetry-instrumentation-0.52b1 opentelemetry-instrumentation-asgi-0.52b1 opentelemetry-instrumentation-fastapi-0.52b1 opentelemetry-proto-1.31.1 opentelemetry-util-http-0.52b1 overrides-7.7.0 posthog-3.23.0 pypika-0.48.9 pyproject_hooks-1.2.0 starlette-0.46.1 tokenizers-0.20.3 uvicorn-0.34.0 uvloop-0.21.0 watchfiles-1.0.5\n"
          ]
        }
      ],
      "source": [
        "!pip install langchain-chroma==0.1.4"
      ]
    },
    {
      "cell_type": "code",
      "execution_count": 42,
      "metadata": {
        "id": "zcR05QYXpM1x"
      },
      "outputs": [],
      "source": [
        "from langchain_chroma import Chroma\n",
        "\n",
        "db = Chroma.from_documents(docs, embeddings)"
      ]
    },
    {
      "cell_type": "code",
      "execution_count": 43,
      "metadata": {
        "id": "v2yM8CxypM1x"
      },
      "outputs": [],
      "source": [
        "retriever = db.as_retriever()"
      ]
    },
    {
      "cell_type": "code",
      "execution_count": 44,
      "metadata": {
        "id": "6ZmAkR95pM1x",
        "outputId": "9d6640a7-6573-434a-d1fe-3c45fdea3fe6",
        "colab": {
          "base_uri": "https://localhost:8080/"
        }
      },
      "outputs": [
        {
          "output_type": "stream",
          "name": "stdout",
          "text": [
            "len = 4\n",
            "metadata = {'file_name': 'aws.mdx', 'file_path': 'docs/docs/integrations/providers/aws.mdx', 'file_type': '.mdx', 'source': 'docs/docs/integrations/providers/aws.mdx'}\n",
            "### AWS S3 Directory and File\n",
            "\n",
            ">[Amazon Simple Storage Service (Amazon S3)](https://docs.aws.amazon.com/AmazonS3/latest/userguide/using-folders.html)\n",
            "> is an object storage service.\n",
            ">[AWS S3 Directory](https://docs.aws.amazon.com/AmazonS3/latest/userguide/using-folders.html)\n",
            ">[AWS S3 Buckets](https://docs.aws.amazon.com/AmazonS3/latest/userguide/UsingBucket.html)\n",
            "\n",
            "See a [usage example for S3DirectoryLoader](/docs/integrations/document_loaders/aws_s3_directory).\n",
            "\n",
            "See a [usage example for S3FileLoader](/docs/integrations/document_loaders/aws_s3_file).\n",
            "\n",
            "```python\n",
            "from langchain_community.document_loaders import S3DirectoryLoader, S3FileLoader\n",
            "```\n",
            "\n",
            "### Amazon Textract\n",
            "\n",
            ">[Amazon Textract](https://docs.aws.amazon.com/managedservices/latest/userguide/textract.html) is a machine \n",
            "> learning (ML) service that automatically extracts text, handwriting, and data from scanned documents.\n",
            "\n",
            "See a [usage example](/docs/integrations/document_loaders/amazon_textract).\n"
          ]
        }
      ],
      "source": [
        "query = \"AWS의 S3에서 데이터를 읽어 들이기 위한 Document loader가 있나요?\"\n",
        "\n",
        "context_docs = retriever.invoke(query)\n",
        "print(f\"len = {len(context_docs)}\")\n",
        "\n",
        "first_doc = context_docs[0]\n",
        "print(f\"metadata = {first_doc.metadata}\")\n",
        "print(first_doc.page_content)"
      ]
    },
    {
      "cell_type": "markdown",
      "metadata": {
        "id": "hqwckWjVpM1x"
      },
      "source": [
        "### LCEL을 사용한 RAG Chain 구현\n"
      ]
    },
    {
      "cell_type": "code",
      "execution_count": 45,
      "metadata": {
        "id": "zOwc7h-FpM1x"
      },
      "outputs": [],
      "source": [
        "from langchain_core.prompts import ChatPromptTemplate\n",
        "from langchain_openai import ChatOpenAI\n",
        "\n",
        "prompt = ChatPromptTemplate.from_template('''\\\n",
        "다음 문맥만을 바탕으로 질문에 답변해 주세요.\n",
        "\n",
        "문맥: \"\"\"\n",
        "{context}\n",
        "\"\"\"\n",
        "\n",
        "질문: {question}\n",
        "''')\n",
        "\n",
        "model = ChatOpenAI(model_name=\"gpt-4o-mini\", temperature=0)"
      ]
    },
    {
      "cell_type": "code",
      "execution_count": 46,
      "metadata": {
        "id": "9bIkYpPapM1x",
        "outputId": "fb3af490-fa65-4ca6-fdf2-f179a6f5269a",
        "colab": {
          "base_uri": "https://localhost:8080/"
        }
      },
      "outputs": [
        {
          "output_type": "stream",
          "name": "stdout",
          "text": [
            "네, AWS S3에서 데이터를 읽어 들이기 위한 Document loader가 있습니다. `S3DirectoryLoader`와 `S3FileLoader`를 사용할 수 있습니다.\n"
          ]
        }
      ],
      "source": [
        "from langchain_core.output_parsers import StrOutputParser\n",
        "from langchain_core.runnables import RunnablePassthrough\n",
        "\n",
        "chain = (\n",
        "    {\"context\": retriever, \"question\": RunnablePassthrough()}\n",
        "    | prompt\n",
        "    | model\n",
        "    | StrOutputParser()\n",
        ")\n",
        "\n",
        "output = chain.invoke(query)\n",
        "print(output)"
      ]
    },
    {
      "cell_type": "code",
      "execution_count": null,
      "metadata": {
        "id": "tBttorBypM1x"
      },
      "outputs": [],
      "source": []
    }
  ],
  "metadata": {
    "kernelspec": {
      "display_name": ".venv",
      "language": "python",
      "name": "python3"
    },
    "language_info": {
      "codemirror_mode": {
        "name": "ipython",
        "version": 3
      },
      "file_extension": ".py",
      "mimetype": "text/x-python",
      "name": "python",
      "nbconvert_exporter": "python",
      "pygments_lexer": "ipython3",
      "version": "3.11.9"
    },
    "colab": {
      "provenance": []
    }
  },
  "nbformat": 4,
  "nbformat_minor": 0
}