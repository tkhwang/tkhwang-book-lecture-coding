{
    "cells": [
     {
      "cell_type": "markdown",
      "metadata": {},
      "source": [
       "# LangChain/LangGraph로 구현하는 에이전트 디자인 패턴"
      ]
     },
     {
      "cell_type": "markdown",
      "metadata": {},
      "source": [
       "## 환경 설정"
      ]
     },
     {
      "cell_type": "code",
      "execution_count": null,
      "metadata": {},
      "outputs": [],
      "source": [
       "!git clone https://github.com/ychoi-kr/llm-agent.git"
      ]
     },
     {
      "cell_type": "code",
      "execution_count": null,
      "metadata": {},
      "outputs": [],
      "source": [
       "%cd llm-agent\n",
       "%cd chapter12"
      ]
     },
     {
      "cell_type": "code",
      "execution_count": null,
      "metadata": {},
      "outputs": [],
      "source": [
       "!pip install langchain-core==0.3.0 langchain-community==0.3.0 \\\n",
       "  langgraph==0.2.22 langchain-openai==0.2.0 langchain-anthropic==0.2.0 \\\n",
       "    python-dotenv==1.0.1 numpy==1.26.4 faiss-cpu==1.8.0.post1 \\\n",
       "      pydantic-settings==2.5.2 retry==0.9.2 decorator==4.4.2 pydantic==2.9.2"
      ]
     },
     {
      "cell_type": "code",
      "execution_count": null,
      "metadata": {},
      "outputs": [],
      "source": [
       "import os\n",
       "from google.colab import userdata\n",
       "\n",
       "os.environ[\"OPENAI_API_KEY\"] = userdata.get(\"OPENAI_API_KEY\")\n",
       "os.environ[\"ANTHROPIC_API_KEY\"] = userdata.get(\"ANTHROPIC_API_KEY\")\n",
       "os.environ[\"TAVILY_API_KEY\"] = userdata.get(\"TAVILY_API_KEY\")\n",
       "os.environ[\"LANGCHAIN_TRACING_V2\"] = \"true\"\n",
       "os.environ[\"LANGCHAIN_ENDPOINT\"] = \"https://api.smith.langchain.com\"\n",
       "os.environ[\"LANGCHAIN_API_KEY\"] = userdata.get(\"LANGCHAIN_API_KEY\")\n",
       "os.environ[\"LANGCHAIN_PROJECT\"] = \"agent-book\""
      ]
     },
     {
      "cell_type": "markdown",
      "metadata": {},
      "source": [
       "## 1. 패시브 골 크리에이터"
      ]
     },
     {
      "cell_type": "code",
      "execution_count": null,
      "metadata": {},
      "outputs": [],
      "source": [
       "!python -m passive_goal_creator.main --task \"카레라이스 만드는 방법\""
      ]
     },
     {
      "cell_type": "markdown",
      "metadata": {},
      "source": [
       "## 2. 프롬프트/응답 최적화"
      ]
     },
     {
      "cell_type": "code",
      "execution_count": null,
      "metadata": {},
      "outputs": [],
      "source": [
       "!python -m prompt_optimizer.main --task \"카레라이스 만드는 방법\""
      ]
     },
     {
      "cell_type": "code",
      "execution_count": null,
      "metadata": {},
      "outputs": [],
      "source": [
       "!python -m response_optimizer.main --task \"카레라이스 만드는 방법\""
      ]
     },
     {
      "cell_type": "markdown",
      "metadata": {},
      "source": [
       "## 3. 싱글 패스 플랜 제너레이터"
      ]
     },
     {
      "cell_type": "code",
      "execution_count": null,
      "metadata": {},
      "outputs": [],
      "source": [
       "!python -m single_path_plan_generation.main --task \"카레라이스 만드는 방법\""
      ]
     },
     {
      "cell_type": "markdown",
      "metadata": {},
      "source": [
       "## 4. 멀티 패스 플랜 제너레이터"
      ]
     },
     {
      "cell_type": "code",
      "execution_count": null,
      "metadata": {},
      "outputs": [],
      "source": [
       "!python -m multi_path_plan_generation.main --task \"카레라이스 만드는 방법\""
      ]
     },
     {
      "cell_type": "markdown",
      "metadata": {},
      "source": [
       "## 5. 셀프 리플렉션"
      ]
     },
     {
      "cell_type": "code",
      "execution_count": null,
      "metadata": {},
      "outputs": [],
      "source": [
       "!python -m self_reflection.main --task \"카레라이스 만드는 방법\""
      ]
     },
     {
      "cell_type": "markdown",
      "metadata": {},
      "source": [
       "## 6. 크로스 리플렉션"
      ]
     },
     {
      "cell_type": "code",
      "execution_count": null,
      "metadata": {},
      "outputs": [],
      "source": [
       "!python -m cross_reflection.main --task \"카레라이스 만드는 방법\""
      ]
     },
     {
      "cell_type": "markdown",
      "metadata": {},
      "source": [
       "## 7. 역할 기반 협력"
      ]
     },
     {
      "cell_type": "code",
      "execution_count": null,
      "metadata": {},
      "outputs": [],
      "source": [
       "!python -m role_based_cooperation.main --task \"카레라이스 만드는 방법\""
      ]
     }
    ],
    "metadata": {
     "language_info": {
      "name": "python"
     }
    },
    "nbformat": 4,
    "nbformat_minor": 2
   }