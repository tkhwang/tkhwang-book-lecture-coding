{
 "cells": [
  {
   "cell_type": "code",
   "execution_count": 3,
   "metadata": {},
   "outputs": [
    {
     "ename": "ValidationError",
     "evalue": "1 validation error for JsonOutputKeyToolsParser\nkey_name\n  field required (type=value_error.missing)",
     "output_type": "error",
     "traceback": [
      "\u001b[0;31m---------------------------------------------------------------------------\u001b[0m",
      "\u001b[0;31mValidationError\u001b[0m                           Traceback (most recent call last)",
      "\u001b[1;32m/Users/nomadcoders/Documents/fullstack-gpt/notebook.ipynb Cell 1\u001b[0m line \u001b[0;36m2\n\u001b[1;32m      <a href='vscode-notebook-cell:/Users/nomadcoders/Documents/fullstack-gpt/notebook.ipynb#W0sZmlsZQ%3D%3D?line=4'>5</a>\u001b[0m prompt \u001b[39m=\u001b[39m ChatPromptTemplate\u001b[39m.\u001b[39mfrom_messages(\n\u001b[1;32m      <a href='vscode-notebook-cell:/Users/nomadcoders/Documents/fullstack-gpt/notebook.ipynb#W0sZmlsZQ%3D%3D?line=5'>6</a>\u001b[0m     [\n\u001b[1;32m      <a href='vscode-notebook-cell:/Users/nomadcoders/Documents/fullstack-gpt/notebook.ipynb#W0sZmlsZQ%3D%3D?line=6'>7</a>\u001b[0m         (\n\u001b[0;32m   (...)\u001b[0m\n\u001b[1;32m     <a href='vscode-notebook-cell:/Users/nomadcoders/Documents/fullstack-gpt/notebook.ipynb#W0sZmlsZQ%3D%3D?line=14'>15</a>\u001b[0m     ]\n\u001b[1;32m     <a href='vscode-notebook-cell:/Users/nomadcoders/Documents/fullstack-gpt/notebook.ipynb#W0sZmlsZQ%3D%3D?line=15'>16</a>\u001b[0m )\n\u001b[1;32m     <a href='vscode-notebook-cell:/Users/nomadcoders/Documents/fullstack-gpt/notebook.ipynb#W0sZmlsZQ%3D%3D?line=17'>18</a>\u001b[0m chat \u001b[39m=\u001b[39m ChatOpenAI(\n\u001b[1;32m     <a href='vscode-notebook-cell:/Users/nomadcoders/Documents/fullstack-gpt/notebook.ipynb#W0sZmlsZQ%3D%3D?line=18'>19</a>\u001b[0m     temperature\u001b[39m=\u001b[39m\u001b[39m0.1\u001b[39m,\n\u001b[1;32m     <a href='vscode-notebook-cell:/Users/nomadcoders/Documents/fullstack-gpt/notebook.ipynb#W0sZmlsZQ%3D%3D?line=19'>20</a>\u001b[0m )\n\u001b[0;32m---> <a href='vscode-notebook-cell:/Users/nomadcoders/Documents/fullstack-gpt/notebook.ipynb#W0sZmlsZQ%3D%3D?line=21'>22</a>\u001b[0m chain \u001b[39m=\u001b[39m prompt \u001b[39m|\u001b[39m chat \u001b[39m|\u001b[39m JsonOutputKeyToolsParser()\n\u001b[1;32m     <a href='vscode-notebook-cell:/Users/nomadcoders/Documents/fullstack-gpt/notebook.ipynb#W0sZmlsZQ%3D%3D?line=23'>24</a>\u001b[0m chain\u001b[39m.\u001b[39minvoke(\n\u001b[1;32m     <a href='vscode-notebook-cell:/Users/nomadcoders/Documents/fullstack-gpt/notebook.ipynb#W0sZmlsZQ%3D%3D?line=24'>25</a>\u001b[0m     {\n\u001b[1;32m     <a href='vscode-notebook-cell:/Users/nomadcoders/Documents/fullstack-gpt/notebook.ipynb#W0sZmlsZQ%3D%3D?line=25'>26</a>\u001b[0m         \u001b[39m\"\u001b[39m\u001b[39msource_language\u001b[39m\u001b[39m\"\u001b[39m: \u001b[39m\"\u001b[39m\u001b[39mEnglish\u001b[39m\u001b[39m\"\u001b[39m,\n\u001b[0;32m   (...)\u001b[0m\n\u001b[1;32m     <a href='vscode-notebook-cell:/Users/nomadcoders/Documents/fullstack-gpt/notebook.ipynb#W0sZmlsZQ%3D%3D?line=28'>29</a>\u001b[0m     }\n\u001b[1;32m     <a href='vscode-notebook-cell:/Users/nomadcoders/Documents/fullstack-gpt/notebook.ipynb#W0sZmlsZQ%3D%3D?line=29'>30</a>\u001b[0m )\n",
      "File \u001b[0;32m~/Documents/fullstack-gpt/env/lib/python3.11/site-packages/langchain/load/serializable.py:97\u001b[0m, in \u001b[0;36mSerializable.__init__\u001b[0;34m(self, **kwargs)\u001b[0m\n\u001b[1;32m     96\u001b[0m \u001b[39mdef\u001b[39;00m \u001b[39m__init__\u001b[39m(\u001b[39mself\u001b[39m, \u001b[39m*\u001b[39m\u001b[39m*\u001b[39mkwargs: Any) \u001b[39m-\u001b[39m\u001b[39m>\u001b[39m \u001b[39mNone\u001b[39;00m:\n\u001b[0;32m---> 97\u001b[0m     \u001b[39msuper\u001b[39;49m()\u001b[39m.\u001b[39;49m\u001b[39m__init__\u001b[39;49m(\u001b[39m*\u001b[39;49m\u001b[39m*\u001b[39;49mkwargs)\n\u001b[1;32m     98\u001b[0m     \u001b[39mself\u001b[39m\u001b[39m.\u001b[39m_lc_kwargs \u001b[39m=\u001b[39m kwargs\n",
      "File \u001b[0;32m~/Documents/fullstack-gpt/env/lib/python3.11/site-packages/pydantic/main.py:341\u001b[0m, in \u001b[0;36mpydantic.main.BaseModel.__init__\u001b[0;34m()\u001b[0m\n",
      "\u001b[0;31mValidationError\u001b[0m: 1 validation error for JsonOutputKeyToolsParser\nkey_name\n  field required (type=value_error.missing)"
     ]
    }
   ],
   "source": [
    "from langchain.prompts import ChatPromptTemplate\n",
    "from langchain.chat_models import ChatAnthropic\n",
    "from langchain.output_parsers import JsonOutputKeyToolsParser\n",
    "\n",
    "prompt = ChatPromptTemplate.from_messages(\n",
    "    [\n",
    "        (\n",
    "            \"system\",\n",
    "            \"You are a translator bot. Translate sentences from {source_language} to {target_language}.\",\n",
    "        ),\n",
    "        (\n",
    "            \"human\",\n",
    "            \"Translate this: {sentence}\",\n",
    "        ),\n",
    "    ]\n",
    ")\n",
    "\n",
    "chat = ChatAnthropic(temperature=0.1, model_name=\"\")\n",
    "\n",
    "chain = prompt | chat | JsonOutputKeyToolsParser()\n",
    "\n",
    "chain.invoke(\n",
    "    {\n",
    "        \"source_language\": \"English\",\n",
    "        \"target_language\": \"Italian\",\n",
    "        \"sentence\": \"I love you, Langchain!\",\n",
    "    }\n",
    ")"
   ]
  }
 ],
 "metadata": {
  "kernelspec": {
   "display_name": "env",
   "language": "python",
   "name": "python3"
  },
  "language_info": {
   "codemirror_mode": {
    "name": "ipython",
    "version": 3
   },
   "file_extension": ".py",
   "mimetype": "text/x-python",
   "name": "python",
   "nbconvert_exporter": "python",
   "pygments_lexer": "ipython3",
   "version": "3.11.6"
  }
 },
 "nbformat": 4,
 "nbformat_minor": 2
}
