{
 "cells": [
  {
   "cell_type": "code",
   "execution_count": 1,
   "id": "0dee92f5",
   "metadata": {},
   "outputs": [],
   "source": [
    "import openai, json\n",
    "\n",
    "\n",
    "client = openai.OpenAI()\n",
    "messages = []\n",
    "\n",
    "TOOLS = [\n",
    "    {\n",
    "        \"type\": \"function\",\n",
    "        \"function\": {\n",
    "            \"name\": \"get_weather\",\n",
    "            \"description\": \"Get the weather of a city.\",\n",
    "            \"parameters\": {\n",
    "                \"type\": \"object\",\n",
    "                \"properties\": {\n",
    "                    \"city\": {\n",
    "                        \"type\": \"string\",\n",
    "                        \"description\": \"The city to get the weather of.\",\n",
    "                    }\n",
    "                },\n",
    "                \"required\": [\"city\"],\n",
    "            }\n",
    "        }\n",
    "    }\n",
    "]\n",
    "\n",
    "def get_weather(city):\n",
    "    return \"33 degrees celcius\"\n",
    "\n",
    "FUNCTION_MAP = {\n",
    "    \"get_weather\": get_weather,\n",
    "}\n"
   ]
  },
  {
   "cell_type": "code",
   "execution_count": null,
   "id": "9806254d",
   "metadata": {},
   "outputs": [],
   "source": []
  },
  {
   "cell_type": "code",
   "execution_count": 2,
   "id": "06b6c81d",
   "metadata": {},
   "outputs": [],
   "source": [
    "def process_ai_response(message):\n",
    "    if message.tool_calls:\n",
    "        # Assistant의 tool_calls를 messages에 추가\n",
    "        messages.append({\n",
    "            \"role\": \"assistant\",\n",
    "            \"content\": message.content or \"\",\n",
    "            \"tool_calls\": [\n",
    "                {\n",
    "                    \"id\": tool_call.id,\n",
    "                    \"type\": \"function\",\n",
    "                    \"function\": {\n",
    "                        \"name\": tool_call.function.name,\n",
    "                        \"arguments\": tool_call.function.arguments,\n",
    "                    }\n",
    "                } for tool_call in message.tool_calls\n",
    "            ]\n",
    "        })\n",
    "\n",
    "        # 각 tool_call 처리\n",
    "        for tool_call in message.tool_calls:\n",
    "            function_name = tool_call.function.name\n",
    "            arguments = tool_call.function.arguments\n",
    "\n",
    "            print(f\"Calling {function_name} with {arguments}\")\n",
    "\n",
    "            try:\n",
    "                arguments = json.loads(tool_call.function.arguments)\n",
    "            except json.JSONDecodeError:\n",
    "                arguments = {}\n",
    "\n",
    "            function_to_run = FUNCTION_MAP.get(function_name)\n",
    "\n",
    "            if function_to_run:\n",
    "                result = function_to_run(**arguments)\n",
    "                print(f\"Ran: {function_name} with args {arguments} and got {result}\")\n",
    "            else:\n",
    "                result = f\"Function {function_name} not found\"\n",
    "                print(f\"Error: {result}\")\n",
    "\n",
    "            # Tool 실행 결과를 messages에 추가\n",
    "            messages.append({\n",
    "                \"role\": \"tool\",\n",
    "                \"tool_call_id\": tool_call.id,\n",
    "                \"name\": function_name,\n",
    "                \"content\": result,\n",
    "            })\n",
    "\n",
    "        # Tool 실행 후 AI를 다시 호출하여 최종 응답 받기\n",
    "        call_ai()\n",
    "    else:\n",
    "        # 일반 메시지 처리\n",
    "        messages.append({\n",
    "            \"role\": \"assistant\",\n",
    "            \"content\": message.content or \"\",\n",
    "        })\n",
    "        print(f\"AI: {message.content}\")\n",
    "\n",
    "\n",
    "def call_ai():\n",
    "    response = client.chat.completions.create(\n",
    "        model=\"gpt-4o-mini\",\n",
    "        messages=messages,\n",
    "        tools=TOOLS,\n",
    "    )\n",
    "    process_ai_response(response.choices[0].message)"
   ]
  },
  {
   "cell_type": "code",
   "execution_count": 3,
   "id": "8ac388ce",
   "metadata": {},
   "outputs": [
    {
     "name": "stdout",
     "output_type": "stream",
     "text": [
      "AI Chat Assistant\n",
      "--------------------------------------------------\n",
      "Commands: 'exit', 'quit', or 'q' to end the conversation\n",
      "You can ask me about the weather in any city!\n",
      "--------------------------------------------------\n"
     ]
    }
   ],
   "source": [
    "# 초기 시스템 메시지 설정\n",
    "messages = [\n",
    "    {\n",
    "        \"role\": \"system\",\n",
    "        \"content\": \"You are a helpful assistant that can check the weather for cities.\"\n",
    "    }\n",
    "]\n",
    "\n",
    "# 초기 인사 메시지\n",
    "print(\"AI Chat Assistant\")\n",
    "print(\"-\" * 50)\n",
    "print(\"Commands: 'exit', 'quit', or 'q' to end the conversation\")\n",
    "print(\"You can ask me about the weather in any city!\")\n",
    "print(\"-\" * 50)"
   ]
  },
  {
   "cell_type": "markdown",
   "id": "cf5adfa2",
   "metadata": {},
   "source": []
  },
  {
   "cell_type": "markdown",
   "id": "80d878df",
   "metadata": {},
   "source": []
  },
  {
   "cell_type": "code",
   "execution_count": 4,
   "id": "f530c2ee",
   "metadata": {},
   "outputs": [
    {
     "name": "stdout",
     "output_type": "stream",
     "text": [
      "User: hi\n",
      "AI: Hello! How can I assist you today?\n",
      "User: What's the weather of Seoul ?\n",
      "Calling get_weather with {\"city\":\"Seoul\"}\n",
      "Ran: get_weather with args {'city': 'Seoul'} and got 33 degrees celcius\n",
      "AI: The current weather in Seoul is 33 degrees Celsius. If you need more information or updates, feel free to ask!\n"
     ]
    }
   ],
   "source": [
    "while True:\n",
    "    message = input(\"Send a message to the AI...\")\n",
    "    if message == \"exit\" or message == \"quit\" or message == \"q\":\n",
    "        break\n",
    "    else:\n",
    "        messages.append({\n",
    "            \"role\": \"user\",\n",
    "            \"content\": message,\n",
    "        })\n",
    "        print(f\"User: {message}\")\n",
    "        call_ai()"
   ]
  },
  {
   "cell_type": "code",
   "execution_count": null,
   "id": "b4c9734e",
   "metadata": {},
   "outputs": [],
   "source": []
  },
  {
   "cell_type": "markdown",
   "id": "59b5f0f4",
   "metadata": {},
   "source": []
  },
  {
   "cell_type": "code",
   "execution_count": 5,
   "id": "23eda827",
   "metadata": {},
   "outputs": [
    {
     "data": {
      "text/plain": [
       "[{'role': 'system',\n",
       "  'content': 'You are a helpful assistant that can check the weather for cities.'},\n",
       " {'role': 'user', 'content': 'hi'},\n",
       " {'role': 'assistant', 'content': 'Hello! How can I assist you today?'},\n",
       " {'role': 'user', 'content': \"What's the weather of Seoul ?\"},\n",
       " {'role': 'assistant',\n",
       "  'content': '',\n",
       "  'tool_calls': [{'id': 'call_OrvKR9d2BxAtPkGzitrI804B',\n",
       "    'type': 'function',\n",
       "    'function': {'name': 'get_weather', 'arguments': '{\"city\":\"Seoul\"}'}}]},\n",
       " {'role': 'tool',\n",
       "  'tool_call_id': 'call_OrvKR9d2BxAtPkGzitrI804B',\n",
       "  'name': 'get_weather',\n",
       "  'content': '33 degrees celcius'},\n",
       " {'role': 'assistant',\n",
       "  'content': 'The current weather in Seoul is 33 degrees Celsius. If you need more information or updates, feel free to ask!'}]"
      ]
     },
     "execution_count": 5,
     "metadata": {},
     "output_type": "execute_result"
    }
   ],
   "source": [
    "messages"
   ]
  },
  {
   "cell_type": "code",
   "execution_count": null,
   "id": "24d1a3a1",
   "metadata": {},
   "outputs": [],
   "source": []
  }
 ],
 "metadata": {
  "kernelspec": {
   "display_name": ".venv",
   "language": "python",
   "name": "python3"
  },
  "language_info": {
   "codemirror_mode": {
    "name": "ipython",
    "version": 3
   },
   "file_extension": ".py",
   "mimetype": "text/x-python",
   "name": "python",
   "nbconvert_exporter": "python",
   "pygments_lexer": "ipython3",
   "version": "3.11.13"
  }
 },
 "nbformat": 4,
 "nbformat_minor": 5
}
