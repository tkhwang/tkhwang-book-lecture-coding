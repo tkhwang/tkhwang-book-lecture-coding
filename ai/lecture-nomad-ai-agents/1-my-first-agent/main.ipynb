{
 "cells": [
  {
   "cell_type": "code",
   "execution_count": 7,
   "id": "0dee92f5",
   "metadata": {},
   "outputs": [
    {
     "name": "stdout",
     "output_type": "stream",
     "text": [
      "get_weather(\"Greece\")\n"
     ]
    }
   ],
   "source": [
    "import openai\n",
    "\n",
    "client = openai.OpenAI()\n",
    "\n",
    "PROMPT = \"\"\"\n",
    "I have the following functions in my system.\n",
    "\n",
    "`get_weather`\n",
    "`get_currency`\n",
    "`get_news`\n",
    "\n",
    "All of them receive the name of a country as an argument ie. (get_news(\"Spain\"))\n",
    "\n",
    "Please answer with the name of the function that you would like to call.\n",
    "\n",
    "Please say nothing else, just the name of the function with the arguments.\n",
    "\n",
    "Answer the following question:\n",
    "\n",
    "What is the weather in Greece?\n",
    "\"\"\"\n",
    "\n",
    "response = client.chat.completions.create(\n",
    "    model=\"gpt-4o-mini\",\n",
    "    messages=[\n",
    "        {\"role\": \"user\", \"content\": PROMPT},\n",
    "    ],\n",
    ")\n",
    "\n",
    "message = response.choices[0].message.content\n",
    "print(message)\n"
   ]
  },
  {
   "cell_type": "code",
   "execution_count": 5,
   "id": "06b6c81d",
   "metadata": {},
   "outputs": [
    {
     "name": "stdout",
     "output_type": "stream",
     "text": [
      "Choice(finish_reason='stop', index=0, logprobs=None, message=ChatCompletionMessage(content='The capital of France is Paris.', refusal=None, role='assistant', annotations=[], audio=None, function_call=None, tool_calls=None))\n"
     ]
    }
   ],
   "source": [
    "for choice in response.choices:\n",
    "    print(choice)"
   ]
  },
  {
   "cell_type": "code",
   "execution_count": null,
   "id": "b4c9734e",
   "metadata": {},
   "outputs": [],
   "source": []
  },
  {
   "cell_type": "markdown",
   "id": "59b5f0f4",
   "metadata": {},
   "source": []
  },
  {
   "cell_type": "code",
   "execution_count": null,
   "id": "24d1a3a1",
   "metadata": {},
   "outputs": [],
   "source": []
  }
 ],
 "metadata": {
  "kernelspec": {
   "display_name": ".venv",
   "language": "python",
   "name": "python3"
  },
  "language_info": {
   "codemirror_mode": {
    "name": "ipython",
    "version": 3
   },
   "file_extension": ".py",
   "mimetype": "text/x-python",
   "name": "python",
   "nbconvert_exporter": "python",
   "pygments_lexer": "ipython3",
   "version": "3.11.13"
  }
 },
 "nbformat": 4,
 "nbformat_minor": 5
}
