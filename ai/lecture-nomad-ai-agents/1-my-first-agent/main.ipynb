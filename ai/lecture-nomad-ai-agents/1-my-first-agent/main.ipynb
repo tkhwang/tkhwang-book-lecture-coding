{
 "cells": [
  {
   "cell_type": "code",
   "execution_count": 1,
   "id": "0dee92f5",
   "metadata": {},
   "outputs": [],
   "source": [
    "import openai\n",
    "\n",
    "client = openai.OpenAI()\n",
    "messages = []\n"
   ]
  },
  {
   "cell_type": "code",
   "execution_count": null,
   "id": "9806254d",
   "metadata": {},
   "outputs": [],
   "source": []
  },
  {
   "cell_type": "code",
   "execution_count": 2,
   "id": "06b6c81d",
   "metadata": {},
   "outputs": [],
   "source": [
    "def call_ai():\n",
    "    response = client.chat.completions.create(\n",
    "        model=\"gpt-4o-mini\",\n",
    "        messages=messages,\n",
    "    )\n",
    "    message = response.choices[0].message.content\n",
    "    messages.append({\n",
    "        \"role\": \"assistant\",\n",
    "        \"content\": message,\n",
    "    })\n",
    "    print(f\"AI: {message}\")\n",
    "\n"
   ]
  },
  {
   "cell_type": "code",
   "execution_count": 3,
   "id": "f530c2ee",
   "metadata": {},
   "outputs": [
    {
     "name": "stdout",
     "output_type": "stream",
     "text": [
      "User: \n",
      "AI: Hello! How can I assist you today?\n",
      "User: My name is tkhwang\n",
      "AI: Nice to meet you, tkhwang! How can I help you today?\n",
      "User: What is my name ?\n",
      "AI: Your name is tkhwang. How can I assist you further?\n"
     ]
    }
   ],
   "source": [
    "while True:\n",
    "    message = input(\"Send a message to the AI...\")\n",
    "    if message == \"exit\" or message == \"quit\" or message == \"q\":\n",
    "        break\n",
    "    else:\n",
    "        messages.append({\n",
    "            \"role\": \"user\",\n",
    "            \"content\": message,\n",
    "        })\n",
    "        print(f\"User: {message}\")\n",
    "\n",
    "        call_ai()"
   ]
  },
  {
   "cell_type": "code",
   "execution_count": null,
   "id": "b4c9734e",
   "metadata": {},
   "outputs": [],
   "source": []
  },
  {
   "cell_type": "markdown",
   "id": "59b5f0f4",
   "metadata": {},
   "source": []
  },
  {
   "cell_type": "code",
   "execution_count": null,
   "id": "24d1a3a1",
   "metadata": {},
   "outputs": [],
   "source": []
  }
 ],
 "metadata": {
  "kernelspec": {
   "display_name": ".venv",
   "language": "python",
   "name": "python3"
  },
  "language_info": {
   "codemirror_mode": {
    "name": "ipython",
    "version": 3
   },
   "file_extension": ".py",
   "mimetype": "text/x-python",
   "name": "python",
   "nbconvert_exporter": "python",
   "pygments_lexer": "ipython3",
   "version": "3.11.13"
  }
 },
 "nbformat": 4,
 "nbformat_minor": 5
}
