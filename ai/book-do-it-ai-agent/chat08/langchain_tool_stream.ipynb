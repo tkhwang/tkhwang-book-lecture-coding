{
 "cells": [
  {
   "cell_type": "code",
   "execution_count": 1,
   "metadata": {},
   "outputs": [
    {
     "data": {
      "text/plain": [
       "AIMessage(content='네, 잘 지냈습니다! 당신은 어떻게 지내고 있나요? 궁금한 점이 있으면 언제든지 말씀해 주세요.', additional_kwargs={'refusal': None}, response_metadata={'token_usage': {'completion_tokens': 30, 'prompt_tokens': 12, 'total_tokens': 42, 'completion_tokens_details': {'accepted_prediction_tokens': 0, 'audio_tokens': 0, 'reasoning_tokens': 0, 'rejected_prediction_tokens': 0}, 'prompt_tokens_details': {'audio_tokens': 0, 'cached_tokens': 0}}, 'model_name': 'gpt-4o-mini-2024-07-18', 'system_fingerprint': 'fp_34a54ae93c', 'id': 'chatcmpl-C1npM2eMCrb0nMsmsHnpyV4qJ0B68', 'service_tier': 'default', 'finish_reason': 'stop', 'logprobs': None}, id='run--0309f800-2065-4ba6-b432-1f1fdc9ff266-0', usage_metadata={'input_tokens': 12, 'output_tokens': 30, 'total_tokens': 42, 'input_token_details': {'audio': 0, 'cache_read': 0}, 'output_token_details': {'audio': 0, 'reasoning': 0}})"
      ]
     },
     "execution_count": 1,
     "metadata": {},
     "output_type": "execute_result"
    }
   ],
   "source": [
    "from langchain_openai import ChatOpenAI\n",
    "from langchain_core.messages import HumanMessage\n",
    "llm = ChatOpenAI(model=\"gpt-4o-mini\")\n",
    "\n",
    "llm.invoke([HumanMessage(\"잘 지냈어?\")])"
   ]
  },
  {
   "cell_type": "code",
   "execution_count": 2,
   "metadata": {},
   "outputs": [],
   "source": [
    "from langchain_core.tools import tool\n",
    "from datetime import datetime\n",
    "import pytz\n",
    "\n",
    "@tool # @tool 데코레이터를 사용하여 함수를 도구로 등록\n",
    "def get_current_time(timezone: str, location: str) -> str:\n",
    "    \"\"\" 현재 시각을 반환하는 함수\n",
    "\n",
    "    Args:\n",
    "        timezone (str): 타임존 (예: 'Asia/Seoul') 실제 존재하는 타임존이어야 함\n",
    "        location (str): 지역명. 타임존이 모든 지명에 대응되지 않기 때문에 이후 llm 답변 생성에 사용됨\n",
    "    \"\"\"\n",
    "    tz = pytz.timezone(timezone)\n",
    "    now = datetime.now(tz).strftime(\"%Y-%m-%d %H:%M:%S\")\n",
    "    location_and_local_time = f'{timezone} ({location}) 현재시각 {now} ' # 타임존, 지역명, 현재시각을 문자열로 반환\n",
    "    print(location_and_local_time)\n",
    "    return location_and_local_time\n"
   ]
  },
  {
   "cell_type": "code",
   "execution_count": 3,
   "metadata": {},
   "outputs": [],
   "source": [
    "# 도구를 tools 리스트에 추가하고, tool_dict에도 추가\n",
    "tools = [get_current_time,]\n",
    "tool_dict = {\"get_current_time\": get_current_time,}\n",
    "\n",
    "# 도구를 모델에 바인딩: 모델에 도구를 바인딩하면, 도구를 사용하여 llm 답변을 생성할 수 있음\n",
    "llm_with_tools = llm.bind_tools(tools)"
   ]
  },
  {
   "cell_type": "code",
   "execution_count": 4,
   "metadata": {},
   "outputs": [
    {
     "name": "stdout",
     "output_type": "stream",
     "text": [
      "[SystemMessage(content='너는 사용자의 질문에 답변을 하기 위해 tools를 사용할 수 있다.', additional_kwargs={}, response_metadata={}), HumanMessage(content='부산은 지금 몇시야?', additional_kwargs={}, response_metadata={}), AIMessage(content='', additional_kwargs={'tool_calls': [{'id': 'call_1r6c9d277aYAe2CER8M1jvhu', 'function': {'arguments': '{\"timezone\":\"Asia/Seoul\",\"location\":\"Busan\"}', 'name': 'get_current_time'}, 'type': 'function'}], 'refusal': None}, response_metadata={'token_usage': {'completion_tokens': 23, 'prompt_tokens': 135, 'total_tokens': 158, 'completion_tokens_details': {'accepted_prediction_tokens': 0, 'audio_tokens': 0, 'reasoning_tokens': 0, 'rejected_prediction_tokens': 0}, 'prompt_tokens_details': {'audio_tokens': 0, 'cached_tokens': 0}}, 'model_name': 'gpt-4o-mini-2024-07-18', 'system_fingerprint': 'fp_62a23a81ef', 'id': 'chatcmpl-C1npNbKGtwKRgrCBjAkvNxcwHBtA7', 'service_tier': 'default', 'finish_reason': 'tool_calls', 'logprobs': None}, id='run--cf507534-b1d6-4bf1-9679-288fad26d66a-0', tool_calls=[{'name': 'get_current_time', 'args': {'timezone': 'Asia/Seoul', 'location': 'Busan'}, 'id': 'call_1r6c9d277aYAe2CER8M1jvhu', 'type': 'tool_call'}], usage_metadata={'input_tokens': 135, 'output_tokens': 23, 'total_tokens': 158, 'input_token_details': {'audio': 0, 'cache_read': 0}, 'output_token_details': {'audio': 0, 'reasoning': 0}})]\n"
     ]
    }
   ],
   "source": [
    "from langchain_core.messages import SystemMessage\n",
    "\n",
    "# (4) 사용자의 질문과 tools 사용하여 llm 답변 생성\n",
    "messages = [\n",
    "    SystemMessage(\"너는 사용자의 질문에 답변을 하기 위해 tools를 사용할 수 있다.\"),\n",
    "    HumanMessage(\"부산은 지금 몇시야?\"),\n",
    "]\n",
    "\n",
    "# (5) llm_with_tools를 사용하여 사용자의 질문에 대한 llm 답변 생성\n",
    "response = llm_with_tools.invoke(messages)\n",
    "messages.append(response)\n",
    "\n",
    "# (6) 생성된 llm 답변 출력\n",
    "print(messages)"
   ]
  },
  {
   "cell_type": "code",
   "execution_count": 5,
   "metadata": {},
   "outputs": [
    {
     "name": "stdout",
     "output_type": "stream",
     "text": [
      "{'timezone': 'Asia/Seoul', 'location': 'Busan'}\n",
      "Asia/Seoul (Busan) 현재시각 2025-08-07 14:51:42 \n"
     ]
    },
    {
     "data": {
      "text/plain": [
       "[SystemMessage(content='너는 사용자의 질문에 답변을 하기 위해 tools를 사용할 수 있다.', additional_kwargs={}, response_metadata={}),\n",
       " HumanMessage(content='부산은 지금 몇시야?', additional_kwargs={}, response_metadata={}),\n",
       " AIMessage(content='', additional_kwargs={'tool_calls': [{'id': 'call_1r6c9d277aYAe2CER8M1jvhu', 'function': {'arguments': '{\"timezone\":\"Asia/Seoul\",\"location\":\"Busan\"}', 'name': 'get_current_time'}, 'type': 'function'}], 'refusal': None}, response_metadata={'token_usage': {'completion_tokens': 23, 'prompt_tokens': 135, 'total_tokens': 158, 'completion_tokens_details': {'accepted_prediction_tokens': 0, 'audio_tokens': 0, 'reasoning_tokens': 0, 'rejected_prediction_tokens': 0}, 'prompt_tokens_details': {'audio_tokens': 0, 'cached_tokens': 0}}, 'model_name': 'gpt-4o-mini-2024-07-18', 'system_fingerprint': 'fp_62a23a81ef', 'id': 'chatcmpl-C1npNbKGtwKRgrCBjAkvNxcwHBtA7', 'service_tier': 'default', 'finish_reason': 'tool_calls', 'logprobs': None}, id='run--cf507534-b1d6-4bf1-9679-288fad26d66a-0', tool_calls=[{'name': 'get_current_time', 'args': {'timezone': 'Asia/Seoul', 'location': 'Busan'}, 'id': 'call_1r6c9d277aYAe2CER8M1jvhu', 'type': 'tool_call'}], usage_metadata={'input_tokens': 135, 'output_tokens': 23, 'total_tokens': 158, 'input_token_details': {'audio': 0, 'cache_read': 0}, 'output_token_details': {'audio': 0, 'reasoning': 0}}),\n",
       " ToolMessage(content='Asia/Seoul (Busan) 현재시각 2025-08-07 14:51:42 ', name='get_current_time', tool_call_id='call_1r6c9d277aYAe2CER8M1jvhu')]"
      ]
     },
     "execution_count": 5,
     "metadata": {},
     "output_type": "execute_result"
    }
   ],
   "source": [
    "for tool_call in response.tool_calls:\n",
    "    selected_tool = tool_dict[tool_call[\"name\"]] # (7) tool_dict를 사용하여 도구 함수를 선택\n",
    "    print(tool_call[\"args\"]) # (8) 도구 호출 시 전달된 인자 출력\n",
    "    tool_msg = selected_tool.invoke(tool_call) # (9) 도구 함수를 호출하여 결과를 반환\n",
    "    messages.append(tool_msg)\n",
    "\n",
    "messages"
   ]
  },
  {
   "cell_type": "code",
   "execution_count": 6,
   "metadata": {},
   "outputs": [
    {
     "data": {
      "text/plain": [
       "AIMessage(content='부산은 지금 2025년 8월 7일 오후 2시 51분입니다.', additional_kwargs={'refusal': None}, response_metadata={'token_usage': {'completion_tokens': 24, 'prompt_tokens': 192, 'total_tokens': 216, 'completion_tokens_details': {'accepted_prediction_tokens': 0, 'audio_tokens': 0, 'reasoning_tokens': 0, 'rejected_prediction_tokens': 0}, 'prompt_tokens_details': {'audio_tokens': 0, 'cached_tokens': 0}}, 'model_name': 'gpt-4o-mini-2024-07-18', 'system_fingerprint': 'fp_62a23a81ef', 'id': 'chatcmpl-C1npOmUsNOCr15m6QOUw6YEDUqo1j', 'service_tier': 'default', 'finish_reason': 'stop', 'logprobs': None}, id='run--fb64c744-22a3-48c1-9c2c-d96ebf8fac1c-0', usage_metadata={'input_tokens': 192, 'output_tokens': 24, 'total_tokens': 216, 'input_token_details': {'audio': 0, 'cache_read': 0}, 'output_token_details': {'audio': 0, 'reasoning': 0}})"
      ]
     },
     "execution_count": 6,
     "metadata": {},
     "output_type": "execute_result"
    }
   ],
   "source": [
    "llm_with_tools.invoke(messages)"
   ]
  },
  {
   "cell_type": "code",
   "execution_count": 7,
   "metadata": {},
   "outputs": [],
   "source": [
    "from pydantic import BaseModel, Field\n",
    "\n",
    "class StockHistoryInput(BaseModel):\n",
    "    ticker: str = Field(..., title=\"주식 코드\", description=\"주식 코드 (예: AAPL)\")\n",
    "    period: str = Field(..., title=\"기간\", description=\"주식 데이터 조회 기간 (예: 1d, 1mo, 1y)\")\n"
   ]
  },
  {
   "cell_type": "code",
   "execution_count": 8,
   "metadata": {},
   "outputs": [],
   "source": [
    "import yfinance as yf\n",
    "\n",
    "@tool\n",
    "def get_yf_stock_history(stock_history_input: StockHistoryInput) -> str:\n",
    "    \"\"\" 주식 종목의 가격 데이터를 조회하는 함수\"\"\"\n",
    "    stock = yf.Ticker(stock_history_input.ticker)\n",
    "    history = stock.history(period=stock_history_input.period)\n",
    "    history_md = history.to_markdown() \n",
    "\n",
    "    return history_md\n",
    "\n",
    "tools = [get_current_time, get_yf_stock_history]\n",
    "tool_dict = {\"get_current_time\": get_current_time, \"get_yf_stock_history\": get_yf_stock_history}\n",
    "\n",
    "llm_with_tools = llm.bind_tools(tools)"
   ]
  },
  {
   "cell_type": "code",
   "execution_count": 9,
   "metadata": {},
   "outputs": [
    {
     "name": "stdout",
     "output_type": "stream",
     "text": [
      "content='' additional_kwargs={'tool_calls': [{'id': 'call_xrp3NO3pPpxQuPxuLJdo8gor', 'function': {'arguments': '{\"stock_history_input\":{\"ticker\":\"TSLA\",\"period\":\"1mo\"}}', 'name': 'get_yf_stock_history'}, 'type': 'function'}], 'refusal': None} response_metadata={'token_usage': {'completion_tokens': 27, 'prompt_tokens': 283, 'total_tokens': 310, 'completion_tokens_details': {'accepted_prediction_tokens': 0, 'audio_tokens': 0, 'reasoning_tokens': 0, 'rejected_prediction_tokens': 0}, 'prompt_tokens_details': {'audio_tokens': 0, 'cached_tokens': 0}}, 'model_name': 'gpt-4o-mini-2024-07-18', 'system_fingerprint': 'fp_62a23a81ef', 'id': 'chatcmpl-C1npPd0OjOvMYxo2bbpMTNRcbnt8T', 'service_tier': 'default', 'finish_reason': 'tool_calls', 'logprobs': None} id='run--f86025f2-3cd6-4a01-927f-8e8057f102f7-0' tool_calls=[{'name': 'get_yf_stock_history', 'args': {'stock_history_input': {'ticker': 'TSLA', 'period': '1mo'}}, 'id': 'call_xrp3NO3pPpxQuPxuLJdo8gor', 'type': 'tool_call'}] usage_metadata={'input_tokens': 283, 'output_tokens': 27, 'total_tokens': 310, 'input_token_details': {'audio': 0, 'cache_read': 0}, 'output_token_details': {'audio': 0, 'reasoning': 0}}\n"
     ]
    }
   ],
   "source": [
    "messages.append(HumanMessage(\"테슬라는 한달 전에 비해 주가가 올랐나 내렸나?\"))\n",
    "\n",
    "response = llm_with_tools.invoke(messages)\n",
    "print(response)\n",
    "messages.append(response)"
   ]
  },
  {
   "cell_type": "code",
   "execution_count": 10,
   "metadata": {},
   "outputs": [
    {
     "name": "stdout",
     "output_type": "stream",
     "text": [
      "{'stock_history_input': {'ticker': 'TSLA', 'period': '1mo'}}\n",
      "content='| Date                      |   Open |   High |    Low |   Close |      Volume |   Dividends |   Stock Splits |\\n|:--------------------------|-------:|-------:|-------:|--------:|------------:|------------:|---------------:|\\n| 2025-07-07 00:00:00-04:00 | 291.37 | 296.15 | 288.77 |  293.94 | 1.31178e+08 |           0 |              0 |\\n| 2025-07-08 00:00:00-04:00 | 297    | 304.05 | 294.35 |  297.81 | 1.03247e+08 |           0 |              0 |\\n| 2025-07-09 00:00:00-04:00 | 297.55 | 300.15 | 293.55 |  295.88 | 7.55868e+07 |           0 |              0 |\\n| 2025-07-10 00:00:00-04:00 | 300.05 | 310.48 | 300    |  309.87 | 1.04365e+08 |           0 |              0 |\\n| 2025-07-11 00:00:00-04:00 | 307.89 | 314.09 | 305.65 |  313.51 | 7.92364e+07 |           0 |              0 |\\n| 2025-07-14 00:00:00-04:00 | 317.73 | 322.6  | 312.67 |  316.9  | 7.80434e+07 |           0 |              0 |\\n| 2025-07-15 00:00:00-04:00 | 319.68 | 321.2  | 310.5  |  310.78 | 7.75563e+07 |           0 |              0 |\\n| 2025-07-16 00:00:00-04:00 | 312.8  | 323.5  | 312.62 |  321.67 | 9.72848e+07 |           0 |              0 |\\n| 2025-07-17 00:00:00-04:00 | 323.15 | 324.34 | 317.06 |  319.41 | 7.39229e+07 |           0 |              0 |\\n| 2025-07-18 00:00:00-04:00 | 321.66 | 330.9  | 321.42 |  329.65 | 9.4255e+07  |           0 |              0 |\\n| 2025-07-21 00:00:00-04:00 | 334.4  | 338    | 326.88 |  328.49 | 7.57688e+07 |           0 |              0 |\\n| 2025-07-22 00:00:00-04:00 | 329.74 | 335.41 | 321.55 |  332.11 | 7.73704e+07 |           0 |              0 |\\n| 2025-07-23 00:00:00-04:00 | 330.9  | 336.2  | 328.67 |  332.56 | 9.25538e+07 |           0 |              0 |\\n| 2025-07-24 00:00:00-04:00 | 310    | 310.15 | 300.41 |  305.3  | 1.56966e+08 |           0 |              0 |\\n| 2025-07-25 00:00:00-04:00 | 308.74 | 323.63 | 308.01 |  316.06 | 1.48227e+08 |           0 |              0 |\\n| 2025-07-28 00:00:00-04:00 | 318.45 | 330.49 | 315.69 |  325.59 | 1.12674e+08 |           0 |              0 |\\n| 2025-07-29 00:00:00-04:00 | 325.55 | 326.25 | 318.25 |  321.2  | 8.73589e+07 |           0 |              0 |\\n| 2025-07-30 00:00:00-04:00 | 322.18 | 324.45 | 311.62 |  319.04 | 8.39319e+07 |           0 |              0 |\\n| 2025-07-31 00:00:00-04:00 | 319.61 | 321.37 | 306.1  |  308.27 | 8.52709e+07 |           0 |              0 |\\n| 2025-08-01 00:00:00-04:00 | 306.21 | 309.31 | 297.82 |  302.63 | 8.91214e+07 |           0 |              0 |\\n| 2025-08-04 00:00:00-04:00 | 309.08 | 312.12 | 303    |  309.26 | 7.86839e+07 |           0 |              0 |\\n| 2025-08-05 00:00:00-04:00 | 308.95 | 312.45 | 305.5  |  308.72 | 5.79613e+07 |           0 |              0 |\\n| 2025-08-06 00:00:00-04:00 | 307.89 | 320.47 | 306.93 |  319.91 | 7.82092e+07 |           0 |              0 |' name='get_yf_stock_history' tool_call_id='call_xrp3NO3pPpxQuPxuLJdo8gor'\n"
     ]
    }
   ],
   "source": [
    "for tool_call in response.tool_calls:\n",
    "    selected_tool = tool_dict[tool_call[\"name\"]]\n",
    "    print(tool_call[\"args\"])\n",
    "    tool_msg = selected_tool.invoke(tool_call)\n",
    "    messages.append(tool_msg)\n",
    "    print(tool_msg)"
   ]
  },
  {
   "cell_type": "code",
   "execution_count": 11,
   "metadata": {},
   "outputs": [
    {
     "data": {
      "text/plain": [
       "AIMessage(content='한 달 전인 2025년 7월 7일에 테슬라(TSLA)의 종가는 293.94달러였고, 현재 날짜인 2025년 8월 6일에는 319.91달러입니다.\\n\\n따라서, 테슬라는 한 달 사이에 주가가 상승했습니다.', additional_kwargs={'refusal': None}, response_metadata={'token_usage': {'completion_tokens': 73, 'prompt_tokens': 1697, 'total_tokens': 1770, 'completion_tokens_details': {'accepted_prediction_tokens': 0, 'audio_tokens': 0, 'reasoning_tokens': 0, 'rejected_prediction_tokens': 0}, 'prompt_tokens_details': {'audio_tokens': 0, 'cached_tokens': 0}}, 'model_name': 'gpt-4o-mini-2024-07-18', 'system_fingerprint': 'fp_62a23a81ef', 'id': 'chatcmpl-C1npTwn3aDSxjmgUvUoxfwTEyliEs', 'service_tier': 'default', 'finish_reason': 'stop', 'logprobs': None}, id='run--755d6585-817b-4ea2-97f2-0cbe666174d5-0', usage_metadata={'input_tokens': 1697, 'output_tokens': 73, 'total_tokens': 1770, 'input_token_details': {'audio': 0, 'cache_read': 0}, 'output_token_details': {'audio': 0, 'reasoning': 0}})"
      ]
     },
     "execution_count": 11,
     "metadata": {},
     "output_type": "execute_result"
    }
   ],
   "source": [
    "llm_with_tools.invoke(messages)"
   ]
  },
  {
   "cell_type": "markdown",
   "metadata": {},
   "source": [
    "## 08-4 스트림 출력"
   ]
  },
  {
   "cell_type": "code",
   "execution_count": 12,
   "metadata": {},
   "outputs": [
    {
     "name": "stdout",
     "output_type": "stream",
     "text": [
      "|저|는| 잘| 지|내|고| 있습니다|!| 한국| 사회|의| 문제|점|에| 대해| 말씀|드|리|자|면|,| 여러| 가지|가| 있지만| 몇| 가지| 주요|한| 문제|를| 소개|할| 수| 있습니다|.\n",
      "\n",
      "|1|.| **|청|년| 실|업|**|:| 경제| 구조|의| 변화|와| 고|용| 시장|의| 경쟁| 심|화|로| 인해| 청|년|층|의| 실|업|률|이| 높|아|지고| 있습니다|.| 많은| 젊|은|이|들이| 적|합|한| 일|자|리를| 찾|기| 힘|들|어|하고|,| 이는| 사회|적인| 불|만|을| 야|기|하고| 있습니다|.\n",
      "\n",
      "|2|.| **|주|거| 문제|**|:| 특히| 대|도|시|에서|의| 주|거| 비용|이| 급|등|하면서| 많은| 사람들이| 적|정|한| 가격|의| 주|택|을| 찾|기| 어려|워|지고| 있습니다|.| 이|로| 인해| 주|거| 불|안|이| 커|지고|,| 청|년|층| 특히| 문제가| 심|각|합니다|.\n",
      "\n",
      "|3|.| **|성| 차|별| 및| 성|폭|력|**|:| 성|별|에| 따른| 불|균|형|과| 성|폭|력| 사건|은| 여|전히| 큰| 사회|적| 문제|입니다|.| 여성|에| 대한| 차|별|이| 사회| 여러| 분야|에서| 나타|나|고| 있으며|,| 그|에| 대한| 대|처|가| 필요한| 상황|입니다|.\n",
      "\n",
      "|4|.| **|고|령|화| 사회|**|:| 고|령|화|가| 진행|되|면서| 연|금|,| 의료|,| 복|지| 시스템|에| 대한| 부담|이| 증가|하고| 있습니다|.| 이는| 사회| 전|반|에| 걸|쳐| 다양한| 문제|를| 야|기|하고|,| 더| 많은| 정책|적| 해결|책|이| 요구|되고| 있습니다|.\n",
      "\n",
      "|5|.| **|정|신| 건강| 문제|**|:| 스트|레스|와| 경쟁| 심|화|로| 정신| 건강| 문제가| 증가|하고| 있습니다|.| 특히| 젊|은| 세|대|에서| 우|울|증|과| 불|안|장|애|가| 증가|하고| 있으며|,| 이에| 대한| 사회|적| 인|식|과| 지원|이| 필요|합니다|.\n",
      "\n",
      "|이| 외|에도| 한국| 사회|에는| 다양한| 문제|들이| 존재|하지만|,| 이는| 해결| 가능|성|도| 있는| 부분|이| 많|습니다|.| 사회| 구성|원| 모두|가| 함께| 고민|하고| 노력|해야| 할| 시|점|입니다|.||"
     ]
    }
   ],
   "source": [
    "for c in llm.stream([HumanMessage(\"잘 지냈어? 한국 사회의 문제점에 대해 이야기해줘.\")]):\n",
    "    print(c.content, end='|') "
   ]
  },
  {
   "cell_type": "code",
   "execution_count": 13,
   "metadata": {},
   "outputs": [
    {
     "name": "stdout",
     "output_type": "stream",
     "text": [
      "chunk type:  <class 'langchain_core.messages.ai.AIMessageChunk'>\n",
      "content:   tool_call_chunk [{'name': 'get_current_time', 'args': {}, 'id': 'call_LHtr9iwG9g7dDWMZuJ56n1Be', 'type': 'tool_call'}]\n",
      "chunk type:  <class 'langchain_core.messages.ai.AIMessageChunk'>\n",
      "content:   tool_call_chunk [{'name': 'get_current_time', 'args': {}, 'id': 'call_LHtr9iwG9g7dDWMZuJ56n1Be', 'type': 'tool_call'}]\n",
      "chunk type:  <class 'langchain_core.messages.ai.AIMessageChunk'>\n",
      "content:   tool_call_chunk [{'name': 'get_current_time', 'args': {}, 'id': 'call_LHtr9iwG9g7dDWMZuJ56n1Be', 'type': 'tool_call'}]\n",
      "chunk type:  <class 'langchain_core.messages.ai.AIMessageChunk'>\n",
      "content:   tool_call_chunk [{'name': 'get_current_time', 'args': {'timezone': ''}, 'id': 'call_LHtr9iwG9g7dDWMZuJ56n1Be', 'type': 'tool_call'}]\n",
      "chunk type:  <class 'langchain_core.messages.ai.AIMessageChunk'>\n",
      "content:   tool_call_chunk [{'name': 'get_current_time', 'args': {'timezone': 'Asia'}, 'id': 'call_LHtr9iwG9g7dDWMZuJ56n1Be', 'type': 'tool_call'}]\n",
      "chunk type:  <class 'langchain_core.messages.ai.AIMessageChunk'>\n",
      "content:   tool_call_chunk [{'name': 'get_current_time', 'args': {'timezone': 'Asia/'}, 'id': 'call_LHtr9iwG9g7dDWMZuJ56n1Be', 'type': 'tool_call'}]\n",
      "chunk type:  <class 'langchain_core.messages.ai.AIMessageChunk'>\n",
      "content:   tool_call_chunk [{'name': 'get_current_time', 'args': {'timezone': 'Asia/Se'}, 'id': 'call_LHtr9iwG9g7dDWMZuJ56n1Be', 'type': 'tool_call'}]\n",
      "chunk type:  <class 'langchain_core.messages.ai.AIMessageChunk'>\n",
      "content:   tool_call_chunk [{'name': 'get_current_time', 'args': {'timezone': 'Asia/Seoul'}, 'id': 'call_LHtr9iwG9g7dDWMZuJ56n1Be', 'type': 'tool_call'}]\n",
      "chunk type:  <class 'langchain_core.messages.ai.AIMessageChunk'>\n",
      "content:   tool_call_chunk [{'name': 'get_current_time', 'args': {'timezone': 'Asia/Seoul'}, 'id': 'call_LHtr9iwG9g7dDWMZuJ56n1Be', 'type': 'tool_call'}]\n",
      "chunk type:  <class 'langchain_core.messages.ai.AIMessageChunk'>\n",
      "content:   tool_call_chunk [{'name': 'get_current_time', 'args': {'timezone': 'Asia/Seoul'}, 'id': 'call_LHtr9iwG9g7dDWMZuJ56n1Be', 'type': 'tool_call'}]\n",
      "chunk type:  <class 'langchain_core.messages.ai.AIMessageChunk'>\n",
      "content:   tool_call_chunk [{'name': 'get_current_time', 'args': {'timezone': 'Asia/Seoul', 'location': ''}, 'id': 'call_LHtr9iwG9g7dDWMZuJ56n1Be', 'type': 'tool_call'}]\n",
      "chunk type:  <class 'langchain_core.messages.ai.AIMessageChunk'>\n",
      "content:   tool_call_chunk [{'name': 'get_current_time', 'args': {'timezone': 'Asia/Seoul', 'location': '부'}, 'id': 'call_LHtr9iwG9g7dDWMZuJ56n1Be', 'type': 'tool_call'}]\n",
      "chunk type:  <class 'langchain_core.messages.ai.AIMessageChunk'>\n",
      "content:   tool_call_chunk [{'name': 'get_current_time', 'args': {'timezone': 'Asia/Seoul', 'location': '부산'}, 'id': 'call_LHtr9iwG9g7dDWMZuJ56n1Be', 'type': 'tool_call'}]\n",
      "chunk type:  <class 'langchain_core.messages.ai.AIMessageChunk'>\n",
      "content:   tool_call_chunk [{'name': 'get_current_time', 'args': {'timezone': 'Asia/Seoul', 'location': '부산'}, 'id': 'call_LHtr9iwG9g7dDWMZuJ56n1Be', 'type': 'tool_call'}]\n",
      "chunk type:  <class 'langchain_core.messages.ai.AIMessageChunk'>\n",
      "content:   tool_call_chunk [{'name': 'get_current_time', 'args': {'timezone': 'Asia/Seoul', 'location': '부산'}, 'id': 'call_LHtr9iwG9g7dDWMZuJ56n1Be', 'type': 'tool_call'}]\n"
     ]
    }
   ],
   "source": [
    "messages = [\n",
    "    SystemMessage(\"너는 사용자의 질문에 답변을 하기 위해 tools를 사용할 수 있다.\"),\n",
    "    HumanMessage(\"부산은 지금 몇시야?\"),\n",
    "]\n",
    "\n",
    "response = llm_with_tools.stream(messages)\n",
    "\n",
    "# 파편화된 tool_call 청크를 하나로 합치기 \n",
    "is_first = True\n",
    "for chunk in response:    \n",
    "    print(\"chunk type: \", type(chunk))\n",
    "    \n",
    "    if is_first:\n",
    "        is_first = False\n",
    "        gathered = chunk\n",
    "    else:\n",
    "        gathered += chunk\n",
    "    \n",
    "    print(\"content: \", gathered.content, \"tool_call_chunk\", gathered.tool_calls)\n",
    "\n",
    "messages.append(gathered)"
   ]
  },
  {
   "cell_type": "code",
   "execution_count": 14,
   "metadata": {},
   "outputs": [
    {
     "data": {
      "text/plain": [
       "AIMessageChunk(content='', additional_kwargs={'tool_calls': [{'index': 0, 'id': 'call_LHtr9iwG9g7dDWMZuJ56n1Be', 'function': {'arguments': '{\"timezone\":\"Asia/Seoul\",\"location\":\"부산\"}', 'name': 'get_current_time'}, 'type': 'function'}]}, response_metadata={'finish_reason': 'tool_calls', 'model_name': 'gpt-4o-mini-2024-07-18', 'system_fingerprint': 'fp_62a23a81ef', 'service_tier': 'default'}, id='run--fadceb3c-b21d-4acb-b286-dea8c3aa45ce', tool_calls=[{'name': 'get_current_time', 'args': {'timezone': 'Asia/Seoul', 'location': '부산'}, 'id': 'call_LHtr9iwG9g7dDWMZuJ56n1Be', 'type': 'tool_call'}], tool_call_chunks=[{'name': 'get_current_time', 'args': '{\"timezone\":\"Asia/Seoul\",\"location\":\"부산\"}', 'id': 'call_LHtr9iwG9g7dDWMZuJ56n1Be', 'index': 0, 'type': 'tool_call_chunk'}])"
      ]
     },
     "execution_count": 14,
     "metadata": {},
     "output_type": "execute_result"
    }
   ],
   "source": [
    "gathered"
   ]
  },
  {
   "cell_type": "code",
   "execution_count": 15,
   "metadata": {},
   "outputs": [
    {
     "name": "stdout",
     "output_type": "stream",
     "text": [
      "{'timezone': 'Asia/Seoul', 'location': '부산'}\n",
      "Asia/Seoul (부산) 현재시각 2025-08-07 14:52:01 \n"
     ]
    },
    {
     "data": {
      "text/plain": [
       "[SystemMessage(content='너는 사용자의 질문에 답변을 하기 위해 tools를 사용할 수 있다.', additional_kwargs={}, response_metadata={}),\n",
       " HumanMessage(content='부산은 지금 몇시야?', additional_kwargs={}, response_metadata={}),\n",
       " AIMessageChunk(content='', additional_kwargs={'tool_calls': [{'index': 0, 'id': 'call_LHtr9iwG9g7dDWMZuJ56n1Be', 'function': {'arguments': '{\"timezone\":\"Asia/Seoul\",\"location\":\"부산\"}', 'name': 'get_current_time'}, 'type': 'function'}]}, response_metadata={'finish_reason': 'tool_calls', 'model_name': 'gpt-4o-mini-2024-07-18', 'system_fingerprint': 'fp_62a23a81ef', 'service_tier': 'default'}, id='run--fadceb3c-b21d-4acb-b286-dea8c3aa45ce', tool_calls=[{'name': 'get_current_time', 'args': {'timezone': 'Asia/Seoul', 'location': '부산'}, 'id': 'call_LHtr9iwG9g7dDWMZuJ56n1Be', 'type': 'tool_call'}], tool_call_chunks=[{'name': 'get_current_time', 'args': '{\"timezone\":\"Asia/Seoul\",\"location\":\"부산\"}', 'id': 'call_LHtr9iwG9g7dDWMZuJ56n1Be', 'index': 0, 'type': 'tool_call_chunk'}]),\n",
       " ToolMessage(content='Asia/Seoul (부산) 현재시각 2025-08-07 14:52:01 ', name='get_current_time', tool_call_id='call_LHtr9iwG9g7dDWMZuJ56n1Be')]"
      ]
     },
     "execution_count": 15,
     "metadata": {},
     "output_type": "execute_result"
    }
   ],
   "source": [
    "for tool_call in gathered.tool_calls:\n",
    "    selected_tool = tool_dict[tool_call[\"name\"]] # tool_dict를 사용하여 도구 이름으로 도구 함수를 선택\n",
    "    print(tool_call[\"args\"]) # 도구 호출 시 전달된 인자 출력\n",
    "    tool_msg = selected_tool.invoke(tool_call) # 도구 함수를 호출하여 결과를 반환\n",
    "    messages.append(tool_msg)\n",
    "\n",
    "messages"
   ]
  },
  {
   "cell_type": "code",
   "execution_count": 16,
   "metadata": {},
   "outputs": [
    {
     "name": "stdout",
     "output_type": "stream",
     "text": [
      "|부|산|은| 지금| |202|5|년| |8|월| |7|일| 오후| |2|시| |52|분|입니다|.||"
     ]
    }
   ],
   "source": [
    "for c in llm_with_tools.stream(messages):\n",
    "    print(c.content, end='|')"
   ]
  },
  {
   "cell_type": "code",
   "execution_count": null,
   "metadata": {},
   "outputs": [],
   "source": []
  }
 ],
 "metadata": {
  "kernelspec": {
   "display_name": ".venv",
   "language": "python",
   "name": "python3"
  },
  "language_info": {
   "codemirror_mode": {
    "name": "ipython",
    "version": 3
   },
   "file_extension": ".py",
   "mimetype": "text/x-python",
   "name": "python",
   "nbconvert_exporter": "python",
   "pygments_lexer": "ipython3",
   "version": "3.11.13"
  }
 },
 "nbformat": 4,
 "nbformat_minor": 2
}
