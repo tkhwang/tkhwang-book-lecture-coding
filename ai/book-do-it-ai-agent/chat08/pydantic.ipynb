{
 "cells": [
  {
   "cell_type": "code",
   "execution_count": 12,
   "metadata": {},
   "outputs": [
    {
     "data": {
      "text/plain": [
       "AIMessage(content='저는 항상 잘 지내고 있습니다! 감사합니다. 당신은 어떻게 지내세요?', additional_kwargs={'refusal': None}, response_metadata={'token_usage': {'completion_tokens': 18, 'prompt_tokens': 12, 'total_tokens': 30, 'completion_tokens_details': {'accepted_prediction_tokens': 0, 'audio_tokens': 0, 'reasoning_tokens': 0, 'rejected_prediction_tokens': 0}, 'prompt_tokens_details': {'audio_tokens': 0, 'cached_tokens': 0}}, 'model_name': 'gpt-4o-mini-2024-07-18', 'system_fingerprint': 'fp_34a54ae93c', 'id': 'chatcmpl-C1nfTzK9rrKWNqdScxLEYECvZoF3p', 'service_tier': 'default', 'finish_reason': 'stop', 'logprobs': None}, id='run--5fe208f0-91d5-41e5-8288-d31ed38668d6-0', usage_metadata={'input_tokens': 12, 'output_tokens': 18, 'total_tokens': 30, 'input_token_details': {'audio': 0, 'cache_read': 0}, 'output_token_details': {'audio': 0, 'reasoning': 0}})"
      ]
     },
     "execution_count": 12,
     "metadata": {},
     "output_type": "execute_result"
    }
   ],
   "source": [
    "from langchain_openai import ChatOpenAI\n",
    "from langchain_core.messages import HumanMessage\n",
    "llm = ChatOpenAI(model=\"gpt-4o-mini\")\n",
    "\n",
    "llm.invoke([HumanMessage(\"잘 지냈어?\")])"
   ]
  },
  {
   "cell_type": "code",
   "execution_count": 13,
   "metadata": {},
   "outputs": [],
   "source": [
    "from langchain_core.tools import tool\n",
    "from datetime import datetime\n",
    "import pytz\n",
    "\n",
    "@tool # @tool 데코레이터를 사용하여 함수를 도구로 등록\n",
    "def get_current_time(timezone: str, location: str) -> str:\n",
    "    \"\"\" 현재 시각을 반환하는 함수\n",
    "\n",
    "    Args:\n",
    "        timezone (str): 타임존 (예: 'Asia/Seoul') 실제 존재하는 타임존이어야 함\n",
    "        location (str): 지역명. 타임존이 모든 지명에 대응되지 않기 때문에 이후 llm 답변 생성에 사용됨\n",
    "    \"\"\"\n",
    "    tz = pytz.timezone(timezone)\n",
    "    now = datetime.now(tz).strftime(\"%Y-%m-%d %H:%M:%S\")\n",
    "    location_and_local_time = f'{timezone} ({location}) 현재시각 {now} ' # 타임존, 지역명, 현재시각을 문자열로 반환\n",
    "    print(location_and_local_time)\n",
    "    return location_and_local_time\n"
   ]
  },
  {
   "cell_type": "code",
   "execution_count": 14,
   "metadata": {},
   "outputs": [],
   "source": [
    "# 도구를 tools 리스트에 추가하고, tool_dict에도 추가\n",
    "tools = [get_current_time,]\n",
    "tool_dict = {\"get_current_time\": get_current_time,}\n",
    "\n",
    "# 도구를 모델에 바인딩: 모델에 도구를 바인딩하면, 도구를 사용하여 llm 답변을 생성할 수 있음\n",
    "llm_with_tools = llm.bind_tools(tools)"
   ]
  },
  {
   "cell_type": "code",
   "execution_count": 15,
   "metadata": {},
   "outputs": [
    {
     "name": "stdout",
     "output_type": "stream",
     "text": [
      "[SystemMessage(content='너는 사용자의 질문에 답변을 하기 위해 tools를 사용할 수 있다.', additional_kwargs={}, response_metadata={}), HumanMessage(content='부산은 지금 몇시야?', additional_kwargs={}, response_metadata={}), AIMessage(content='', additional_kwargs={'tool_calls': [{'id': 'call_FsDVntuWCGJ2pqApmk5JLz9q', 'function': {'arguments': '{\"timezone\":\"Asia/Seoul\",\"location\":\"부산\"}', 'name': 'get_current_time'}, 'type': 'function'}], 'refusal': None}, response_metadata={'token_usage': {'completion_tokens': 23, 'prompt_tokens': 135, 'total_tokens': 158, 'completion_tokens_details': {'accepted_prediction_tokens': 0, 'audio_tokens': 0, 'reasoning_tokens': 0, 'rejected_prediction_tokens': 0}, 'prompt_tokens_details': {'audio_tokens': 0, 'cached_tokens': 0}}, 'model_name': 'gpt-4o-mini-2024-07-18', 'system_fingerprint': 'fp_62a23a81ef', 'id': 'chatcmpl-C1nfUrRvC5UE0fCLJudW5KRz9xFVt', 'service_tier': 'default', 'finish_reason': 'tool_calls', 'logprobs': None}, id='run--4d0f00c2-44d0-4b95-8187-356396d4078e-0', tool_calls=[{'name': 'get_current_time', 'args': {'timezone': 'Asia/Seoul', 'location': '부산'}, 'id': 'call_FsDVntuWCGJ2pqApmk5JLz9q', 'type': 'tool_call'}], usage_metadata={'input_tokens': 135, 'output_tokens': 23, 'total_tokens': 158, 'input_token_details': {'audio': 0, 'cache_read': 0}, 'output_token_details': {'audio': 0, 'reasoning': 0}})]\n"
     ]
    }
   ],
   "source": [
    "from langchain_core.messages import SystemMessage\n",
    "\n",
    "# (4) 사용자의 질문과 tools 사용하여 llm 답변 생성\n",
    "messages = [\n",
    "    SystemMessage(\"너는 사용자의 질문에 답변을 하기 위해 tools를 사용할 수 있다.\"),\n",
    "    HumanMessage(\"부산은 지금 몇시야?\"),\n",
    "]\n",
    "\n",
    "# (5) llm_with_tools를 사용하여 사용자의 질문에 대한 llm 답변 생성\n",
    "response = llm_with_tools.invoke(messages)\n",
    "messages.append(response)\n",
    "\n",
    "# (6) 생성된 llm 답변 출력\n",
    "print(messages)"
   ]
  },
  {
   "cell_type": "code",
   "execution_count": 16,
   "metadata": {},
   "outputs": [
    {
     "name": "stdout",
     "output_type": "stream",
     "text": [
      "{'timezone': 'Asia/Seoul', 'location': '부산'}\n",
      "Asia/Seoul (부산) 현재시각 2025-08-07 14:41:29 \n"
     ]
    },
    {
     "data": {
      "text/plain": [
       "[SystemMessage(content='너는 사용자의 질문에 답변을 하기 위해 tools를 사용할 수 있다.', additional_kwargs={}, response_metadata={}),\n",
       " HumanMessage(content='부산은 지금 몇시야?', additional_kwargs={}, response_metadata={}),\n",
       " AIMessage(content='', additional_kwargs={'tool_calls': [{'id': 'call_FsDVntuWCGJ2pqApmk5JLz9q', 'function': {'arguments': '{\"timezone\":\"Asia/Seoul\",\"location\":\"부산\"}', 'name': 'get_current_time'}, 'type': 'function'}], 'refusal': None}, response_metadata={'token_usage': {'completion_tokens': 23, 'prompt_tokens': 135, 'total_tokens': 158, 'completion_tokens_details': {'accepted_prediction_tokens': 0, 'audio_tokens': 0, 'reasoning_tokens': 0, 'rejected_prediction_tokens': 0}, 'prompt_tokens_details': {'audio_tokens': 0, 'cached_tokens': 0}}, 'model_name': 'gpt-4o-mini-2024-07-18', 'system_fingerprint': 'fp_62a23a81ef', 'id': 'chatcmpl-C1nfUrRvC5UE0fCLJudW5KRz9xFVt', 'service_tier': 'default', 'finish_reason': 'tool_calls', 'logprobs': None}, id='run--4d0f00c2-44d0-4b95-8187-356396d4078e-0', tool_calls=[{'name': 'get_current_time', 'args': {'timezone': 'Asia/Seoul', 'location': '부산'}, 'id': 'call_FsDVntuWCGJ2pqApmk5JLz9q', 'type': 'tool_call'}], usage_metadata={'input_tokens': 135, 'output_tokens': 23, 'total_tokens': 158, 'input_token_details': {'audio': 0, 'cache_read': 0}, 'output_token_details': {'audio': 0, 'reasoning': 0}}),\n",
       " ToolMessage(content='Asia/Seoul (부산) 현재시각 2025-08-07 14:41:29 ', name='get_current_time', tool_call_id='call_FsDVntuWCGJ2pqApmk5JLz9q')]"
      ]
     },
     "execution_count": 16,
     "metadata": {},
     "output_type": "execute_result"
    }
   ],
   "source": [
    "for tool_call in response.tool_calls:\n",
    "    selected_tool = tool_dict[tool_call[\"name\"]] # (7) tool_dict를 사용하여 도구 함수를 선택\n",
    "    print(tool_call[\"args\"]) # (8) 도구 호출 시 전달된 인자 출력\n",
    "    tool_msg = selected_tool.invoke(tool_call) # (9) 도구 함수를 호출하여 결과를 반환\n",
    "    messages.append(tool_msg)\n",
    "\n",
    "messages"
   ]
  },
  {
   "cell_type": "code",
   "execution_count": 17,
   "metadata": {},
   "outputs": [
    {
     "data": {
      "text/plain": [
       "AIMessage(content='부산은 지금 2025년 8월 7일 14시 41분입니다.', additional_kwargs={'refusal': None}, response_metadata={'token_usage': {'completion_tokens': 23, 'prompt_tokens': 192, 'total_tokens': 215, 'completion_tokens_details': {'accepted_prediction_tokens': 0, 'audio_tokens': 0, 'reasoning_tokens': 0, 'rejected_prediction_tokens': 0}, 'prompt_tokens_details': {'audio_tokens': 0, 'cached_tokens': 0}}, 'model_name': 'gpt-4o-mini-2024-07-18', 'system_fingerprint': 'fp_62a23a81ef', 'id': 'chatcmpl-C1nfWVZbFMUk1s73rK7Jw2R5nZqB1', 'service_tier': 'default', 'finish_reason': 'stop', 'logprobs': None}, id='run--55a64c5c-fb3a-48df-984f-a5e7e6f97914-0', usage_metadata={'input_tokens': 192, 'output_tokens': 23, 'total_tokens': 215, 'input_token_details': {'audio': 0, 'cache_read': 0}, 'output_token_details': {'audio': 0, 'reasoning': 0}})"
      ]
     },
     "execution_count": 17,
     "metadata": {},
     "output_type": "execute_result"
    }
   ],
   "source": [
    "llm_with_tools.invoke(messages)"
   ]
  },
  {
   "cell_type": "code",
   "execution_count": 18,
   "metadata": {},
   "outputs": [],
   "source": [
    "from pydantic import BaseModel, Field\n",
    "\n",
    "class StockHistoryInput(BaseModel):\n",
    "    ticker: str = Field(..., title=\"주식 코드\", description=\"주식 코드 (예: AAPL)\")\n",
    "    period: str = Field(..., title=\"기간\", description=\"주식 데이터 조회 기간 (예: 1d, 1mo, 1y)\")\n"
   ]
  },
  {
   "cell_type": "code",
   "execution_count": 19,
   "metadata": {},
   "outputs": [],
   "source": [
    "import yfinance as yf\n",
    "\n",
    "@tool\n",
    "def get_yf_stock_history(stock_history_input: StockHistoryInput) -> str:\n",
    "    \"\"\" 주식 종목의 가격 데이터를 조회하는 함수\"\"\"\n",
    "    stock = yf.Ticker(stock_history_input.ticker)\n",
    "    history = stock.history(period=stock_history_input.period)\n",
    "    history_md = history.to_markdown() \n",
    "\n",
    "    return history_md\n",
    "\n",
    "tools = [get_current_time, get_yf_stock_history]\n",
    "tool_dict = {\"get_current_time\": get_current_time, \"get_yf_stock_history\": get_yf_stock_history}\n",
    "\n",
    "llm_with_tools = llm.bind_tools(tools)"
   ]
  },
  {
   "cell_type": "code",
   "execution_count": 20,
   "metadata": {},
   "outputs": [
    {
     "name": "stdout",
     "output_type": "stream",
     "text": [
      "content='' additional_kwargs={'tool_calls': [{'id': 'call_WXTCbbBokzjnGHITXFnH1LWq', 'function': {'arguments': '{\"stock_history_input\": {\"ticker\": \"TSLA\", \"period\": \"1mo\"}}', 'name': 'get_yf_stock_history'}, 'type': 'function'}, {'id': 'call_QtGt8SnoTSC6YhBhC9cIFhLS', 'function': {'arguments': '{\"stock_history_input\": {\"ticker\": \"TSLA\", \"period\": \"1d\"}}', 'name': 'get_yf_stock_history'}, 'type': 'function'}], 'refusal': None} response_metadata={'token_usage': {'completion_tokens': 71, 'prompt_tokens': 283, 'total_tokens': 354, 'completion_tokens_details': {'accepted_prediction_tokens': 0, 'audio_tokens': 0, 'reasoning_tokens': 0, 'rejected_prediction_tokens': 0}, 'prompt_tokens_details': {'audio_tokens': 0, 'cached_tokens': 0}}, 'model_name': 'gpt-4o-mini-2024-07-18', 'system_fingerprint': 'fp_62a23a81ef', 'id': 'chatcmpl-C1nfXFaSVZaYsmoqfGJyocnpN4CMx', 'service_tier': 'default', 'finish_reason': 'tool_calls', 'logprobs': None} id='run--b1a2d110-c454-4613-9eb3-a953ebb1ae55-0' tool_calls=[{'name': 'get_yf_stock_history', 'args': {'stock_history_input': {'ticker': 'TSLA', 'period': '1mo'}}, 'id': 'call_WXTCbbBokzjnGHITXFnH1LWq', 'type': 'tool_call'}, {'name': 'get_yf_stock_history', 'args': {'stock_history_input': {'ticker': 'TSLA', 'period': '1d'}}, 'id': 'call_QtGt8SnoTSC6YhBhC9cIFhLS', 'type': 'tool_call'}] usage_metadata={'input_tokens': 283, 'output_tokens': 71, 'total_tokens': 354, 'input_token_details': {'audio': 0, 'cache_read': 0}, 'output_token_details': {'audio': 0, 'reasoning': 0}}\n"
     ]
    }
   ],
   "source": [
    "messages.append(HumanMessage(\"테슬라는 한달 전에 비해 주가가 올랐나 내렸나?\"))\n",
    "\n",
    "response = llm_with_tools.invoke(messages)\n",
    "print(response)\n",
    "messages.append(response)"
   ]
  },
  {
   "cell_type": "code",
   "execution_count": 21,
   "metadata": {},
   "outputs": [
    {
     "name": "stdout",
     "output_type": "stream",
     "text": [
      "{'stock_history_input': {'ticker': 'TSLA', 'period': '1mo'}}\n",
      "content='| Date                      |   Open |   High |    Low |   Close |      Volume |   Dividends |   Stock Splits |\\n|:--------------------------|-------:|-------:|-------:|--------:|------------:|------------:|---------------:|\\n| 2025-07-07 00:00:00-04:00 | 291.37 | 296.15 | 288.77 |  293.94 | 1.31178e+08 |           0 |              0 |\\n| 2025-07-08 00:00:00-04:00 | 297    | 304.05 | 294.35 |  297.81 | 1.03247e+08 |           0 |              0 |\\n| 2025-07-09 00:00:00-04:00 | 297.55 | 300.15 | 293.55 |  295.88 | 7.55868e+07 |           0 |              0 |\\n| 2025-07-10 00:00:00-04:00 | 300.05 | 310.48 | 300    |  309.87 | 1.04365e+08 |           0 |              0 |\\n| 2025-07-11 00:00:00-04:00 | 307.89 | 314.09 | 305.65 |  313.51 | 7.92364e+07 |           0 |              0 |\\n| 2025-07-14 00:00:00-04:00 | 317.73 | 322.6  | 312.67 |  316.9  | 7.80434e+07 |           0 |              0 |\\n| 2025-07-15 00:00:00-04:00 | 319.68 | 321.2  | 310.5  |  310.78 | 7.75563e+07 |           0 |              0 |\\n| 2025-07-16 00:00:00-04:00 | 312.8  | 323.5  | 312.62 |  321.67 | 9.72848e+07 |           0 |              0 |\\n| 2025-07-17 00:00:00-04:00 | 323.15 | 324.34 | 317.06 |  319.41 | 7.39229e+07 |           0 |              0 |\\n| 2025-07-18 00:00:00-04:00 | 321.66 | 330.9  | 321.42 |  329.65 | 9.4255e+07  |           0 |              0 |\\n| 2025-07-21 00:00:00-04:00 | 334.4  | 338    | 326.88 |  328.49 | 7.57688e+07 |           0 |              0 |\\n| 2025-07-22 00:00:00-04:00 | 329.74 | 335.41 | 321.55 |  332.11 | 7.73704e+07 |           0 |              0 |\\n| 2025-07-23 00:00:00-04:00 | 330.9  | 336.2  | 328.67 |  332.56 | 9.25538e+07 |           0 |              0 |\\n| 2025-07-24 00:00:00-04:00 | 310    | 310.15 | 300.41 |  305.3  | 1.56966e+08 |           0 |              0 |\\n| 2025-07-25 00:00:00-04:00 | 308.74 | 323.63 | 308.01 |  316.06 | 1.48227e+08 |           0 |              0 |\\n| 2025-07-28 00:00:00-04:00 | 318.45 | 330.49 | 315.69 |  325.59 | 1.12674e+08 |           0 |              0 |\\n| 2025-07-29 00:00:00-04:00 | 325.55 | 326.25 | 318.25 |  321.2  | 8.73589e+07 |           0 |              0 |\\n| 2025-07-30 00:00:00-04:00 | 322.18 | 324.45 | 311.62 |  319.04 | 8.39319e+07 |           0 |              0 |\\n| 2025-07-31 00:00:00-04:00 | 319.61 | 321.37 | 306.1  |  308.27 | 8.52709e+07 |           0 |              0 |\\n| 2025-08-01 00:00:00-04:00 | 306.21 | 309.31 | 297.82 |  302.63 | 8.91214e+07 |           0 |              0 |\\n| 2025-08-04 00:00:00-04:00 | 309.08 | 312.12 | 303    |  309.26 | 7.86839e+07 |           0 |              0 |\\n| 2025-08-05 00:00:00-04:00 | 308.95 | 312.45 | 305.5  |  308.72 | 5.79613e+07 |           0 |              0 |\\n| 2025-08-06 00:00:00-04:00 | 307.89 | 320.47 | 306.93 |  319.91 | 7.82092e+07 |           0 |              0 |' name='get_yf_stock_history' tool_call_id='call_WXTCbbBokzjnGHITXFnH1LWq'\n",
      "{'stock_history_input': {'ticker': 'TSLA', 'period': '1d'}}\n",
      "content='| Date                      |   Open |   High |    Low |   Close |      Volume |   Dividends |   Stock Splits |\\n|:--------------------------|-------:|-------:|-------:|--------:|------------:|------------:|---------------:|\\n| 2025-08-06 00:00:00-04:00 | 307.89 | 320.47 | 306.93 |  319.91 | 7.82092e+07 |           0 |              0 |' name='get_yf_stock_history' tool_call_id='call_QtGt8SnoTSC6YhBhC9cIFhLS'\n"
     ]
    }
   ],
   "source": [
    "for tool_call in response.tool_calls:\n",
    "    selected_tool = tool_dict[tool_call[\"name\"]]\n",
    "    print(tool_call[\"args\"])\n",
    "    tool_msg = selected_tool.invoke(tool_call)\n",
    "    messages.append(tool_msg)\n",
    "    print(tool_msg)"
   ]
  },
  {
   "cell_type": "code",
   "execution_count": 22,
   "metadata": {},
   "outputs": [
    {
     "data": {
      "text/plain": [
       "AIMessage(content='테슬라(TSLA)의 주가는 한 달 전과 비교했을 때 다음과 같습니다:\\n\\n- 한 달 전(2025년 7월 6일) 종가: **293.94**\\n- 현재(2025년 8월 6일) 종가: **319.91**\\n\\n따라서, 테슬라의 주가는 한 달 전에 비해 **올랐습니다**.', additional_kwargs={'refusal': None}, response_metadata={'token_usage': {'completion_tokens': 88, 'prompt_tokens': 1881, 'total_tokens': 1969, 'completion_tokens_details': {'accepted_prediction_tokens': 0, 'audio_tokens': 0, 'reasoning_tokens': 0, 'rejected_prediction_tokens': 0}, 'prompt_tokens_details': {'audio_tokens': 0, 'cached_tokens': 0}}, 'model_name': 'gpt-4o-mini-2024-07-18', 'system_fingerprint': 'fp_62a23a81ef', 'id': 'chatcmpl-C1nfaqEyFHw2gUKz1j30BeFBC6eX6', 'service_tier': 'default', 'finish_reason': 'stop', 'logprobs': None}, id='run--95456f43-9ea6-4c24-a3f2-2e488f7b44f6-0', usage_metadata={'input_tokens': 1881, 'output_tokens': 88, 'total_tokens': 1969, 'input_token_details': {'audio': 0, 'cache_read': 0}, 'output_token_details': {'audio': 0, 'reasoning': 0}})"
      ]
     },
     "execution_count": 22,
     "metadata": {},
     "output_type": "execute_result"
    }
   ],
   "source": [
    "llm_with_tools.invoke(messages)"
   ]
  },
  {
   "cell_type": "code",
   "execution_count": null,
   "metadata": {},
   "outputs": [],
   "source": []
  }
 ],
 "metadata": {
  "kernelspec": {
   "display_name": ".venv",
   "language": "python",
   "name": "python3"
  },
  "language_info": {
   "codemirror_mode": {
    "name": "ipython",
    "version": 3
   },
   "file_extension": ".py",
   "mimetype": "text/x-python",
   "name": "python",
   "nbconvert_exporter": "python",
   "pygments_lexer": "ipython3",
   "version": "3.11.13"
  }
 },
 "nbformat": 4,
 "nbformat_minor": 2
}
