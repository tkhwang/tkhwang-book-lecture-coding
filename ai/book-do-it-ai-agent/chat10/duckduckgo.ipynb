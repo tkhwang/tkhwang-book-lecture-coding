{
 "cells": [
  {
   "cell_type": "code",
   "execution_count": null,
   "id": "371af0f9",
   "metadata": {},
   "outputs": [],
   "source": []
  },
  {
   "cell_type": "code",
   "execution_count": 1,
   "id": "39cf6384",
   "metadata": {},
   "outputs": [
    {
     "data": {
      "text/plain": [
       "AIMessage(content='로제(Rosé)의 최근 신곡은 \"GONE\"입니다. 이 곡은 로제의 솔로 앨범에 수록된 곡으로, 감정적인 가사와 독특한 사운드가 특징입니다. 또한, \"GONE\"과 함께 \"On The Ground\"라는 곡도 함께 발표되었습니다. 더 최신 정보가 필요하시면 최신 뉴스나 공식 소스를 참고하세요!', additional_kwargs={'refusal': None}, response_metadata={'token_usage': {'completion_tokens': 89, 'prompt_tokens': 19, 'total_tokens': 108, 'completion_tokens_details': {'accepted_prediction_tokens': 0, 'audio_tokens': 0, 'reasoning_tokens': 0, 'rejected_prediction_tokens': 0}, 'prompt_tokens_details': {'audio_tokens': 0, 'cached_tokens': 0}}, 'model_name': 'gpt-4o-mini-2024-07-18', 'system_fingerprint': 'fp_34a54ae93c', 'id': 'chatcmpl-C1rA0RzgpyvxB5ocaSmtxPgBpVrTA', 'service_tier': 'default', 'finish_reason': 'stop', 'logprobs': None}, id='run--7ff2f74b-5e63-4d3a-b288-460748313aed-0', usage_metadata={'input_tokens': 19, 'output_tokens': 89, 'total_tokens': 108, 'input_token_details': {'audio': 0, 'cache_read': 0}, 'output_token_details': {'audio': 0, 'reasoning': 0}})"
      ]
     },
     "execution_count": 1,
     "metadata": {},
     "output_type": "execute_result"
    }
   ],
   "source": [
    "from langchain_openai import ChatOpenAI\n",
    "from dotenv import load_dotenv\n",
    "import os\n",
    "\n",
    "load_dotenv()\n",
    "api_key = os.getenv(\"OPENAI_API_KEY\")\n",
    "\n",
    "model = ChatOpenAI(model=\"gpt-4o-mini\", api_key=api_key)\n",
    "\n",
    "model.invoke(\"최근 로제가 발표한 신곡은 무엇인가요 ?\")\n"
   ]
  },
  {
   "cell_type": "code",
   "execution_count": 4,
   "id": "dfe06412",
   "metadata": {},
   "outputs": [
    {
     "name": "stdout",
     "output_type": "stream",
     "text": [
      "snippet: Nov 22, 2024 · 22일 오후 로제의 새 싱글 'number one girl' 음원과 뮤직비디오가 공개됐다. 이는 'APT.'와 마찬가지로 오는 12월 6일 발매되는 로제의 첫 번째 정규 앨범 'rosie'에도 수록될 예정이다. …, title: 로제, 브루노 마스 프로듀싱 신곡 'number one girl' 발표 - 싱글리스트, link: https://www.slist.kr/news/articleView.html?idxno=598065;\n",
      "snippet: Nov 4, 2024 · 그룹 블랙핑크 로제가 제대로 일을 냈다. 첫 솔로 정규 앨범 발매를 앞두고 선공개한 싱글 '아파트 (APT.)'의 세계적인 인기가 날이 갈수록 몸집을 불리고 있다. 발매 이후 벌써 보름여가 …, title: 로제가 외친 '아파트', 어떻게 신드롬 주역 됐나 - 한국일보, link: https://www.hankookilbo.com/News/Read/A2024110113500005138;\n",
      "snippet: Dec 6, 2024 · 솔로 뮤지션으로 활약 중인 블랙핑크 로제가 아파트 신드롬에 이어 앨범 ‘rosie’를 발매했습니다., title: 오래 기다리셨습니다. 로제의 솔로 앨범 ‘rosie’가 왔어요 ..., link: https://www.fastpapermag.com/2024/12/06/오래-기다리셨습니다-로제의-솔로-앨범-rosie가-왔/;\n",
      "snippet: Nov 22, 2024 · 그룹 블랙핑크 로제가 신곡 ‘넘버 원 걸 (number one girl)’을 발표했다. 더블랙레이블은 22일 공식 SNS를 통해 로제의 새 싱글 ‘넘버 원 걸’ 음원과 뮤직비디오 공개 소식을 전했다. 이는 …, title: “팬들을 생각하며 쓴 곡”...로제, 선공개 싱글 ‘넘버 원 걸 ..., link: https://www.mk.co.kr/news/musics/11175523\n"
     ]
    },
    {
     "name": "stderr",
     "output_type": "stream",
     "text": [
      "/Users/tkhwang/Documents/git/_tkhwang/tkhwang-book-lecture-coding/ai/book-do-it-ai-agent/.venv/lib/python3.11/site-packages/langchain_community/utilities/duckduckgo_search.py:63: RuntimeWarning: This package (`duckduckgo_search`) has been renamed to `ddgs`! Use `pip install ddgs` instead.\n",
      "  with DDGS() as ddgs:\n"
     ]
    }
   ],
   "source": [
    "from langchain_community.tools import DuckDuckGoSearchResults\n",
    "\n",
    "search = DuckDuckGoSearchResults(results_separator=';\\n')\n",
    "docs = search.invoke(\"최근 로제가 발표한 신곡은 무엇인가요 ?\")\n",
    "\n",
    "print(docs)"
   ]
  },
  {
   "cell_type": "code",
   "execution_count": 5,
   "id": "1eafbc6c",
   "metadata": {},
   "outputs": [],
   "source": [
    "from langchain_core.prompts import ChatPromptTemplate, MessagesPlaceholder\n",
    "\n",
    "question_answering_prompt = ChatPromptTemplate.from_messages([\n",
    "    (\n",
    "        \"system\",\n",
    "        \"아래 context에 기반하여 사용자의 질문에 답변하라.:\\n\\n{context}\"\n",
    "    ),\n",
    "    MessagesPlaceholder(variable_name=\"messages\"),\n",
    "])\n",
    "\n",
    "document_chain = question_answering_prompt | model"
   ]
  },
  {
   "cell_type": "code",
   "execution_count": 6,
   "id": "04be72a6",
   "metadata": {},
   "outputs": [
    {
     "name": "stdout",
     "output_type": "stream",
     "text": [
      "content=\"로제가 최근 발표한 신곡은 '넘버 원 걸 (number one girl)'입니다. 이 곡은 2024년 11월 22일에 음원과 뮤직비디오가 공개되었습니다.\" additional_kwargs={'refusal': None} response_metadata={'token_usage': {'completion_tokens': 47, 'prompt_tokens': 528, 'total_tokens': 575, 'completion_tokens_details': {'accepted_prediction_tokens': 0, 'audio_tokens': 0, 'reasoning_tokens': 0, 'rejected_prediction_tokens': 0}, 'prompt_tokens_details': {'audio_tokens': 0, 'cached_tokens': 0}}, 'model_name': 'gpt-4o-mini-2024-07-18', 'system_fingerprint': 'fp_34a54ae93c', 'id': 'chatcmpl-C1rBlLErp95UlOsElcG3SDyZvYRh1', 'service_tier': 'default', 'finish_reason': 'stop', 'logprobs': None} id='run--01262ab2-f431-4686-940e-647fdedc9ecb-0' usage_metadata={'input_tokens': 528, 'output_tokens': 47, 'total_tokens': 575, 'input_token_details': {'audio': 0, 'cache_read': 0}, 'output_token_details': {'audio': 0, 'reasoning': 0}}\n"
     ]
    }
   ],
   "source": [
    "from langchain.memory import ChatMessageHistory\n",
    "\n",
    "chat_history = ChatMessageHistory()\n",
    "chat_history.add_user_message(\"요즘 로제가 발표한 신곡은 무엇인가요?\")\n",
    "\n",
    "answer = document_chain.invoke({\n",
    "    \"messages\": chat_history.messages,\n",
    "    \"context\": docs\n",
    "})\n",
    "\n",
    "chat_history.add_ai_message(answer)\n",
    "print(answer)\n"
   ]
  },
  {
   "cell_type": "code",
   "execution_count": null,
   "id": "cf29a2b4",
   "metadata": {},
   "outputs": [],
   "source": []
  }
 ],
 "metadata": {
  "kernelspec": {
   "display_name": ".venv",
   "language": "python",
   "name": "python3"
  },
  "language_info": {
   "codemirror_mode": {
    "name": "ipython",
    "version": 3
   },
   "file_extension": ".py",
   "mimetype": "text/x-python",
   "name": "python",
   "nbconvert_exporter": "python",
   "pygments_lexer": "ipython3",
   "version": "3.11.13"
  }
 },
 "nbformat": 4,
 "nbformat_minor": 5
}
